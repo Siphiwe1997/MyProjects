{
 "cells": [
  {
   "cell_type": "code",
   "execution_count": 1,
   "id": "f2c695e4-183c-4e18-82e0-8950996b557c",
   "metadata": {},
   "outputs": [],
   "source": [
    "import tensorflow as tf\n",
    "import matplotlib.pyplot as plt"
   ]
  },
  {
   "cell_type": "code",
   "execution_count": 2,
   "id": "13020621-baac-4181-9602-58e13f1d25aa",
   "metadata": {},
   "outputs": [],
   "source": [
    "# Generate test data\n",
    "test_x = tf.range(1, 10, 0.1)\n",
    "test_y = (test_x * tf.math.log(test_x)) ** 3 / 2\n",
    "test_y = tf.reshape(test_y, shape=(test_y.shape[0], 1))"
   ]
  },
  {
   "cell_type": "code",
   "execution_count": 3,
   "id": "01306b82-5bc1-4927-9eb9-97c767532ef4",
   "metadata": {},
   "outputs": [
    {
     "data": {
      "text/plain": [
       "(72, 72, 18, 18)"
      ]
     },
     "execution_count": 3,
     "metadata": {},
     "output_type": "execute_result"
    }
   ],
   "source": [
    "#3 data set for machine learning models\n",
    "#Split the data into test set and train set\n",
    "x_train = test_x[:72]\n",
    "y_train = test_y[:72]\n",
    "\n",
    "x_test = test_x[72:]\n",
    "y_test = test_y[72:]\n",
    "y_train = tf.reshape(y_train, shape=(y_train.shape[0], 1))\n",
    "len(x_train), len(y_train), len(x_test), len(x_test)"
   ]
  },
  {
   "cell_type": "code",
   "execution_count": 4,
   "id": "71dfc901-68ba-4b0f-8744-a8ebafd68ca7",
   "metadata": {},
   "outputs": [
    {
     "name": "stdout",
     "output_type": "stream",
     "text": [
      "Epoch 1/100\n",
      "3/3 [==============================] - 1s 9ms/step - loss: 508.9158 - mae: 508.9158\n",
      "Epoch 2/100\n",
      "3/3 [==============================] - 0s 6ms/step - loss: 507.5889 - mae: 507.5889\n",
      "Epoch 3/100\n",
      "3/3 [==============================] - 0s 6ms/step - loss: 506.4362 - mae: 506.4362\n",
      "Epoch 4/100\n",
      "3/3 [==============================] - 0s 8ms/step - loss: 505.3167 - mae: 505.3167\n",
      "Epoch 5/100\n",
      "3/3 [==============================] - 0s 7ms/step - loss: 504.1289 - mae: 504.1289\n",
      "Epoch 6/100\n",
      "3/3 [==============================] - 0s 5ms/step - loss: 502.6508 - mae: 502.6508\n",
      "Epoch 7/100\n",
      "3/3 [==============================] - 0s 5ms/step - loss: 501.1747 - mae: 501.1747\n",
      "Epoch 8/100\n",
      "3/3 [==============================] - 0s 4ms/step - loss: 499.4065 - mae: 499.4065\n",
      "Epoch 9/100\n",
      "3/3 [==============================] - 0s 4ms/step - loss: 497.2703 - mae: 497.2703\n",
      "Epoch 10/100\n",
      "3/3 [==============================] - 0s 4ms/step - loss: 494.6654 - mae: 494.6654\n",
      "Epoch 11/100\n",
      "3/3 [==============================] - 0s 5ms/step - loss: 492.0439 - mae: 492.0439\n",
      "Epoch 12/100\n",
      "3/3 [==============================] - 0s 3ms/step - loss: 488.7474 - mae: 488.7474\n",
      "Epoch 13/100\n",
      "3/3 [==============================] - 0s 2ms/step - loss: 484.9655 - mae: 484.9655\n",
      "Epoch 14/100\n",
      "3/3 [==============================] - 0s 6ms/step - loss: 481.0819 - mae: 481.0819\n",
      "Epoch 15/100\n",
      "3/3 [==============================] - 0s 3ms/step - loss: 476.2292 - mae: 476.2292\n",
      "Epoch 16/100\n",
      "3/3 [==============================] - 0s 2ms/step - loss: 470.8678 - mae: 470.8678\n",
      "Epoch 17/100\n",
      "3/3 [==============================] - 0s 3ms/step - loss: 464.2223 - mae: 464.2223\n",
      "Epoch 18/100\n",
      "3/3 [==============================] - 0s 0s/step - loss: 457.3029 - mae: 457.3029\n",
      "Epoch 19/100\n",
      "3/3 [==============================] - 0s 5ms/step - loss: 450.0111 - mae: 450.0111\n",
      "Epoch 20/100\n",
      "3/3 [==============================] - 0s 6ms/step - loss: 443.4094 - mae: 443.4094\n",
      "Epoch 21/100\n",
      "3/3 [==============================] - 0s 5ms/step - loss: 435.6272 - mae: 435.6272\n",
      "Epoch 22/100\n",
      "3/3 [==============================] - 0s 6ms/step - loss: 427.5910 - mae: 427.5910\n",
      "Epoch 23/100\n",
      "3/3 [==============================] - 0s 4ms/step - loss: 421.1493 - mae: 421.1493\n",
      "Epoch 24/100\n",
      "3/3 [==============================] - 0s 7ms/step - loss: 413.2748 - mae: 413.2748\n",
      "Epoch 25/100\n",
      "3/3 [==============================] - 0s 5ms/step - loss: 405.0142 - mae: 405.0142\n",
      "Epoch 26/100\n",
      "3/3 [==============================] - 0s 5ms/step - loss: 396.9298 - mae: 396.9298\n",
      "Epoch 27/100\n",
      "3/3 [==============================] - 0s 3ms/step - loss: 388.9008 - mae: 388.9008\n",
      "Epoch 28/100\n",
      "3/3 [==============================] - 0s 2ms/step - loss: 384.8622 - mae: 384.8622\n",
      "Epoch 29/100\n",
      "3/3 [==============================] - 0s 0s/step - loss: 380.6281 - mae: 380.6281\n",
      "Epoch 30/100\n",
      "3/3 [==============================] - 0s 5ms/step - loss: 377.1444 - mae: 377.1444\n",
      "Epoch 31/100\n",
      "3/3 [==============================] - 0s 2ms/step - loss: 375.3565 - mae: 375.3565\n",
      "Epoch 32/100\n",
      "3/3 [==============================] - 0s 6ms/step - loss: 373.7339 - mae: 373.7339\n",
      "Epoch 33/100\n",
      "3/3 [==============================] - 0s 5ms/step - loss: 372.5934 - mae: 372.5934\n",
      "Epoch 34/100\n",
      "3/3 [==============================] - 0s 7ms/step - loss: 371.8830 - mae: 371.8830\n",
      "Epoch 35/100\n",
      "3/3 [==============================] - 0s 4ms/step - loss: 369.9846 - mae: 369.9846\n",
      "Epoch 36/100\n",
      "3/3 [==============================] - 0s 2ms/step - loss: 369.6134 - mae: 369.6134\n",
      "Epoch 37/100\n",
      "3/3 [==============================] - 0s 3ms/step - loss: 368.8312 - mae: 368.8312\n",
      "Epoch 38/100\n",
      "3/3 [==============================] - 0s 9ms/step - loss: 365.4172 - mae: 365.4172\n",
      "Epoch 39/100\n",
      "3/3 [==============================] - 0s 5ms/step - loss: 364.1456 - mae: 364.1456\n",
      "Epoch 40/100\n",
      "3/3 [==============================] - 0s 5ms/step - loss: 364.0406 - mae: 364.0406\n",
      "Epoch 41/100\n",
      "3/3 [==============================] - 0s 4ms/step - loss: 363.0543 - mae: 363.0543\n",
      "Epoch 42/100\n",
      "3/3 [==============================] - 0s 5ms/step - loss: 363.5635 - mae: 363.5635\n",
      "Epoch 43/100\n",
      "3/3 [==============================] - 0s 9ms/step - loss: 361.9261 - mae: 361.9261\n",
      "Epoch 44/100\n",
      "3/3 [==============================] - 0s 3ms/step - loss: 361.6351 - mae: 361.6351\n",
      "Epoch 45/100\n",
      "3/3 [==============================] - 0s 2ms/step - loss: 361.3466 - mae: 361.3466\n",
      "Epoch 46/100\n",
      "3/3 [==============================] - 0s 2ms/step - loss: 360.3911 - mae: 360.3911\n",
      "Epoch 47/100\n",
      "3/3 [==============================] - 0s 6ms/step - loss: 359.7405 - mae: 359.7405\n",
      "Epoch 48/100\n",
      "3/3 [==============================] - 0s 7ms/step - loss: 359.4979 - mae: 359.4979\n",
      "Epoch 49/100\n",
      "3/3 [==============================] - 0s 5ms/step - loss: 359.2444 - mae: 359.2444\n",
      "Epoch 50/100\n",
      "3/3 [==============================] - 0s 6ms/step - loss: 359.1591 - mae: 359.1591\n",
      "Epoch 51/100\n",
      "3/3 [==============================] - 0s 5ms/step - loss: 358.5749 - mae: 358.5749\n",
      "Epoch 52/100\n",
      "3/3 [==============================] - 0s 3ms/step - loss: 358.6107 - mae: 358.6107\n",
      "Epoch 53/100\n",
      "3/3 [==============================] - 0s 6ms/step - loss: 358.1832 - mae: 358.1832\n",
      "Epoch 54/100\n",
      "3/3 [==============================] - 0s 9ms/step - loss: 357.5309 - mae: 357.5309\n",
      "Epoch 55/100\n",
      "3/3 [==============================] - 0s 5ms/step - loss: 357.1841 - mae: 357.1841\n",
      "Epoch 56/100\n",
      "3/3 [==============================] - 0s 2ms/step - loss: 356.8491 - mae: 356.8491\n",
      "Epoch 57/100\n",
      "3/3 [==============================] - 0s 2ms/step - loss: 357.1440 - mae: 357.1440\n",
      "Epoch 58/100\n",
      "3/3 [==============================] - 0s 846us/step - loss: 356.7798 - mae: 356.7798\n",
      "Epoch 59/100\n",
      "3/3 [==============================] - 0s 4ms/step - loss: 356.0036 - mae: 356.0036\n",
      "Epoch 60/100\n",
      "3/3 [==============================] - 0s 4ms/step - loss: 355.2698 - mae: 355.2698\n",
      "Epoch 61/100\n",
      "3/3 [==============================] - 0s 2ms/step - loss: 355.3412 - mae: 355.3412\n",
      "Epoch 62/100\n",
      "3/3 [==============================] - 0s 3ms/step - loss: 355.1376 - mae: 355.1376\n",
      "Epoch 63/100\n",
      "3/3 [==============================] - 0s 6ms/step - loss: 354.3601 - mae: 354.3601\n",
      "Epoch 64/100\n",
      "3/3 [==============================] - 0s 0s/step - loss: 354.1303 - mae: 354.1303\n",
      "Epoch 65/100\n",
      "3/3 [==============================] - 0s 4ms/step - loss: 353.8868 - mae: 353.8868\n",
      "Epoch 66/100\n",
      "3/3 [==============================] - 0s 9ms/step - loss: 353.8463 - mae: 353.8463\n",
      "Epoch 67/100\n",
      "3/3 [==============================] - 0s 4ms/step - loss: 352.6640 - mae: 352.6640\n",
      "Epoch 68/100\n",
      "3/3 [==============================] - 0s 4ms/step - loss: 352.8104 - mae: 352.8104\n",
      "Epoch 69/100\n",
      "3/3 [==============================] - 0s 4ms/step - loss: 352.1832 - mae: 352.1832\n",
      "Epoch 70/100\n",
      "3/3 [==============================] - 0s 4ms/step - loss: 351.8073 - mae: 351.8073\n",
      "Epoch 71/100\n",
      "3/3 [==============================] - 0s 9ms/step - loss: 350.9907 - mae: 350.9907\n",
      "Epoch 72/100\n",
      "3/3 [==============================] - 0s 0s/step - loss: 350.6524 - mae: 350.6524\n",
      "Epoch 73/100\n",
      "3/3 [==============================] - 0s 3ms/step - loss: 350.3071 - mae: 350.3071\n",
      "Epoch 74/100\n",
      "3/3 [==============================] - 0s 5ms/step - loss: 350.4312 - mae: 350.4312\n",
      "Epoch 75/100\n",
      "3/3 [==============================] - 0s 6ms/step - loss: 350.3521 - mae: 350.3521\n",
      "Epoch 76/100\n",
      "3/3 [==============================] - 0s 5ms/step - loss: 350.1495 - mae: 350.1495\n",
      "Epoch 77/100\n",
      "3/3 [==============================] - 0s 5ms/step - loss: 349.9049 - mae: 349.9049\n",
      "Epoch 78/100\n",
      "3/3 [==============================] - 0s 4ms/step - loss: 349.0101 - mae: 349.0101\n",
      "Epoch 79/100\n",
      "3/3 [==============================] - 0s 0s/step - loss: 347.9424 - mae: 347.9424\n",
      "Epoch 80/100\n",
      "3/3 [==============================] - 0s 5ms/step - loss: 347.1999 - mae: 347.1999\n",
      "Epoch 81/100\n",
      "3/3 [==============================] - 0s 0s/step - loss: 347.8278 - mae: 347.8278\n",
      "Epoch 82/100\n",
      "3/3 [==============================] - 0s 5ms/step - loss: 346.5194 - mae: 346.5194\n",
      "Epoch 83/100\n",
      "3/3 [==============================] - 0s 6ms/step - loss: 346.7199 - mae: 346.7199\n",
      "Epoch 84/100\n",
      "3/3 [==============================] - 0s 3ms/step - loss: 346.0006 - mae: 346.0006\n",
      "Epoch 85/100\n",
      "3/3 [==============================] - 0s 6ms/step - loss: 345.9016 - mae: 345.9016\n",
      "Epoch 86/100\n",
      "3/3 [==============================] - 0s 5ms/step - loss: 345.7318 - mae: 345.7318\n",
      "Epoch 87/100\n",
      "3/3 [==============================] - 0s 3ms/step - loss: 345.4973 - mae: 345.4973\n",
      "Epoch 88/100\n",
      "3/3 [==============================] - 0s 5ms/step - loss: 344.9111 - mae: 344.9111\n",
      "Epoch 89/100\n",
      "3/3 [==============================] - 0s 5ms/step - loss: 344.1997 - mae: 344.1997\n",
      "Epoch 90/100\n",
      "3/3 [==============================] - 0s 4ms/step - loss: 344.0166 - mae: 344.0166\n",
      "Epoch 91/100\n",
      "3/3 [==============================] - 0s 7ms/step - loss: 344.9536 - mae: 344.9536\n",
      "Epoch 92/100\n",
      "3/3 [==============================] - 0s 4ms/step - loss: 342.0708 - mae: 342.0708\n",
      "Epoch 93/100\n",
      "3/3 [==============================] - 0s 5ms/step - loss: 341.4420 - mae: 341.4420\n",
      "Epoch 94/100\n",
      "3/3 [==============================] - 0s 5ms/step - loss: 341.2488 - mae: 341.2488\n",
      "Epoch 95/100\n",
      "3/3 [==============================] - 0s 3ms/step - loss: 342.4046 - mae: 342.4046\n",
      "Epoch 96/100\n",
      "3/3 [==============================] - 0s 5ms/step - loss: 339.8412 - mae: 339.8412\n",
      "Epoch 97/100\n",
      "3/3 [==============================] - 0s 2ms/step - loss: 339.4158 - mae: 339.4158\n",
      "Epoch 98/100\n",
      "3/3 [==============================] - 0s 3ms/step - loss: 338.8608 - mae: 338.8608\n",
      "Epoch 99/100\n",
      "3/3 [==============================] - 0s 6ms/step - loss: 338.5450 - mae: 338.5450\n",
      "Epoch 100/100\n",
      "3/3 [==============================] - 0s 3ms/step - loss: 337.1768 - mae: 337.1768\n"
     ]
    },
    {
     "data": {
      "text/plain": [
       "<keras.callbacks.History at 0x1f6c7c9fca0>"
      ]
     },
     "execution_count": 4,
     "metadata": {},
     "output_type": "execute_result"
    }
   ],
   "source": [
    "#Create a model\n",
    "tf.random.set_seed(42)\n",
    "model_00 = tf.keras.Sequential([\n",
    "    tf.keras.layers.Dense(1, input_shape=[1]),\n",
    "    tf.keras.layers.Dense(1)\n",
    "])\n",
    "\n",
    "#Compile a model\n",
    "model_00.compile(\n",
    "    loss=tf.keras.losses.mae,\n",
    "    optimizer =tf.keras.optimizers.SGD(),\n",
    "    metrics=[\"mae\"])\n",
    "\n",
    "#Fit the model\n",
    "model_00.fit(x_train, y_train, epochs=100)"
   ]
  },
  {
   "cell_type": "code",
   "execution_count": 5,
   "id": "fc9c83ce-ae0a-4336-a007-a299565043db",
   "metadata": {},
   "outputs": [
    {
     "name": "stdout",
     "output_type": "stream",
     "text": [
      "3/3 [==============================] - 0s 3ms/step - loss: 336.4569 - mae: 336.4569\n"
     ]
    },
    {
     "data": {
      "text/plain": [
       "[336.4569091796875, 336.4569091796875]"
      ]
     },
     "execution_count": 5,
     "metadata": {},
     "output_type": "execute_result"
    }
   ],
   "source": [
    "model_00.evaluate(x_train, y_train)"
   ]
  },
  {
   "cell_type": "code",
   "execution_count": 6,
   "id": "30e9441d-e11d-448d-84b3-f67ef06001bd",
   "metadata": {},
   "outputs": [
    {
     "name": "stdout",
     "output_type": "stream",
     "text": [
      "1/1 [==============================] - 0s 205ms/step\n"
     ]
    },
    {
     "data": {
      "text/plain": [
       "array([[776.8049 ],\n",
       "       [787.19434],\n",
       "       [797.58374],\n",
       "       [807.97327],\n",
       "       [818.36273],\n",
       "       [828.75214],\n",
       "       [839.1416 ],\n",
       "       [849.531  ],\n",
       "       [859.92053],\n",
       "       [870.30994],\n",
       "       [880.6994 ],\n",
       "       [891.0889 ],\n",
       "       [901.4783 ],\n",
       "       [911.8678 ],\n",
       "       [922.2572 ],\n",
       "       [932.64667],\n",
       "       [943.0361 ],\n",
       "       [953.4256 ]], dtype=float32)"
      ]
     },
     "execution_count": 6,
     "metadata": {},
     "output_type": "execute_result"
    }
   ],
   "source": [
    "y_pred_1 = model_00.predict(x_test)\n",
    "y_pred_1"
   ]
  },
  {
   "cell_type": "code",
   "execution_count": 7,
   "id": "bfda3195-1b2b-445c-b828-7eb919c5309b",
   "metadata": {},
   "outputs": [
    {
     "data": {
      "text/plain": [
       "<tf.Tensor: shape=(18, 1), dtype=float32, numpy=\n",
       "array([[2568.2112],\n",
       "       [2709.615 ],\n",
       "       [2856.6938],\n",
       "       [3009.591 ],\n",
       "       [3168.454 ],\n",
       "       [3333.4287],\n",
       "       [3504.6655],\n",
       "       [3682.3127],\n",
       "       [3866.5217],\n",
       "       [4057.4487],\n",
       "       [4255.2466],\n",
       "       [4460.0703],\n",
       "       [4672.08  ],\n",
       "       [4891.4336],\n",
       "       [5118.2925],\n",
       "       [5352.8184],\n",
       "       [5595.1753],\n",
       "       [5845.5264]], dtype=float32)>"
      ]
     },
     "execution_count": 7,
     "metadata": {},
     "output_type": "execute_result"
    }
   ],
   "source": [
    "y_test"
   ]
  },
  {
   "cell_type": "code",
   "execution_count": 8,
   "id": "520e11c1-4965-4271-91ee-5da35c06c534",
   "metadata": {},
   "outputs": [],
   "source": [
    "#Functions for mae and mse\n",
    "def mae(y_true, y_pred):\n",
    "    return tf.math.reduce_mean(tf.metrics.mean_absolute_error(y_true, y_pred)).numpy()\n",
    "    \n",
    "def mse(y_true, y_pred):\n",
    "    return tf.math.reduce_mean(tf.metrics.mean_squared_error(y_true, y_pred)).numpy()\n",
    "\n",
    "#Plot function\n",
    "def plot_preds(train_data=x_train, train_labels=y_train,\n",
    "              test_data=x_test, test_labels=y_test,\n",
    "              preds=y_pred_1):\n",
    "    plt.figure(figsize=(10, 7))\n",
    "    #Plot training in blue\n",
    "    plt.scatter(train_data, train_labels, c=\"b\",label=\"Training data\")\n",
    "    #Plot testing data in green\n",
    "    plt.scatter(test_data, test_labels, c=\"g\", label=\"Testing data\")\n",
    "    #Plot model's predictions in red\n",
    "    plt.scatter(test_data, preds, c=\"r\", label=\"Predictions\")\n",
    "    #Show legend\n",
    "    plt.legend();"
   ]
  },
  {
   "cell_type": "code",
   "execution_count": 9,
   "id": "73b61b49-a7d8-4758-8bbd-054b8123a34d",
   "metadata": {},
   "outputs": [
    {
     "data": {
      "text/plain": [
       "(3187.5286, 11056370.0)"
      ]
     },
     "execution_count": 9,
     "metadata": {},
     "output_type": "execute_result"
    }
   ],
   "source": [
    "#Calculate model_1 evaluation metrics\n",
    "mae_1 = mae(y_test, y_pred_1)\n",
    "mse_1 = mse(y_test, y_pred_1)\n",
    "mae_1, mse_1"
   ]
  },
  {
   "cell_type": "code",
   "execution_count": 10,
   "id": "69969e73-12e0-4cdd-b313-db8fb85bc350",
   "metadata": {},
   "outputs": [
    {
     "name": "stdout",
     "output_type": "stream",
     "text": [
      "Epoch 1/100\n",
      "3/3 [==============================] - 1s 7ms/step - loss: 511.0794 - mse: 711747.6875\n",
      "Epoch 2/100\n",
      "3/3 [==============================] - 0s 5ms/step - loss: 508.5625 - mse: 707879.6250\n",
      "Epoch 3/100\n",
      "3/3 [==============================] - 0s 3ms/step - loss: 506.4001 - mse: 704330.8750\n",
      "Epoch 4/100\n",
      "3/3 [==============================] - 0s 5ms/step - loss: 504.4596 - mse: 701192.8750\n",
      "Epoch 5/100\n",
      "3/3 [==============================] - 0s 6ms/step - loss: 502.4741 - mse: 697640.4375\n",
      "Epoch 6/100\n",
      "3/3 [==============================] - 0s 5ms/step - loss: 500.0907 - mse: 693580.5625\n",
      "Epoch 7/100\n",
      "3/3 [==============================] - 0s 3ms/step - loss: 497.8578 - mse: 689692.6250\n",
      "Epoch 8/100\n",
      "3/3 [==============================] - 0s 5ms/step - loss: 495.1528 - mse: 684602.7500\n",
      "Epoch 9/100\n",
      "3/3 [==============================] - 0s 4ms/step - loss: 491.9478 - mse: 678438.3125\n",
      "Epoch 10/100\n",
      "3/3 [==============================] - 0s 7ms/step - loss: 488.1207 - mse: 671292.3125\n",
      "Epoch 11/100\n",
      "3/3 [==============================] - 0s 5ms/step - loss: 484.4406 - mse: 664071.0000\n",
      "Epoch 12/100\n",
      "3/3 [==============================] - 0s 4ms/step - loss: 479.8928 - mse: 654918.0000\n",
      "Epoch 13/100\n",
      "3/3 [==============================] - 0s 0s/step - loss: 474.7829 - mse: 643944.0000\n",
      "Epoch 14/100\n",
      "3/3 [==============================] - 0s 8ms/step - loss: 469.7112 - mse: 633485.9375\n",
      "Epoch 15/100\n",
      "3/3 [==============================] - 0s 9ms/step - loss: 463.5188 - mse: 620203.7500\n",
      "Epoch 16/100\n",
      "3/3 [==============================] - 0s 5ms/step - loss: 456.8975 - mse: 605587.3125\n",
      "Epoch 17/100\n",
      "3/3 [==============================] - 0s 7ms/step - loss: 449.0311 - mse: 587678.8750\n",
      "Epoch 18/100\n",
      "3/3 [==============================] - 0s 4ms/step - loss: 441.0067 - mse: 568339.8750\n",
      "Epoch 19/100\n",
      "3/3 [==============================] - 0s 10ms/step - loss: 432.9969 - mse: 548321.0625\n",
      "Epoch 20/100\n",
      "3/3 [==============================] - 0s 3ms/step - loss: 426.0598 - mse: 529204.7500\n",
      "Epoch 21/100\n",
      "3/3 [==============================] - 0s 3ms/step - loss: 417.7922 - mse: 508233.2188\n",
      "Epoch 22/100\n",
      "3/3 [==============================] - 0s 3ms/step - loss: 409.7025 - mse: 483487.8438\n",
      "Epoch 23/100\n",
      "3/3 [==============================] - 0s 5ms/step - loss: 403.9346 - mse: 465878.9375\n",
      "Epoch 24/100\n",
      "3/3 [==============================] - 0s 6ms/step - loss: 397.4323 - mse: 447588.6875\n",
      "Epoch 25/100\n",
      "3/3 [==============================] - 0s 5ms/step - loss: 390.5167 - mse: 420421.9375\n",
      "Epoch 26/100\n",
      "3/3 [==============================] - 0s 4ms/step - loss: 386.0968 - mse: 405339.5312\n",
      "Epoch 27/100\n",
      "3/3 [==============================] - 0s 6ms/step - loss: 380.5114 - mse: 382313.0000\n",
      "Epoch 28/100\n",
      "3/3 [==============================] - 0s 7ms/step - loss: 377.3233 - mse: 371391.5625\n",
      "Epoch 29/100\n",
      "3/3 [==============================] - 0s 8ms/step - loss: 374.7904 - mse: 360533.2500\n",
      "Epoch 30/100\n",
      "3/3 [==============================] - 0s 4ms/step - loss: 372.0302 - mse: 344836.5625\n",
      "Epoch 31/100\n",
      "3/3 [==============================] - 0s 2ms/step - loss: 370.6747 - mse: 333562.3750\n",
      "Epoch 32/100\n",
      "3/3 [==============================] - 0s 5ms/step - loss: 369.9683 - mse: 335586.5000\n",
      "Epoch 33/100\n",
      "3/3 [==============================] - 0s 5ms/step - loss: 369.2550 - mse: 331709.3750\n",
      "Epoch 34/100\n",
      "3/3 [==============================] - 0s 2ms/step - loss: 368.7494 - mse: 333377.1875\n",
      "Epoch 35/100\n",
      "3/3 [==============================] - 0s 4ms/step - loss: 367.4334 - mse: 323427.0312\n",
      "Epoch 36/100\n",
      "3/3 [==============================] - 0s 4ms/step - loss: 368.2723 - mse: 330510.2188\n",
      "Epoch 37/100\n",
      "3/3 [==============================] - 0s 6ms/step - loss: 367.9033 - mse: 331732.7500\n",
      "Epoch 38/100\n",
      "3/3 [==============================] - 0s 9ms/step - loss: 364.7202 - mse: 312051.8125\n",
      "Epoch 39/100\n",
      "3/3 [==============================] - 0s 4ms/step - loss: 363.4796 - mse: 298502.7812\n",
      "Epoch 40/100\n",
      "3/3 [==============================] - 0s 3ms/step - loss: 363.5201 - mse: 306242.2500\n",
      "Epoch 41/100\n",
      "3/3 [==============================] - 0s 6ms/step - loss: 362.5717 - mse: 295814.8125\n",
      "Epoch 42/100\n",
      "3/3 [==============================] - 0s 4ms/step - loss: 362.9218 - mse: 298670.4375\n",
      "Epoch 43/100\n",
      "3/3 [==============================] - 0s 8ms/step - loss: 361.5527 - mse: 294074.5625\n",
      "Epoch 44/100\n",
      "3/3 [==============================] - 0s 9ms/step - loss: 361.2517 - mse: 288506.5312\n",
      "Epoch 45/100\n",
      "3/3 [==============================] - 0s 7ms/step - loss: 360.9570 - mse: 290981.5938\n",
      "Epoch 46/100\n",
      "3/3 [==============================] - 0s 0s/step - loss: 359.9598 - mse: 272926.9375\n",
      "Epoch 47/100\n",
      "3/3 [==============================] - 0s 2ms/step - loss: 359.3037 - mse: 271527.2812\n",
      "Epoch 48/100\n",
      "3/3 [==============================] - 0s 6ms/step - loss: 359.0567 - mse: 272596.6250\n",
      "Epoch 49/100\n",
      "3/3 [==============================] - 0s 2ms/step - loss: 358.8006 - mse: 276128.7500\n",
      "Epoch 50/100\n",
      "3/3 [==============================] - 0s 8ms/step - loss: 358.7099 - mse: 276468.0000\n",
      "Epoch 51/100\n",
      "3/3 [==============================] - 0s 9ms/step - loss: 358.1171 - mse: 270226.6875\n",
      "Epoch 52/100\n",
      "3/3 [==============================] - 0s 8ms/step - loss: 358.1282 - mse: 267240.8125\n",
      "Epoch 53/100\n",
      "3/3 [==============================] - 0s 3ms/step - loss: 357.7162 - mse: 272438.3750\n",
      "Epoch 54/100\n",
      "3/3 [==============================] - 0s 7ms/step - loss: 357.0583 - mse: 273987.5000\n",
      "Epoch 55/100\n",
      "3/3 [==============================] - 0s 5ms/step - loss: 356.7032 - mse: 269058.0625\n",
      "Epoch 56/100\n",
      "3/3 [==============================] - 0s 8ms/step - loss: 356.3651 - mse: 272247.3125\n",
      "Epoch 57/100\n",
      "3/3 [==============================] - 0s 3ms/step - loss: 356.6552 - mse: 278338.7500\n",
      "Epoch 58/100\n",
      "3/3 [==============================] - 0s 8ms/step - loss: 356.2796 - mse: 265887.3750\n",
      "Epoch 59/100\n",
      "3/3 [==============================] - 0s 4ms/step - loss: 355.4991 - mse: 269808.3438\n",
      "Epoch 60/100\n",
      "3/3 [==============================] - 0s 0s/step - loss: 354.7564 - mse: 267475.0625\n",
      "Epoch 61/100\n",
      "3/3 [==============================] - 0s 0s/step - loss: 354.8205 - mse: 269633.5625\n",
      "Epoch 62/100\n",
      "3/3 [==============================] - 0s 5ms/step - loss: 354.6013 - mse: 257523.1719\n",
      "Epoch 63/100\n",
      "3/3 [==============================] - 0s 4ms/step - loss: 353.8262 - mse: 269068.8750\n",
      "Epoch 64/100\n",
      "3/3 [==============================] - 0s 3ms/step - loss: 353.5921 - mse: 274111.6875\n",
      "Epoch 65/100\n",
      "3/3 [==============================] - 0s 8ms/step - loss: 353.3434 - mse: 277871.6250\n",
      "Epoch 66/100\n",
      "3/3 [==============================] - 0s 1ms/step - loss: 353.2945 - mse: 280522.6250\n",
      "Epoch 67/100\n",
      "3/3 [==============================] - 0s 8ms/step - loss: 352.0963 - mse: 265576.1250\n",
      "Epoch 68/100\n",
      "3/3 [==============================] - 0s 8ms/step - loss: 352.2361 - mse: 266422.2812\n",
      "Epoch 69/100\n",
      "3/3 [==============================] - 0s 5ms/step - loss: 351.5990 - mse: 268424.6250\n",
      "Epoch 70/100\n",
      "3/3 [==============================] - 0s 4ms/step - loss: 351.2187 - mse: 261227.1719\n",
      "Epoch 71/100\n",
      "3/3 [==============================] - 0s 0s/step - loss: 350.3947 - mse: 262396.5938\n",
      "Epoch 72/100\n",
      "3/3 [==============================] - 0s 0s/step - loss: 350.0480 - mse: 261492.1094\n",
      "Epoch 73/100\n",
      "3/3 [==============================] - 0s 0s/step - loss: 349.6844 - mse: 268696.6875\n",
      "Epoch 74/100\n",
      "3/3 [==============================] - 0s 4ms/step - loss: 349.8008 - mse: 267848.7812\n",
      "Epoch 75/100\n",
      "3/3 [==============================] - 0s 8ms/step - loss: 349.7058 - mse: 277945.0312\n",
      "Epoch 76/100\n",
      "3/3 [==============================] - 0s 4ms/step - loss: 349.5021 - mse: 267259.1250\n",
      "Epoch 77/100\n",
      "3/3 [==============================] - 0s 2ms/step - loss: 349.2391 - mse: 283488.7500\n",
      "Epoch 78/100\n",
      "3/3 [==============================] - 0s 4ms/step - loss: 348.3403 - mse: 274458.0625\n",
      "Epoch 79/100\n",
      "3/3 [==============================] - 0s 5ms/step - loss: 347.4230 - mse: 263596.9375\n",
      "Epoch 80/100\n",
      "3/3 [==============================] - 0s 980us/step - loss: 346.4886 - mse: 255897.3125\n",
      "Epoch 81/100\n",
      "3/3 [==============================] - 0s 4ms/step - loss: 347.1059 - mse: 261577.6875\n",
      "Epoch 82/100\n",
      "3/3 [==============================] - 0s 949us/step - loss: 345.7924 - mse: 259916.0781\n",
      "Epoch 83/100\n",
      "3/3 [==============================] - 0s 0s/step - loss: 345.9831 - mse: 255754.8125\n",
      "Epoch 84/100\n",
      "3/3 [==============================] - 0s 4ms/step - loss: 345.3486 - mse: 271747.2188\n",
      "Epoch 85/100\n",
      "3/3 [==============================] - 0s 0s/step - loss: 345.4247 - mse: 272499.6562\n",
      "Epoch 86/100\n",
      "3/3 [==============================] - 0s 0s/step - loss: 344.9817 - mse: 268566.1250\n",
      "Epoch 87/100\n",
      "3/3 [==============================] - 0s 4ms/step - loss: 344.7176 - mse: 280173.6875\n",
      "Epoch 88/100\n",
      "3/3 [==============================] - 0s 6ms/step - loss: 344.1352 - mse: 275331.9062\n",
      "Epoch 89/100\n",
      "3/3 [==============================] - 0s 3ms/step - loss: 343.3882 - mse: 278838.7812\n",
      "Epoch 90/100\n",
      "3/3 [==============================] - 0s 5ms/step - loss: 343.1915 - mse: 277850.5312\n",
      "Epoch 91/100\n",
      "3/3 [==============================] - 0s 1ms/step - loss: 344.1237 - mse: 284569.3750\n",
      "Epoch 92/100\n",
      "3/3 [==============================] - 0s 4ms/step - loss: 341.2305 - mse: 271468.5000\n",
      "Epoch 93/100\n",
      "3/3 [==============================] - 0s 4ms/step - loss: 340.5840 - mse: 263340.5938\n",
      "Epoch 94/100\n",
      "3/3 [==============================] - 0s 4ms/step - loss: 340.3781 - mse: 263272.1875\n",
      "Epoch 95/100\n",
      "3/3 [==============================] - 0s 4ms/step - loss: 341.5638 - mse: 256311.9375\n",
      "Epoch 96/100\n",
      "3/3 [==============================] - 0s 8ms/step - loss: 338.9377 - mse: 260153.2812\n",
      "Epoch 97/100\n",
      "3/3 [==============================] - 0s 5ms/step - loss: 338.4979 - mse: 268325.7188\n",
      "Epoch 98/100\n",
      "3/3 [==============================] - 0s 8ms/step - loss: 337.9252 - mse: 264237.0312\n",
      "Epoch 99/100\n",
      "3/3 [==============================] - 0s 5ms/step - loss: 337.6287 - mse: 252629.3594\n",
      "Epoch 100/100\n",
      "3/3 [==============================] - 0s 3ms/step - loss: 336.2010 - mse: 258670.6406\n"
     ]
    },
    {
     "data": {
      "text/plain": [
       "<keras.callbacks.History at 0x1f6c91cdb40>"
      ]
     },
     "execution_count": 10,
     "metadata": {},
     "output_type": "execute_result"
    }
   ],
   "source": [
    "#Create a model\n",
    "tf.random.set_seed(42)\n",
    "model_01 = tf.keras.Sequential([\n",
    "    tf.keras.layers.Dense(10, input_shape=[1]),\n",
    "    tf.keras.layers.Dense(1)\n",
    "])\n",
    "\n",
    "#Compile a model\n",
    "model_01.compile(\n",
    "    loss=tf.keras.losses.mae,\n",
    "    optimizer =tf.keras.optimizers.SGD(),\n",
    "    metrics=[\"mse\"])\n",
    "\n",
    "#Fit the model\n",
    "model_01.fit(x_train, y_train, epochs=100)"
   ]
  },
  {
   "cell_type": "code",
   "execution_count": 11,
   "id": "a1998c38-827e-40da-8ca7-138bff1f4b33",
   "metadata": {},
   "outputs": [
    {
     "name": "stdout",
     "output_type": "stream",
     "text": [
      "1/1 [==============================] - 0s 110ms/step\n"
     ]
    },
    {
     "data": {
      "text/plain": [
       "array([[779.7463 ],\n",
       "       [790.20575],\n",
       "       [800.66534],\n",
       "       [811.1249 ],\n",
       "       [821.58435],\n",
       "       [832.0438 ],\n",
       "       [842.50336],\n",
       "       [852.9629 ],\n",
       "       [863.42236],\n",
       "       [873.8819 ],\n",
       "       [884.3413 ],\n",
       "       [894.80084],\n",
       "       [905.2604 ],\n",
       "       [915.71985],\n",
       "       [926.1794 ],\n",
       "       [936.639  ],\n",
       "       [947.0984 ],\n",
       "       [957.5579 ]], dtype=float32)"
      ]
     },
     "execution_count": 11,
     "metadata": {},
     "output_type": "execute_result"
    }
   ],
   "source": [
    "y_pred_2 = model_01.predict(x_test)\n",
    "y_pred_2"
   ]
  },
  {
   "cell_type": "code",
   "execution_count": 12,
   "id": "06dae652-2e0b-45ff-aaf3-e8f051e0f207",
   "metadata": {},
   "outputs": [
    {
     "data": {
      "text/plain": [
       "(3183.9917, 11033150.0)"
      ]
     },
     "execution_count": 12,
     "metadata": {},
     "output_type": "execute_result"
    }
   ],
   "source": [
    "#Calculate evaluation metrics\n",
    "mae_2 = mae(y_test, y_pred_2)\n",
    "mse_2 = mse(y_test, y_pred_2)\n",
    "mae_2, mse_2"
   ]
  },
  {
   "cell_type": "code",
   "execution_count": 13,
   "id": "3bb27e3c-7f2c-4410-b27e-0142554f5144",
   "metadata": {},
   "outputs": [
    {
     "data": {
      "text/plain": [
       "<keras.callbacks.History at 0x1f6c93b9930>"
      ]
     },
     "execution_count": 13,
     "metadata": {},
     "output_type": "execute_result"
    }
   ],
   "source": [
    "#Create a model\n",
    "tf.random.set_seed(42)\n",
    "model_02 = tf.keras.Sequential([\n",
    "    tf.keras.layers.Dense(10, input_shape=[1]),\n",
    "    tf.keras.layers.Dense(1)\n",
    "])\n",
    "\n",
    "#Compile a model\n",
    "model_02.compile(\n",
    "    loss=tf.keras.losses.mae,\n",
    "    optimizer =tf.keras.optimizers.SGD(),\n",
    "    metrics=[\"mse\"])\n",
    "\n",
    "#Fit the model\n",
    "model_02.fit(x_train, y_train, epochs=500, verbose=0)"
   ]
  },
  {
   "cell_type": "code",
   "execution_count": 14,
   "id": "075e52b2-0763-4508-8c90-565527871a82",
   "metadata": {},
   "outputs": [
    {
     "name": "stdout",
     "output_type": "stream",
     "text": [
      "1/1 [==============================] - 0s 159ms/step\n"
     ]
    },
    {
     "data": {
      "text/plain": [
       "array([[1115.6296],\n",
       "       [1136.1938],\n",
       "       [1156.7582],\n",
       "       [1177.3224],\n",
       "       [1197.8866],\n",
       "       [1218.4509],\n",
       "       [1239.0151],\n",
       "       [1259.5793],\n",
       "       [1280.1436],\n",
       "       [1300.7078],\n",
       "       [1321.272 ],\n",
       "       [1341.8364],\n",
       "       [1362.4005],\n",
       "       [1382.9647],\n",
       "       [1403.5289],\n",
       "       [1424.0933],\n",
       "       [1444.6575],\n",
       "       [1465.2216]], dtype=float32)"
      ]
     },
     "execution_count": 14,
     "metadata": {},
     "output_type": "execute_result"
    }
   ],
   "source": [
    "y_pred_3 =model_02.predict(x_test)\n",
    "y_pred_3"
   ]
  },
  {
   "cell_type": "code",
   "execution_count": 15,
   "id": "b07fbbc4-508d-42c8-812e-d82dfc843dcd",
   "metadata": {},
   "outputs": [
    {
     "data": {
      "text/plain": [
       "(2762.2178, 8429101.0)"
      ]
     },
     "execution_count": 15,
     "metadata": {},
     "output_type": "execute_result"
    }
   ],
   "source": [
    "mae_3 = mae(y_test, y_pred_3)\n",
    "mse_3 = mse(y_test, y_pred_3)\n",
    "mae_3, mse_3"
   ]
  },
  {
   "cell_type": "code",
   "execution_count": 16,
   "id": "30125838-df7f-4938-8e67-62d14eb07f8c",
   "metadata": {},
   "outputs": [
    {
     "data": {
      "text/html": [
       "<div>\n",
       "<style scoped>\n",
       "    .dataframe tbody tr th:only-of-type {\n",
       "        vertical-align: middle;\n",
       "    }\n",
       "\n",
       "    .dataframe tbody tr th {\n",
       "        vertical-align: top;\n",
       "    }\n",
       "\n",
       "    .dataframe thead th {\n",
       "        text-align: right;\n",
       "    }\n",
       "</style>\n",
       "<table border=\"1\" class=\"dataframe\">\n",
       "  <thead>\n",
       "    <tr style=\"text-align: right;\">\n",
       "      <th></th>\n",
       "      <th>model</th>\n",
       "      <th>mae</th>\n",
       "      <th>mse</th>\n",
       "    </tr>\n",
       "  </thead>\n",
       "  <tbody>\n",
       "    <tr>\n",
       "      <th>0</th>\n",
       "      <td>model_1</td>\n",
       "      <td>3187.528564</td>\n",
       "      <td>1.105637e+07</td>\n",
       "    </tr>\n",
       "    <tr>\n",
       "      <th>1</th>\n",
       "      <td>model_2</td>\n",
       "      <td>3183.991699</td>\n",
       "      <td>1.103315e+07</td>\n",
       "    </tr>\n",
       "    <tr>\n",
       "      <th>2</th>\n",
       "      <td>model_3</td>\n",
       "      <td>2762.217773</td>\n",
       "      <td>2.762218e+03</td>\n",
       "    </tr>\n",
       "  </tbody>\n",
       "</table>\n",
       "</div>"
      ],
      "text/plain": [
       "     model          mae           mse\n",
       "0  model_1  3187.528564  1.105637e+07\n",
       "1  model_2  3183.991699  1.103315e+07\n",
       "2  model_3  2762.217773  2.762218e+03"
      ]
     },
     "execution_count": 16,
     "metadata": {},
     "output_type": "execute_result"
    }
   ],
   "source": [
    "#Comparing the results of our experiments\n",
    "#use pandas to compare our models results using pandas DataFrame\n",
    "import pandas as pd\n",
    "\n",
    "model_results = [[\"model_1\", mae_1, mse_1],\n",
    "                 [\"model_2\", mae_2, mse_2],\n",
    "                 [\"model_3\", mae_3, mae_3]]\n",
    "cols = [\"model\", \"mae\", \"mse\"]\n",
    "all_results =pd.DataFrame(model_results, columns=cols)\n",
    "all_results"
   ]
  },
  {
   "cell_type": "code",
   "execution_count": 17,
   "id": "03c99c13-dffe-4602-910b-b19d56bf98dd",
   "metadata": {},
   "outputs": [
    {
     "name": "stdout",
     "output_type": "stream",
     "text": [
      "Epoch 1/100\n",
      "3/3 [==============================] - 1s 8ms/step - loss: 503.8300 - mse: 699867.1250\n",
      "Epoch 2/100\n",
      "3/3 [==============================] - 0s 7ms/step - loss: 486.1287 - mse: 666573.2500\n",
      "Epoch 3/100\n",
      "3/3 [==============================] - 0s 2ms/step - loss: 449.8206 - mse: 578657.4375\n",
      "Epoch 4/100\n",
      "3/3 [==============================] - 0s 6ms/step - loss: 407.9526 - mse: 448799.3125\n",
      "Epoch 5/100\n",
      "3/3 [==============================] - 0s 4ms/step - loss: 373.7609 - mse: 290434.8750\n",
      "Epoch 6/100\n",
      "3/3 [==============================] - 0s 9ms/step - loss: 389.5590 - mse: 239761.1094\n",
      "Epoch 7/100\n",
      "3/3 [==============================] - 0s 4ms/step - loss: 398.7212 - mse: 223547.1875\n",
      "Epoch 8/100\n",
      "3/3 [==============================] - 0s 5ms/step - loss: 376.7838 - mse: 227406.4688\n",
      "Epoch 9/100\n",
      "3/3 [==============================] - 0s 5ms/step - loss: 364.4771 - mse: 272562.9375\n",
      "Epoch 10/100\n",
      "3/3 [==============================] - 0s 786us/step - loss: 356.0619 - mse: 305462.1562\n",
      "Epoch 11/100\n",
      "3/3 [==============================] - 0s 2ms/step - loss: 353.8904 - mse: 324428.4062\n",
      "Epoch 12/100\n",
      "3/3 [==============================] - 0s 8ms/step - loss: 351.4977 - mse: 338543.1562\n",
      "Epoch 13/100\n",
      "3/3 [==============================] - 0s 4ms/step - loss: 347.2307 - mse: 339993.2812\n",
      "Epoch 14/100\n",
      "3/3 [==============================] - 0s 6ms/step - loss: 337.8046 - mse: 326426.0625\n",
      "Epoch 15/100\n",
      "3/3 [==============================] - 0s 6ms/step - loss: 323.0012 - mse: 292579.2188\n",
      "Epoch 16/100\n",
      "3/3 [==============================] - 0s 7ms/step - loss: 305.9890 - mse: 237409.7812\n",
      "Epoch 17/100\n",
      "3/3 [==============================] - 0s 8ms/step - loss: 295.2079 - mse: 191603.2500\n",
      "Epoch 18/100\n",
      "3/3 [==============================] - 0s 5ms/step - loss: 288.8328 - mse: 160936.9375\n",
      "Epoch 19/100\n",
      "3/3 [==============================] - 0s 4ms/step - loss: 274.9993 - mse: 146447.8125\n",
      "Epoch 20/100\n",
      "3/3 [==============================] - 0s 6ms/step - loss: 258.9115 - mse: 168913.3125\n",
      "Epoch 21/100\n",
      "3/3 [==============================] - 0s 5ms/step - loss: 251.5827 - mse: 198993.5625\n",
      "Epoch 22/100\n",
      "3/3 [==============================] - 0s 5ms/step - loss: 237.8504 - mse: 184833.4062\n",
      "Epoch 23/100\n",
      "3/3 [==============================] - 0s 3ms/step - loss: 214.0264 - mse: 130993.8906\n",
      "Epoch 24/100\n",
      "3/3 [==============================] - 0s 4ms/step - loss: 212.2422 - mse: 96984.3828\n",
      "Epoch 25/100\n",
      "3/3 [==============================] - 0s 6ms/step - loss: 191.2219 - mse: 93192.4062\n",
      "Epoch 26/100\n",
      "3/3 [==============================] - 0s 8ms/step - loss: 183.2341 - mse: 113774.1016\n",
      "Epoch 27/100\n",
      "3/3 [==============================] - 0s 624us/step - loss: 168.4142 - mse: 100491.5938\n",
      "Epoch 28/100\n",
      "3/3 [==============================] - 0s 5ms/step - loss: 162.3439 - mse: 65347.1172\n",
      "Epoch 29/100\n",
      "3/3 [==============================] - 0s 0s/step - loss: 149.3562 - mse: 47345.6797\n",
      "Epoch 30/100\n",
      "3/3 [==============================] - 0s 4ms/step - loss: 136.4496 - mse: 64861.5000\n",
      "Epoch 31/100\n",
      "3/3 [==============================] - 0s 6ms/step - loss: 122.4559 - mse: 32569.7773\n",
      "Epoch 32/100\n",
      "3/3 [==============================] - 0s 4ms/step - loss: 114.5345 - mse: 34428.5977\n",
      "Epoch 33/100\n",
      "3/3 [==============================] - 0s 4ms/step - loss: 101.4738 - mse: 32693.4961\n",
      "Epoch 34/100\n",
      "3/3 [==============================] - 0s 7ms/step - loss: 108.4104 - mse: 21306.5508\n",
      "Epoch 35/100\n",
      "3/3 [==============================] - 0s 1ms/step - loss: 87.1084 - mse: 23296.7949\n",
      "Epoch 36/100\n",
      "3/3 [==============================] - 0s 4ms/step - loss: 78.0081 - mse: 20929.4961\n",
      "Epoch 37/100\n",
      "3/3 [==============================] - 0s 3ms/step - loss: 86.6641 - mse: 17816.7109\n",
      "Epoch 38/100\n",
      "3/3 [==============================] - 0s 5ms/step - loss: 91.2351 - mse: 16250.9492\n",
      "Epoch 39/100\n",
      "3/3 [==============================] - 0s 5ms/step - loss: 84.6756 - mse: 24227.6777\n",
      "Epoch 40/100\n",
      "3/3 [==============================] - 0s 6ms/step - loss: 69.4515 - mse: 16863.3164\n",
      "Epoch 41/100\n",
      "3/3 [==============================] - 0s 6ms/step - loss: 69.5509 - mse: 10578.7549\n",
      "Epoch 42/100\n",
      "3/3 [==============================] - 0s 5ms/step - loss: 50.4615 - mse: 11220.1045\n",
      "Epoch 43/100\n",
      "3/3 [==============================] - 0s 8ms/step - loss: 68.0166 - mse: 11325.0928\n",
      "Epoch 44/100\n",
      "3/3 [==============================] - 0s 9ms/step - loss: 50.9727 - mse: 9577.1787\n",
      "Epoch 45/100\n",
      "3/3 [==============================] - 0s 1ms/step - loss: 50.2440 - mse: 6649.8833\n",
      "Epoch 46/100\n",
      "3/3 [==============================] - 0s 4ms/step - loss: 59.6247 - mse: 18407.1211\n",
      "Epoch 47/100\n",
      "3/3 [==============================] - 0s 2ms/step - loss: 61.7722 - mse: 12365.1123\n",
      "Epoch 48/100\n",
      "3/3 [==============================] - 0s 6ms/step - loss: 81.6876 - mse: 14875.8105\n",
      "Epoch 49/100\n",
      "3/3 [==============================] - 0s 0s/step - loss: 113.1134 - mse: 40827.6953\n",
      "Epoch 50/100\n",
      "3/3 [==============================] - 0s 6ms/step - loss: 80.4883 - mse: 20725.3555\n",
      "Epoch 51/100\n",
      "3/3 [==============================] - 0s 5ms/step - loss: 95.0248 - mse: 19043.4746\n",
      "Epoch 52/100\n",
      "3/3 [==============================] - 0s 6ms/step - loss: 58.1932 - mse: 11830.0869\n",
      "Epoch 53/100\n",
      "3/3 [==============================] - 0s 7ms/step - loss: 58.0142 - mse: 13285.6631\n",
      "Epoch 54/100\n",
      "3/3 [==============================] - 0s 4ms/step - loss: 61.8201 - mse: 9946.4277\n",
      "Epoch 55/100\n",
      "3/3 [==============================] - 0s 8ms/step - loss: 36.8182 - mse: 5563.7480\n",
      "Epoch 56/100\n",
      "3/3 [==============================] - 0s 4ms/step - loss: 49.8920 - mse: 5287.3223\n",
      "Epoch 57/100\n",
      "3/3 [==============================] - 0s 3ms/step - loss: 57.1065 - mse: 14455.2705\n",
      "Epoch 58/100\n",
      "3/3 [==============================] - 0s 5ms/step - loss: 49.1566 - mse: 9116.2207\n",
      "Epoch 59/100\n",
      "3/3 [==============================] - 0s 4ms/step - loss: 76.5052 - mse: 17047.6582\n",
      "Epoch 60/100\n",
      "3/3 [==============================] - 0s 8ms/step - loss: 136.2697 - mse: 45696.5625\n",
      "Epoch 61/100\n",
      "3/3 [==============================] - 0s 5ms/step - loss: 138.2846 - mse: 53644.3711\n",
      "Epoch 62/100\n",
      "3/3 [==============================] - 0s 9ms/step - loss: 63.1562 - mse: 9648.0791\n",
      "Epoch 63/100\n",
      "3/3 [==============================] - 0s 4ms/step - loss: 90.3011 - mse: 18211.7969\n",
      "Epoch 64/100\n",
      "3/3 [==============================] - 0s 0s/step - loss: 70.0326 - mse: 16310.5137\n",
      "Epoch 65/100\n",
      "3/3 [==============================] - 0s 0s/step - loss: 38.6869 - mse: 6100.5391\n",
      "Epoch 66/100\n",
      "3/3 [==============================] - 0s 5ms/step - loss: 58.6132 - mse: 9712.5303\n",
      "Epoch 67/100\n",
      "3/3 [==============================] - 0s 756us/step - loss: 54.9142 - mse: 10426.8076\n",
      "Epoch 68/100\n",
      "3/3 [==============================] - 0s 0s/step - loss: 45.8566 - mse: 5472.3320\n",
      "Epoch 69/100\n",
      "3/3 [==============================] - 0s 2ms/step - loss: 48.4880 - mse: 6622.4502\n",
      "Epoch 70/100\n",
      "3/3 [==============================] - 0s 3ms/step - loss: 32.8923 - mse: 4285.0977\n",
      "Epoch 71/100\n",
      "3/3 [==============================] - 0s 5ms/step - loss: 34.3418 - mse: 3597.5845\n",
      "Epoch 72/100\n",
      "3/3 [==============================] - 0s 4ms/step - loss: 34.2799 - mse: 4550.7168\n",
      "Epoch 73/100\n",
      "3/3 [==============================] - 0s 6ms/step - loss: 29.5664 - mse: 3820.7705\n",
      "Epoch 74/100\n",
      "3/3 [==============================] - 0s 2ms/step - loss: 28.8458 - mse: 3180.9397\n",
      "Epoch 75/100\n",
      "3/3 [==============================] - 0s 3ms/step - loss: 32.5412 - mse: 4258.9966\n",
      "Epoch 76/100\n",
      "3/3 [==============================] - 0s 0s/step - loss: 47.8381 - mse: 5948.9707\n",
      "Epoch 77/100\n",
      "3/3 [==============================] - 0s 5ms/step - loss: 32.2048 - mse: 2527.7759\n",
      "Epoch 78/100\n",
      "3/3 [==============================] - 0s 6ms/step - loss: 33.0972 - mse: 3947.0334\n",
      "Epoch 79/100\n",
      "3/3 [==============================] - 0s 0s/step - loss: 27.0340 - mse: 1946.1294\n",
      "Epoch 80/100\n",
      "3/3 [==============================] - 0s 4ms/step - loss: 32.7733 - mse: 2720.3909\n",
      "Epoch 81/100\n",
      "3/3 [==============================] - 0s 6ms/step - loss: 33.3202 - mse: 2793.8572\n",
      "Epoch 82/100\n",
      "3/3 [==============================] - 0s 7ms/step - loss: 30.6781 - mse: 2209.7148\n",
      "Epoch 83/100\n",
      "3/3 [==============================] - 0s 6ms/step - loss: 32.4539 - mse: 2780.4492\n",
      "Epoch 84/100\n",
      "3/3 [==============================] - 0s 6ms/step - loss: 37.1612 - mse: 4622.6782\n",
      "Epoch 85/100\n",
      "3/3 [==============================] - 0s 0s/step - loss: 47.3026 - mse: 4482.7866\n",
      "Epoch 86/100\n",
      "3/3 [==============================] - 0s 0s/step - loss: 63.6631 - mse: 12240.0713\n",
      "Epoch 87/100\n",
      "3/3 [==============================] - 0s 6ms/step - loss: 48.1373 - mse: 6518.8975\n",
      "Epoch 88/100\n",
      "3/3 [==============================] - 0s 5ms/step - loss: 26.2938 - mse: 1855.7227\n",
      "Epoch 89/100\n",
      "3/3 [==============================] - 0s 6ms/step - loss: 25.1773 - mse: 1476.6019\n",
      "Epoch 90/100\n",
      "3/3 [==============================] - 0s 4ms/step - loss: 22.7882 - mse: 1133.2504\n",
      "Epoch 91/100\n",
      "3/3 [==============================] - 0s 6ms/step - loss: 22.6076 - mse: 1096.9260\n",
      "Epoch 92/100\n",
      "3/3 [==============================] - 0s 7ms/step - loss: 23.5574 - mse: 1099.3961\n",
      "Epoch 93/100\n",
      "3/3 [==============================] - 0s 5ms/step - loss: 25.0360 - mse: 1233.0427\n",
      "Epoch 94/100\n",
      "3/3 [==============================] - 0s 5ms/step - loss: 31.7855 - mse: 2481.0107\n",
      "Epoch 95/100\n",
      "3/3 [==============================] - 0s 5ms/step - loss: 36.5132 - mse: 3759.0959\n",
      "Epoch 96/100\n",
      "3/3 [==============================] - 0s 4ms/step - loss: 28.0832 - mse: 2621.5657\n",
      "Epoch 97/100\n",
      "3/3 [==============================] - 0s 5ms/step - loss: 31.6331 - mse: 2087.5181\n",
      "Epoch 98/100\n",
      "3/3 [==============================] - 0s 4ms/step - loss: 26.9083 - mse: 2092.3701\n",
      "Epoch 99/100\n",
      "3/3 [==============================] - 0s 3ms/step - loss: 57.7119 - mse: 9320.2656\n",
      "Epoch 100/100\n",
      "3/3 [==============================] - 0s 2ms/step - loss: 47.9495 - mse: 5496.4746\n"
     ]
    },
    {
     "data": {
      "text/plain": [
       "<keras.callbacks.History at 0x1f6ca64da50>"
      ]
     },
     "execution_count": 17,
     "metadata": {},
     "output_type": "execute_result"
    }
   ],
   "source": [
    "tf.random.set_seed(42)\n",
    "model_04 = tf.keras.Sequential([\n",
    "    tf.keras.layers.Dense(10, activation=\"relu\", input_shape=[1]),\n",
    "    tf.keras.layers.Dense(10, input_shape=[1]),\n",
    "    tf.keras.layers.Dense(1)\n",
    "])\n",
    "\n",
    "#Compile a model\n",
    "model_04.compile(\n",
    "    loss=tf.keras.losses.mae,\n",
    "    optimizer =tf.keras.optimizers.Adam(learning_rate=0.1),\n",
    "    metrics=[\"mse\"])\n",
    "\n",
    "#Fit the model\n",
    "model_04.fit(x_train, y_train, epochs=100)\n"
   ]
  },
  {
   "cell_type": "code",
   "execution_count": 18,
   "id": "43054d2e-94ba-4d36-b278-6873c60319ba",
   "metadata": {},
   "outputs": [
    {
     "name": "stdout",
     "output_type": "stream",
     "text": [
      "1/1 [==============================] - 0s 125ms/step\n"
     ]
    },
    {
     "data": {
      "text/plain": [
       "array([[2298.758 ],\n",
       "       [2388.5803],\n",
       "       [2478.403 ],\n",
       "       [2568.225 ],\n",
       "       [2658.0476],\n",
       "       [2747.8699],\n",
       "       [2837.6921],\n",
       "       [2927.5144],\n",
       "       [3017.3372],\n",
       "       [3107.1592],\n",
       "       [3196.9817],\n",
       "       [3286.8035],\n",
       "       [3376.626 ],\n",
       "       [3466.4485],\n",
       "       [3556.2708],\n",
       "       [3646.093 ],\n",
       "       [3735.9153],\n",
       "       [3825.738 ]], dtype=float32)"
      ]
     },
     "execution_count": 18,
     "metadata": {},
     "output_type": "execute_result"
    }
   ],
   "source": [
    "y_pred_4 = model_04.predict(x_test)\n",
    "y_pred_4"
   ]
  },
  {
   "cell_type": "code",
   "execution_count": 19,
   "id": "09b2da07-c28f-452b-aca2-5c1afa6e04e0",
   "metadata": {},
   "outputs": [
    {
     "data": {
      "text/plain": [
       "(990.3956, 1269454.9)"
      ]
     },
     "execution_count": 19,
     "metadata": {},
     "output_type": "execute_result"
    }
   ],
   "source": [
    "mae_4 = mae(y_test, y_pred_4)\n",
    "mse_4 = mse(y_test, y_pred_4)\n",
    "mae_4, mse_4"
   ]
  },
  {
   "cell_type": "code",
   "execution_count": 20,
   "id": "0be289f7-b04c-4f91-8375-03ee77b435ed",
   "metadata": {},
   "outputs": [
    {
     "name": "stdout",
     "output_type": "stream",
     "text": [
      "Epoch 1/100\n",
      "3/3 [==============================] - 1s 12ms/step - loss: 502.7859 - mse: 697958.7500\n",
      "Epoch 2/100\n",
      "3/3 [==============================] - 0s 7ms/step - loss: 482.5347 - mse: 658918.9375\n",
      "Epoch 3/100\n",
      "3/3 [==============================] - 0s 4ms/step - loss: 438.0825 - mse: 549824.3125\n",
      "Epoch 4/100\n",
      "3/3 [==============================] - 0s 2ms/step - loss: 394.7027 - mse: 400297.8438\n",
      "Epoch 5/100\n",
      "3/3 [==============================] - 0s 8ms/step - loss: 374.4867 - mse: 250853.3125\n",
      "Epoch 6/100\n",
      "3/3 [==============================] - 0s 3ms/step - loss: 402.1786 - mse: 227847.6875\n",
      "Epoch 7/100\n",
      "3/3 [==============================] - 0s 4ms/step - loss: 394.7226 - mse: 221169.3906\n",
      "Epoch 8/100\n",
      "3/3 [==============================] - 0s 6ms/step - loss: 367.5192 - mse: 245979.2188\n",
      "Epoch 9/100\n",
      "3/3 [==============================] - 0s 8ms/step - loss: 366.6139 - mse: 315493.0625\n",
      "Epoch 10/100\n",
      "3/3 [==============================] - 0s 4ms/step - loss: 366.3052 - mse: 354546.0312\n",
      "Epoch 11/100\n",
      "3/3 [==============================] - 0s 5ms/step - loss: 365.6511 - mse: 366928.6875\n",
      "Epoch 12/100\n",
      "3/3 [==============================] - 0s 3ms/step - loss: 361.4705 - mse: 361723.0000\n",
      "Epoch 13/100\n",
      "3/3 [==============================] - 0s 4ms/step - loss: 352.2782 - mse: 341376.2188\n",
      "Epoch 14/100\n",
      "3/3 [==============================] - 0s 7ms/step - loss: 340.5444 - mse: 313578.6562\n",
      "Epoch 15/100\n",
      "3/3 [==============================] - 0s 6ms/step - loss: 327.1266 - mse: 276610.5312\n",
      "Epoch 16/100\n",
      "3/3 [==============================] - 0s 3ms/step - loss: 314.8782 - mse: 228774.4219\n",
      "Epoch 17/100\n",
      "3/3 [==============================] - 0s 8ms/step - loss: 306.2947 - mse: 192862.6875\n",
      "Epoch 18/100\n",
      "3/3 [==============================] - 0s 8ms/step - loss: 298.0721 - mse: 171132.0625\n",
      "Epoch 19/100\n",
      "3/3 [==============================] - 0s 0s/step - loss: 282.6741 - mse: 160095.2031\n",
      "Epoch 20/100\n",
      "3/3 [==============================] - 0s 5ms/step - loss: 266.3077 - mse: 181036.0625\n",
      "Epoch 21/100\n",
      "3/3 [==============================] - 0s 9ms/step - loss: 256.2740 - mse: 208476.3906\n",
      "Epoch 22/100\n",
      "3/3 [==============================] - 0s 2ms/step - loss: 241.5875 - mse: 202398.9688\n",
      "Epoch 23/100\n",
      "3/3 [==============================] - 0s 6ms/step - loss: 216.3905 - mse: 153780.5938\n",
      "Epoch 24/100\n",
      "3/3 [==============================] - 0s 9ms/step - loss: 201.7837 - mse: 112752.5938\n",
      "Epoch 25/100\n",
      "3/3 [==============================] - 0s 8ms/step - loss: 183.4551 - mse: 90049.9766\n",
      "Epoch 26/100\n",
      "3/3 [==============================] - 0s 7ms/step - loss: 165.5846 - mse: 94830.7812\n",
      "Epoch 27/100\n",
      "3/3 [==============================] - 0s 11ms/step - loss: 153.7811 - mse: 102068.3203\n",
      "Epoch 28/100\n",
      "3/3 [==============================] - 0s 6ms/step - loss: 141.2998 - mse: 68483.3359\n",
      "Epoch 29/100\n",
      "3/3 [==============================] - 0s 0s/step - loss: 124.6615 - mse: 44704.0312\n",
      "Epoch 30/100\n",
      "3/3 [==============================] - 0s 5ms/step - loss: 112.4583 - mse: 60255.1523\n",
      "Epoch 31/100\n",
      "3/3 [==============================] - 0s 3ms/step - loss: 105.9267 - mse: 27530.6738\n",
      "Epoch 32/100\n",
      "3/3 [==============================] - 0s 5ms/step - loss: 91.9286 - mse: 31749.9453\n",
      "Epoch 33/100\n",
      "3/3 [==============================] - 0s 11ms/step - loss: 83.1685 - mse: 26634.1270\n",
      "Epoch 34/100\n",
      "3/3 [==============================] - 0s 2ms/step - loss: 143.5759 - mse: 44296.7891\n",
      "Epoch 35/100\n",
      "3/3 [==============================] - 0s 4ms/step - loss: 86.7104 - mse: 25644.9570\n",
      "Epoch 36/100\n",
      "3/3 [==============================] - 0s 4ms/step - loss: 78.4472 - mse: 21007.5938\n",
      "Epoch 37/100\n",
      "3/3 [==============================] - 0s 4ms/step - loss: 107.1343 - mse: 23196.3047\n",
      "Epoch 38/100\n",
      "3/3 [==============================] - 0s 6ms/step - loss: 102.2721 - mse: 21307.0488\n",
      "Epoch 39/100\n",
      "3/3 [==============================] - 0s 7ms/step - loss: 85.3930 - mse: 25233.0820\n",
      "Epoch 40/100\n",
      "3/3 [==============================] - 0s 9ms/step - loss: 91.8782 - mse: 28292.3770\n",
      "Epoch 41/100\n",
      "3/3 [==============================] - 0s 2ms/step - loss: 83.8777 - mse: 15570.0820\n",
      "Epoch 42/100\n",
      "3/3 [==============================] - 0s 6ms/step - loss: 68.8131 - mse: 19268.4629\n",
      "Epoch 43/100\n",
      "3/3 [==============================] - 0s 5ms/step - loss: 62.8515 - mse: 15382.7852\n",
      "Epoch 44/100\n",
      "3/3 [==============================] - 0s 2ms/step - loss: 100.0682 - mse: 22132.4883\n",
      "Epoch 45/100\n",
      "3/3 [==============================] - 0s 5ms/step - loss: 50.8729 - mse: 10791.7344\n",
      "Epoch 46/100\n",
      "3/3 [==============================] - 0s 4ms/step - loss: 39.4906 - mse: 6296.2607\n",
      "Epoch 47/100\n",
      "3/3 [==============================] - 0s 4ms/step - loss: 43.8233 - mse: 6692.3574\n",
      "Epoch 48/100\n",
      "3/3 [==============================] - 0s 5ms/step - loss: 52.5087 - mse: 13209.0156\n",
      "Epoch 49/100\n",
      "3/3 [==============================] - 0s 6ms/step - loss: 45.5221 - mse: 6305.5220\n",
      "Epoch 50/100\n",
      "3/3 [==============================] - 0s 7ms/step - loss: 32.1294 - mse: 4568.3203\n",
      "Epoch 51/100\n",
      "3/3 [==============================] - 0s 7ms/step - loss: 33.4616 - mse: 4091.3147\n",
      "Epoch 52/100\n",
      "3/3 [==============================] - 0s 5ms/step - loss: 41.8352 - mse: 7487.5459\n",
      "Epoch 53/100\n",
      "3/3 [==============================] - 0s 9ms/step - loss: 36.1529 - mse: 4009.9492\n",
      "Epoch 54/100\n",
      "3/3 [==============================] - 0s 5ms/step - loss: 32.9058 - mse: 4868.4116\n",
      "Epoch 55/100\n",
      "3/3 [==============================] - 0s 4ms/step - loss: 63.9124 - mse: 11822.1230\n",
      "Epoch 56/100\n",
      "3/3 [==============================] - 0s 5ms/step - loss: 30.4532 - mse: 3197.0100\n",
      "Epoch 57/100\n",
      "3/3 [==============================] - 0s 4ms/step - loss: 31.9315 - mse: 3614.0957\n",
      "Epoch 58/100\n",
      "3/3 [==============================] - 0s 6ms/step - loss: 33.3953 - mse: 2501.6792\n",
      "Epoch 59/100\n",
      "3/3 [==============================] - 0s 6ms/step - loss: 39.4301 - mse: 4898.0156\n",
      "Epoch 60/100\n",
      "3/3 [==============================] - 0s 5ms/step - loss: 22.4029 - mse: 1717.3848\n",
      "Epoch 61/100\n",
      "3/3 [==============================] - 0s 4ms/step - loss: 20.0301 - mse: 1848.7662\n",
      "Epoch 62/100\n",
      "3/3 [==============================] - 0s 3ms/step - loss: 42.8968 - mse: 7250.7793\n",
      "Epoch 63/100\n",
      "3/3 [==============================] - 0s 4ms/step - loss: 37.9291 - mse: 3548.0205\n",
      "Epoch 64/100\n",
      "3/3 [==============================] - 0s 5ms/step - loss: 32.9075 - mse: 2996.0269\n",
      "Epoch 65/100\n",
      "3/3 [==============================] - 0s 5ms/step - loss: 39.7210 - mse: 4450.8730\n",
      "Epoch 66/100\n",
      "3/3 [==============================] - 0s 3ms/step - loss: 27.1411 - mse: 2348.1831\n",
      "Epoch 67/100\n",
      "3/3 [==============================] - 0s 4ms/step - loss: 22.1816 - mse: 1627.7183\n",
      "Epoch 68/100\n",
      "3/3 [==============================] - 0s 6ms/step - loss: 21.1182 - mse: 1346.9272\n",
      "Epoch 69/100\n",
      "3/3 [==============================] - 0s 6ms/step - loss: 27.0801 - mse: 2542.9580\n",
      "Epoch 70/100\n",
      "3/3 [==============================] - 0s 4ms/step - loss: 33.2291 - mse: 3704.5251\n",
      "Epoch 71/100\n",
      "3/3 [==============================] - 0s 3ms/step - loss: 30.3493 - mse: 2167.4407\n",
      "Epoch 72/100\n",
      "3/3 [==============================] - 0s 0s/step - loss: 54.5276 - mse: 10354.8975\n",
      "Epoch 73/100\n",
      "3/3 [==============================] - 0s 6ms/step - loss: 37.9204 - mse: 3592.0933\n",
      "Epoch 74/100\n",
      "3/3 [==============================] - 0s 2ms/step - loss: 34.2632 - mse: 4686.3813\n",
      "Epoch 75/100\n",
      "3/3 [==============================] - 0s 6ms/step - loss: 26.9753 - mse: 2168.8833\n",
      "Epoch 76/100\n",
      "3/3 [==============================] - 0s 4ms/step - loss: 25.9989 - mse: 2134.6675\n",
      "Epoch 77/100\n",
      "3/3 [==============================] - 0s 7ms/step - loss: 28.4567 - mse: 2390.3428\n",
      "Epoch 78/100\n",
      "3/3 [==============================] - 0s 6ms/step - loss: 32.4293 - mse: 2689.3899\n",
      "Epoch 79/100\n",
      "3/3 [==============================] - 0s 5ms/step - loss: 21.3345 - mse: 1453.8287\n",
      "Epoch 80/100\n",
      "3/3 [==============================] - 0s 7ms/step - loss: 27.5516 - mse: 1544.6279\n",
      "Epoch 81/100\n",
      "3/3 [==============================] - 0s 3ms/step - loss: 18.7301 - mse: 1324.0684\n",
      "Epoch 82/100\n",
      "3/3 [==============================] - 0s 8ms/step - loss: 22.2072 - mse: 1379.5327\n",
      "Epoch 83/100\n",
      "3/3 [==============================] - 0s 11ms/step - loss: 17.6734 - mse: 877.8560\n",
      "Epoch 84/100\n",
      "3/3 [==============================] - 0s 5ms/step - loss: 26.9025 - mse: 2599.2646\n",
      "Epoch 85/100\n",
      "3/3 [==============================] - 0s 6ms/step - loss: 27.1589 - mse: 1999.7793\n",
      "Epoch 86/100\n",
      "3/3 [==============================] - 0s 6ms/step - loss: 26.7724 - mse: 2397.7327\n",
      "Epoch 87/100\n",
      "3/3 [==============================] - 0s 1ms/step - loss: 47.1806 - mse: 8716.6924\n",
      "Epoch 88/100\n",
      "3/3 [==============================] - 0s 789us/step - loss: 105.0093 - mse: 26499.1152\n",
      "Epoch 89/100\n",
      "3/3 [==============================] - 0s 1ms/step - loss: 86.2234 - mse: 24164.9824\n",
      "Epoch 90/100\n",
      "3/3 [==============================] - 0s 0s/step - loss: 53.2370 - mse: 4935.4902\n",
      "Epoch 91/100\n",
      "3/3 [==============================] - 0s 6ms/step - loss: 34.8017 - mse: 3275.1028\n",
      "Epoch 92/100\n",
      "3/3 [==============================] - 0s 4ms/step - loss: 40.1991 - mse: 5842.2598\n",
      "Epoch 93/100\n",
      "3/3 [==============================] - 0s 6ms/step - loss: 57.3780 - mse: 6879.6763\n",
      "Epoch 94/100\n",
      "3/3 [==============================] - 0s 0s/step - loss: 41.0333 - mse: 4397.1274\n",
      "Epoch 95/100\n",
      "3/3 [==============================] - 0s 4ms/step - loss: 33.7123 - mse: 4750.9204\n",
      "Epoch 96/100\n",
      "3/3 [==============================] - 0s 4ms/step - loss: 44.5295 - mse: 7457.1631\n",
      "Epoch 97/100\n",
      "3/3 [==============================] - 0s 4ms/step - loss: 63.9880 - mse: 7540.3203\n",
      "Epoch 98/100\n",
      "3/3 [==============================] - 0s 6ms/step - loss: 50.2445 - mse: 10873.8887\n",
      "Epoch 99/100\n",
      "3/3 [==============================] - 0s 2ms/step - loss: 43.0909 - mse: 6188.6631\n",
      "Epoch 100/100\n",
      "3/3 [==============================] - 0s 1ms/step - loss: 101.9856 - mse: 29542.7852\n"
     ]
    },
    {
     "data": {
      "text/plain": [
       "<keras.callbacks.History at 0x1f6cb889cc0>"
      ]
     },
     "execution_count": 20,
     "metadata": {},
     "output_type": "execute_result"
    }
   ],
   "source": [
    "tf.random.set_seed(42)\n",
    "model_05 = tf.keras.Sequential([\n",
    "    tf.keras.layers.Dense(10, activation=\"relu\", input_shape=[1]),\n",
    "    tf.keras.layers.Dense(10, activation=\"relu\", input_shape=[1]),\n",
    "    tf.keras.layers.Dense(1)\n",
    "])\n",
    "\n",
    "#Compile a model\n",
    "model_05.compile(\n",
    "    loss=tf.keras.losses.mae,\n",
    "    optimizer =tf.keras.optimizers.Adam(learning_rate=0.1),\n",
    "    metrics=[\"mse\"])\n",
    "\n",
    "#Fit the model\n",
    "model_05.fit(x_train, y_train, epochs=100)\n"
   ]
  },
  {
   "cell_type": "code",
   "execution_count": 21,
   "id": "7d6d8912-ec16-4a82-95d5-81aed19780fb",
   "metadata": {},
   "outputs": [
    {
     "name": "stdout",
     "output_type": "stream",
     "text": [
      "WARNING:tensorflow:5 out of the last 5 calls to <function Model.make_predict_function.<locals>.predict_function at 0x000001F6C9206B90> triggered tf.function retracing. Tracing is expensive and the excessive number of tracings could be due to (1) creating @tf.function repeatedly in a loop, (2) passing tensors with different shapes, (3) passing Python objects instead of tensors. For (1), please define your @tf.function outside of the loop. For (2), @tf.function has reduce_retracing=True option that can avoid unnecessary retracing. For (3), please refer to https://www.tensorflow.org/guide/function#controlling_retracing and https://www.tensorflow.org/api_docs/python/tf/function for  more details.\n",
      "1/1 [==============================] - 0s 134ms/step\n"
     ]
    },
    {
     "data": {
      "text/plain": [
       "array([[2329.5361],\n",
       "       [2416.9607],\n",
       "       [2504.3853],\n",
       "       [2591.8096],\n",
       "       [2679.2344],\n",
       "       [2766.659 ],\n",
       "       [2854.0837],\n",
       "       [2941.508 ],\n",
       "       [3028.9326],\n",
       "       [3116.357 ],\n",
       "       [3203.7815],\n",
       "       [3291.206 ],\n",
       "       [3378.6309],\n",
       "       [3466.0552],\n",
       "       [3553.4797],\n",
       "       [3640.9043],\n",
       "       [3728.3286],\n",
       "       [3815.7532]], dtype=float32)"
      ]
     },
     "execution_count": 21,
     "metadata": {},
     "output_type": "execute_result"
    }
   ],
   "source": [
    "y_pred_5 = model_05.predict(x_test)\n",
    "y_pred_5"
   ]
  },
  {
   "cell_type": "code",
   "execution_count": 22,
   "id": "17ebf9ad-4578-4490-8777-a05caca4581c",
   "metadata": {},
   "outputs": [
    {
     "data": {
      "text/plain": [
       "(979.9989, 1262334.4)"
      ]
     },
     "execution_count": 22,
     "metadata": {},
     "output_type": "execute_result"
    }
   ],
   "source": [
    "mae_5 = mae(y_test, y_pred_5)\n",
    "mse_5 = mse(y_test, y_pred_5)\n",
    "mae_5, mse_5"
   ]
  },
  {
   "cell_type": "code",
   "execution_count": 23,
   "id": "60a353af-90dd-4c94-8183-f15eb7dbdfc5",
   "metadata": {},
   "outputs": [
    {
     "data": {
      "text/plain": [
       "<keras.callbacks.History at 0x1f6c9157310>"
      ]
     },
     "execution_count": 23,
     "metadata": {},
     "output_type": "execute_result"
    }
   ],
   "source": [
    "tf.random.set_seed(42)\n",
    "model_06 = tf.keras.Sequential([\n",
    "    tf.keras.layers.Dense(10, activation=\"relu\", input_shape=[1]),\n",
    "    tf.keras.layers.Dense(1)\n",
    "])\n",
    "\n",
    "#Compile a model\n",
    "model_06.compile(\n",
    "    loss=tf.keras.losses.mae,\n",
    "    optimizer =tf.keras.optimizers.Adam(learning_rate=0.1),\n",
    "    metrics=[\"mse\"])\n",
    "\n",
    "#Fit the model\n",
    "model_06.fit(x_train, y_train, epochs=100, verbose=0)"
   ]
  },
  {
   "cell_type": "code",
   "execution_count": 28,
   "id": "292d5ade-5fda-4639-b779-841961db23eb",
   "metadata": {
    "scrolled": true
   },
   "outputs": [
    {
     "name": "stdout",
     "output_type": "stream",
     "text": [
      "1/1 [==============================] - 0s 53ms/step\n"
     ]
    },
    {
     "data": {
      "text/plain": [
       "(2641.1243, 7746754.0)"
      ]
     },
     "execution_count": 28,
     "metadata": {},
     "output_type": "execute_result"
    }
   ],
   "source": [
    "y_pred_6 =model_06.predict(x_test)\n",
    "y_pred_6\n",
    "mae_6 = mae(y_test, y_pred_6)\n",
    "mse_6 = mse(y_test, y_pred_6)\n",
    "mae_6, mse_6"
   ]
  },
  {
   "cell_type": "code",
   "execution_count": 29,
   "id": "88332fb6-3239-44fe-9315-31a0c0f875d0",
   "metadata": {},
   "outputs": [
    {
     "data": {
      "text/html": [
       "<div>\n",
       "<style scoped>\n",
       "    .dataframe tbody tr th:only-of-type {\n",
       "        vertical-align: middle;\n",
       "    }\n",
       "\n",
       "    .dataframe tbody tr th {\n",
       "        vertical-align: top;\n",
       "    }\n",
       "\n",
       "    .dataframe thead th {\n",
       "        text-align: right;\n",
       "    }\n",
       "</style>\n",
       "<table border=\"1\" class=\"dataframe\">\n",
       "  <thead>\n",
       "    <tr style=\"text-align: right;\">\n",
       "      <th></th>\n",
       "      <th>Models</th>\n",
       "      <th>MAE</th>\n",
       "      <th>MSE</th>\n",
       "    </tr>\n",
       "  </thead>\n",
       "  <tbody>\n",
       "    <tr>\n",
       "      <th>0</th>\n",
       "      <td>model 4</td>\n",
       "      <td>990.395630</td>\n",
       "      <td>1269454.875</td>\n",
       "    </tr>\n",
       "    <tr>\n",
       "      <th>1</th>\n",
       "      <td>model 5</td>\n",
       "      <td>979.998901</td>\n",
       "      <td>1262334.375</td>\n",
       "    </tr>\n",
       "    <tr>\n",
       "      <th>2</th>\n",
       "      <td>model 6</td>\n",
       "      <td>2641.124268</td>\n",
       "      <td>7746754.000</td>\n",
       "    </tr>\n",
       "  </tbody>\n",
       "</table>\n",
       "</div>"
      ],
      "text/plain": [
       "    Models          MAE          MSE\n",
       "0  model 4   990.395630  1269454.875\n",
       "1  model 5   979.998901  1262334.375\n",
       "2  model 6  2641.124268  7746754.000"
      ]
     },
     "execution_count": 29,
     "metadata": {},
     "output_type": "execute_result"
    }
   ],
   "source": [
    "\n",
    "\n",
    "model_results_2 = [[\"model 4\", mae_4, mse_4],\n",
    "                   [\"model 5\",mae_5, mse_5],\n",
    "                   [\"model 6\",mae_6, mse_6]]\n",
    "cols = [\"Models\", \"MAE\", \"MSE\"]\n",
    "all_results_2 = pd.DataFrame(model_results_2, columns=cols)\n",
    "all_results_2"
   ]
  },
  {
   "cell_type": "code",
   "execution_count": 30,
   "id": "1e7d0af6-feb2-4f70-a91b-16545f452c12",
   "metadata": {},
   "outputs": [
    {
     "name": "stdout",
     "output_type": "stream",
     "text": [
      "INFO:tensorflow:Assets written to: best_model_04\\assets\n"
     ]
    }
   ],
   "source": [
    "#Save models format\n",
    "#1. savedMode format\n",
    "#2. HDF5 format\n",
    "model_04.save(\"best_model_04\")"
   ]
  },
  {
   "cell_type": "code",
   "execution_count": 31,
   "id": "6f992a13-d1e2-460d-b7d7-f0c67eec61c2",
   "metadata": {},
   "outputs": [],
   "source": [
    "model_04.save(\"my_best_model.h5\")"
   ]
  },
  {
   "cell_type": "code",
   "execution_count": 32,
   "id": "ba37dc96-2829-4739-84c1-f8abb6282176",
   "metadata": {},
   "outputs": [
    {
     "name": "stdout",
     "output_type": "stream",
     "text": [
      "Model: \"sequential_3\"\n",
      "_________________________________________________________________\n",
      " Layer (type)                Output Shape              Param #   \n",
      "=================================================================\n",
      " dense_6 (Dense)             (None, 10)                20        \n",
      "                                                                 \n",
      " dense_7 (Dense)             (None, 10)                110       \n",
      "                                                                 \n",
      " dense_8 (Dense)             (None, 1)                 11        \n",
      "                                                                 \n",
      "=================================================================\n",
      "Total params: 141\n",
      "Trainable params: 141\n",
      "Non-trainable params: 0\n",
      "_________________________________________________________________\n"
     ]
    }
   ],
   "source": [
    "#Load saved models\n",
    "new_model = tf.keras.models.load_model(\"best_model_04\")\n",
    "new_model.summary()"
   ]
  },
  {
   "cell_type": "code",
   "execution_count": 33,
   "id": "1ed2b45d-318f-4f2c-a34a-09d9addc1921",
   "metadata": {},
   "outputs": [
    {
     "name": "stdout",
     "output_type": "stream",
     "text": [
      "Model: \"sequential_3\"\n",
      "_________________________________________________________________\n",
      " Layer (type)                Output Shape              Param #   \n",
      "=================================================================\n",
      " dense_6 (Dense)             (None, 10)                20        \n",
      "                                                                 \n",
      " dense_7 (Dense)             (None, 10)                110       \n",
      "                                                                 \n",
      " dense_8 (Dense)             (None, 1)                 11        \n",
      "                                                                 \n",
      "=================================================================\n",
      "Total params: 141\n",
      "Trainable params: 141\n",
      "Non-trainable params: 0\n",
      "_________________________________________________________________\n"
     ]
    }
   ],
   "source": [
    "model_04.summary()"
   ]
  },
  {
   "cell_type": "code",
   "execution_count": 35,
   "id": "c5b78f05-47a0-4f90-a557-c8bb9b07f3bc",
   "metadata": {},
   "outputs": [
    {
     "name": "stdout",
     "output_type": "stream",
     "text": [
      "1/1 [==============================] - 0s 65ms/step\n"
     ]
    },
    {
     "data": {
      "text/plain": [
       "array([[ True],\n",
       "       [ True],\n",
       "       [ True],\n",
       "       [ True],\n",
       "       [ True],\n",
       "       [ True],\n",
       "       [ True],\n",
       "       [ True],\n",
       "       [ True],\n",
       "       [ True],\n",
       "       [ True],\n",
       "       [ True],\n",
       "       [ True],\n",
       "       [ True],\n",
       "       [ True],\n",
       "       [ True],\n",
       "       [ True],\n",
       "       [ True]])"
      ]
     },
     "execution_count": 35,
     "metadata": {},
     "output_type": "execute_result"
    }
   ],
   "source": [
    "y_pred_new = new_model.predict(x_test)\n",
    "y_pred_new == y_pred_4"
   ]
  },
  {
   "cell_type": "code",
   "execution_count": 37,
   "id": "4360f3c1-3500-484e-bf42-c7aaffe8e365",
   "metadata": {},
   "outputs": [
    {
     "name": "stdout",
     "output_type": "stream",
     "text": [
      "Model: \"sequential_3\"\n",
      "_________________________________________________________________\n",
      " Layer (type)                Output Shape              Param #   \n",
      "=================================================================\n",
      " dense_6 (Dense)             (None, 10)                20        \n",
      "                                                                 \n",
      " dense_7 (Dense)             (None, 10)                110       \n",
      "                                                                 \n",
      " dense_8 (Dense)             (None, 1)                 11        \n",
      "                                                                 \n",
      "=================================================================\n",
      "Total params: 141\n",
      "Trainable params: 141\n",
      "Non-trainable params: 0\n",
      "_________________________________________________________________\n"
     ]
    }
   ],
   "source": [
    "new_model_2 = tf.keras.models.load_model(\"my_best_model.h5\")\n",
    "new_model_2.summary()"
   ]
  },
  {
   "cell_type": "code",
   "execution_count": null,
   "id": "c3b4ba6b-e32c-40a4-9d21-a19695f79f20",
   "metadata": {},
   "outputs": [],
   "source": []
  }
 ],
 "metadata": {
  "kernelspec": {
   "display_name": "Python 3 (ipykernel)",
   "language": "python",
   "name": "python3"
  },
  "language_info": {
   "codemirror_mode": {
    "name": "ipython",
    "version": 3
   },
   "file_extension": ".py",
   "mimetype": "text/x-python",
   "name": "python",
   "nbconvert_exporter": "python",
   "pygments_lexer": "ipython3",
   "version": "3.10.13"
  }
 },
 "nbformat": 4,
 "nbformat_minor": 5
}
