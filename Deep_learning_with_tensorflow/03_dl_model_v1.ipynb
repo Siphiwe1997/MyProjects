{
 "cells": [
  {
   "cell_type": "code",
   "execution_count": 1,
   "id": "aad03ed1",
   "metadata": {},
   "outputs": [
    {
     "name": "stdout",
     "output_type": "stream",
     "text": [
      "Epoch 1/10\n",
      "3/3 [==============================] - 1s 8ms/step - loss: 1209.6862 - mae: 1209.6862\n",
      "Epoch 2/10\n",
      "3/3 [==============================] - 0s 7ms/step - loss: 1180.4414 - mae: 1180.4414\n",
      "Epoch 3/10\n",
      "3/3 [==============================] - 0s 4ms/step - loss: 1137.2395 - mae: 1137.2395\n",
      "Epoch 4/10\n",
      "3/3 [==============================] - 0s 8ms/step - loss: 1077.0215 - mae: 1077.0215\n",
      "Epoch 5/10\n",
      "3/3 [==============================] - 0s 5ms/step - loss: 1008.5159 - mae: 1008.5159\n",
      "Epoch 6/10\n",
      "3/3 [==============================] - 0s 5ms/step - loss: 961.7376 - mae: 961.7377\n",
      "Epoch 7/10\n",
      "3/3 [==============================] - 0s 5ms/step - loss: 921.0342 - mae: 921.0342\n",
      "Epoch 8/10\n",
      "3/3 [==============================] - 0s 7ms/step - loss: 892.8357 - mae: 892.8357\n",
      "Epoch 9/10\n",
      "3/3 [==============================] - 0s 7ms/step - loss: 884.9067 - mae: 884.9067\n",
      "Epoch 10/10\n",
      "3/3 [==============================] - 0s 7ms/step - loss: 878.7796 - mae: 878.7796\n"
     ]
    },
    {
     "data": {
      "text/plain": [
       "<keras.callbacks.History at 0x26d04e33550>"
      ]
     },
     "execution_count": 1,
     "metadata": {},
     "output_type": "execute_result"
    }
   ],
   "source": [
    "#import matplotlib\n",
    "#matplotlib.use('Agg')  # Use Agg,Qt5Agg,TkAgg backend,Qt5Agg,TkAgg\n",
    "%matplotlib inline\n",
    "import matplotlib.pyplot as plt\n",
    "import numpy as np\n",
    "import tensorflow as tf\n",
    "\n",
    "\n",
    "# Generate test data\n",
    "test_x = tf.range(1, 10, 0.1)\n",
    "test_y = (test_x * tf.math.log(test_x)) ** 3 / 2\n",
    "test_y = tf.reshape(test_y, shape=(test_y.shape[0], 1))\n",
    "\n",
    "# Convert Tensorflow tensors to numpy arrays\n",
    "test_x_np = test_x.numpy()\n",
    "test_y_np = test_y.numpy()\n",
    "\n",
    "# Create a model\n",
    "model = tf.keras.Sequential([\n",
    "    tf.keras.layers.Dense(100, activation=\"relu\", input_shape=(1,)),  # Input shape needs to be specified for single-dimensional input\n",
    "    tf.keras.layers.Dense(1)\n",
    "])\n",
    "\n",
    "# Compile the model\n",
    "model.compile(loss=\"mae\",\n",
    "                   optimizer=tf.keras.optimizers.Adam(learning_rate=0.1),\n",
    "                   metrics=[\"mae\"])\n",
    "\n",
    "# Fit the model\n",
    "model.fit(test_x, test_y, epochs=10)"
   ]
  },
  {
   "cell_type": "code",
   "execution_count": 2,
   "id": "bd24d597",
   "metadata": {},
   "outputs": [
    {
     "data": {
      "text/plain": [
       "(72, 72, 18, 18)"
      ]
     },
     "execution_count": 2,
     "metadata": {},
     "output_type": "execute_result"
    }
   ],
   "source": [
    "#Split the data into test set and train set\n",
    "x_train = test_x[:72]\n",
    "y_train = test_y[:72]\n",
    "\n",
    "x_test = test_x[72:]\n",
    "y_test = test_y[72:]\n",
    "y_train = tf.reshape(y_train, shape=(y_train.shape[0], 1))\n",
    "len(x_train), len(y_train), len(x_test), len(x_test)"
   ]
  },
  {
   "cell_type": "code",
   "execution_count": 3,
   "id": "75292cab",
   "metadata": {},
   "outputs": [],
   "source": [
    "#plt.figure(figsize=(10, 7))\n",
    "#plt.scatter(x_train, y_train, c=\"b\", label=\"Training data\")\n",
    "#plt.scatter(x_test, y_test, c=\"g\", label=\"Testing data\")\n",
    "#plt.legend()\n",
    "#plt.show()"
   ]
  },
  {
   "cell_type": "code",
   "execution_count": 4,
   "id": "76956bdc",
   "metadata": {},
   "outputs": [
    {
     "name": "stdout",
     "output_type": "stream",
     "text": [
      "Model: \"sequential\"\n",
      "_________________________________________________________________\n",
      " Layer (type)                Output Shape              Param #   \n",
      "=================================================================\n",
      " dense (Dense)               (None, 100)               200       \n",
      "                                                                 \n",
      " dense_1 (Dense)             (None, 1)                 101       \n",
      "                                                                 \n",
      "=================================================================\n",
      "Total params: 301\n",
      "Trainable params: 301\n",
      "Non-trainable params: 0\n",
      "_________________________________________________________________\n"
     ]
    }
   ],
   "source": [
    "model.summary()"
   ]
  },
  {
   "cell_type": "code",
   "execution_count": 5,
   "id": "dbcbd0e0",
   "metadata": {},
   "outputs": [
    {
     "data": {
      "image/png": "[encoded data removed]",
      "text/plain": [
       "<IPython.core.display.Image object>"
      ]
     },
     "execution_count": 5,
     "metadata": {},
     "output_type": "execute_result"
    }
   ],
   "source": [
    "from tensorflow.keras.utils import plot_model\n",
    "plot_model(model=model, show_shapes=True)"
   ]
  },
  {
   "cell_type": "code",
   "execution_count": 15,
   "id": "dc0185d9-8a48-45ee-ae21-2c4e13557afa",
   "metadata": {},
   "outputs": [
    {
     "name": "stdout",
     "output_type": "stream",
     "text": [
      "Epoch 1/50\n",
      "3/3 [==============================] - 1s 8ms/step - loss: 447.9181 - mae: 447.9181\n",
      "Epoch 2/50\n",
      "3/3 [==============================] - 0s 7ms/step - loss: 454.7609 - mae: 454.7609\n",
      "Epoch 3/50\n",
      "3/3 [==============================] - 0s 7ms/step - loss: 399.9835 - mae: 399.9835\n",
      "Epoch 4/50\n",
      "3/3 [==============================] - 0s 7ms/step - loss: 400.8612 - mae: 400.8612\n",
      "Epoch 5/50\n",
      "3/3 [==============================] - 0s 7ms/step - loss: 356.4301 - mae: 356.4301\n",
      "Epoch 6/50\n",
      "3/3 [==============================] - 0s 6ms/step - loss: 309.9925 - mae: 309.9925\n",
      "Epoch 7/50\n",
      "3/3 [==============================] - 0s 7ms/step - loss: 321.5172 - mae: 321.5172\n",
      "Epoch 8/50\n",
      "3/3 [==============================] - 0s 6ms/step - loss: 239.5481 - mae: 239.5481\n",
      "Epoch 9/50\n",
      "3/3 [==============================] - 0s 5ms/step - loss: 233.8813 - mae: 233.8813\n",
      "Epoch 10/50\n",
      "3/3 [==============================] - 0s 7ms/step - loss: 227.2305 - mae: 227.2305\n",
      "Epoch 11/50\n",
      "3/3 [==============================] - 0s 6ms/step - loss: 182.3971 - mae: 182.3971\n",
      "Epoch 12/50\n",
      "3/3 [==============================] - 0s 3ms/step - loss: 172.4825 - mae: 172.4825\n",
      "Epoch 13/50\n",
      "3/3 [==============================] - 0s 7ms/step - loss: 153.1401 - mae: 153.1401\n",
      "Epoch 14/50\n",
      "3/3 [==============================] - 0s 3ms/step - loss: 152.6607 - mae: 152.6607\n",
      "Epoch 15/50\n",
      "3/3 [==============================] - 0s 5ms/step - loss: 185.1842 - mae: 185.1842\n",
      "Epoch 16/50\n",
      "3/3 [==============================] - 0s 6ms/step - loss: 119.5258 - mae: 119.5258\n",
      "Epoch 17/50\n",
      "3/3 [==============================] - 0s 4ms/step - loss: 127.9814 - mae: 127.9814\n",
      "Epoch 18/50\n",
      "3/3 [==============================] - 0s 3ms/step - loss: 87.0675 - mae: 87.0675\n",
      "Epoch 19/50\n",
      "3/3 [==============================] - 0s 5ms/step - loss: 103.0870 - mae: 103.0870\n",
      "Epoch 20/50\n",
      "3/3 [==============================] - 0s 4ms/step - loss: 81.7472 - mae: 81.7472\n",
      "Epoch 21/50\n",
      "3/3 [==============================] - 0s 4ms/step - loss: 66.8897 - mae: 66.8897\n",
      "Epoch 22/50\n",
      "3/3 [==============================] - 0s 4ms/step - loss: 53.4353 - mae: 53.4353\n",
      "Epoch 23/50\n",
      "3/3 [==============================] - 0s 4ms/step - loss: 52.1804 - mae: 52.1804\n",
      "Epoch 24/50\n",
      "3/3 [==============================] - 0s 5ms/step - loss: 62.3188 - mae: 62.3188\n",
      "Epoch 25/50\n",
      "3/3 [==============================] - 0s 3ms/step - loss: 62.9422 - mae: 62.9422\n",
      "Epoch 26/50\n",
      "3/3 [==============================] - 0s 3ms/step - loss: 73.9532 - mae: 73.9532\n",
      "Epoch 27/50\n",
      "3/3 [==============================] - 0s 3ms/step - loss: 53.1851 - mae: 53.1851\n",
      "Epoch 28/50\n",
      "3/3 [==============================] - 0s 7ms/step - loss: 44.1285 - mae: 44.1285\n",
      "Epoch 29/50\n",
      "3/3 [==============================] - 0s 4ms/step - loss: 42.0219 - mae: 42.0219\n",
      "Epoch 30/50\n",
      "3/3 [==============================] - 0s 6ms/step - loss: 64.2687 - mae: 64.2687\n",
      "Epoch 31/50\n",
      "3/3 [==============================] - 0s 6ms/step - loss: 72.8356 - mae: 72.8356\n",
      "Epoch 32/50\n",
      "3/3 [==============================] - 0s 5ms/step - loss: 71.8704 - mae: 71.8704\n",
      "Epoch 33/50\n",
      "3/3 [==============================] - 0s 3ms/step - loss: 134.4962 - mae: 134.4962\n",
      "Epoch 34/50\n",
      "3/3 [==============================] - 0s 4ms/step - loss: 107.6879 - mae: 107.6879\n",
      "Epoch 35/50\n",
      "3/3 [==============================] - 0s 5ms/step - loss: 174.2968 - mae: 174.2968\n",
      "Epoch 36/50\n",
      "3/3 [==============================] - 0s 5ms/step - loss: 111.6666 - mae: 111.6666\n",
      "Epoch 37/50\n",
      "3/3 [==============================] - 0s 6ms/step - loss: 198.9933 - mae: 198.9933\n",
      "Epoch 38/50\n",
      "3/3 [==============================] - 0s 4ms/step - loss: 97.7013 - mae: 97.7013\n",
      "Epoch 39/50\n",
      "3/3 [==============================] - 0s 7ms/step - loss: 91.2437 - mae: 91.2437\n",
      "Epoch 40/50\n",
      "3/3 [==============================] - 0s 7ms/step - loss: 124.7230 - mae: 124.7230\n",
      "Epoch 41/50\n",
      "3/3 [==============================] - 0s 7ms/step - loss: 107.9728 - mae: 107.9728\n",
      "Epoch 42/50\n",
      "3/3 [==============================] - 0s 5ms/step - loss: 55.5020 - mae: 55.5020\n",
      "Epoch 43/50\n",
      "3/3 [==============================] - 0s 6ms/step - loss: 63.1039 - mae: 63.1039\n",
      "Epoch 44/50\n",
      "3/3 [==============================] - 0s 7ms/step - loss: 59.6913 - mae: 59.6913\n",
      "Epoch 45/50\n",
      "3/3 [==============================] - 0s 9ms/step - loss: 47.9941 - mae: 47.9941\n",
      "Epoch 46/50\n",
      "3/3 [==============================] - 0s 7ms/step - loss: 46.8367 - mae: 46.8367\n",
      "Epoch 47/50\n",
      "3/3 [==============================] - 0s 7ms/step - loss: 64.6455 - mae: 64.6455\n",
      "Epoch 48/50\n",
      "3/3 [==============================] - 0s 6ms/step - loss: 77.9176 - mae: 77.9176\n",
      "Epoch 49/50\n",
      "3/3 [==============================] - 0s 7ms/step - loss: 99.4723 - mae: 99.4723\n",
      "Epoch 50/50\n",
      "3/3 [==============================] - 0s 5ms/step - loss: 68.6522 - mae: 68.6522\n"
     ]
    },
    {
     "data": {
      "text/plain": [
       "<keras.callbacks.History at 0x26d0782e860>"
      ]
     },
     "execution_count": 15,
     "metadata": {},
     "output_type": "execute_result"
    }
   ],
   "source": [
    "#Create a model\n",
    "tf.random.set_seed(42)\n",
    "\n",
    "model_test = tf.keras.Sequential([\n",
    "    tf.keras.layers.Dense(50, activation=\"relu\", input_shape=[1], name=\"input_layer\"),\n",
    "    tf.keras.layers.Dense(1, name=\"output_layer\")\n",
    "], name=\"model_1\")\n",
    "\n",
    "#Compile the model\n",
    "model_test.compile(loss=tf.keras.losses.mae,\n",
    "                    optimizer=tf.keras.optimizers.Adam(learning_rate=1),\n",
    "                    metrics=[\"mae\"])\n",
    "#Fit the moodel\n",
    "model_test.fit(x_train, y_train, epochs=50)"
   ]
  },
  {
   "cell_type": "code",
   "execution_count": 7,
   "id": "c685c13a-1ede-48bc-8971-52f1e34f6a34",
   "metadata": {},
   "outputs": [
    {
     "data": {
      "text/plain": [
       "1"
      ]
     },
     "execution_count": 7,
     "metadata": {},
     "output_type": "execute_result"
    }
   ],
   "source": [
    "tf.constant([1, 2, 3]).ndim"
   ]
  },
  {
   "cell_type": "code",
   "execution_count": 8,
   "id": "cc9e7223-4c7e-4750-b341-d4519a104dd3",
   "metadata": {},
   "outputs": [
    {
     "name": "stdout",
     "output_type": "stream",
     "text": [
      "1/1 [==============================] - 0s 373ms/step\n"
     ]
    },
    {
     "data": {
      "text/plain": [
       "array([[1.0509142]], dtype=float32)"
      ]
     },
     "execution_count": 8,
     "metadata": {},
     "output_type": "execute_result"
    }
   ],
   "source": [
    "model_test.predict([2])"
   ]
  },
  {
   "cell_type": "code",
   "execution_count": 9,
   "id": "ac7121b2-6b66-453a-8dd2-3f694a625ba7",
   "metadata": {},
   "outputs": [
    {
     "data": {
      "image/png": "[encoded data removed]",
      "text/plain": [
       "<IPython.core.display.Image object>"
      ]
     },
     "execution_count": 9,
     "metadata": {},
     "output_type": "execute_result"
    }
   ],
   "source": [
    "from tensorflow.keras.utils  import plot_model\n",
    "plot_model(model=model_test, show_shapes=True)"
   ]
  },
  {
   "cell_type": "code",
   "execution_count": 10,
   "id": "99a80d6f-6705-4670-a01d-cc03d36228f0",
   "metadata": {},
   "outputs": [
    {
     "name": "stdout",
     "output_type": "stream",
     "text": [
      "Model: \"model_1\"\n",
      "_________________________________________________________________\n",
      " Layer (type)                Output Shape              Param #   \n",
      "=================================================================\n",
      " input_layer (Dense)         (None, 50)                100       \n",
      "                                                                 \n",
      " output_layer (Dense)        (None, 1)                 51        \n",
      "                                                                 \n",
      "=================================================================\n",
      "Total params: 151\n",
      "Trainable params: 151\n",
      "Non-trainable params: 0\n",
      "_________________________________________________________________\n"
     ]
    }
   ],
   "source": [
    "model_test.summary()"
   ]
  },
  {
   "cell_type": "code",
   "execution_count": 16,
   "id": "af854282-63cc-448c-9143-557e04956c56",
   "metadata": {},
   "outputs": [
    {
     "name": "stdout",
     "output_type": "stream",
     "text": [
      "1/1 [==============================] - 0s 181ms/step\n"
     ]
    },
    {
     "data": {
      "text/plain": [
       "array([[2500.5703],\n",
       "       [2576.7095],\n",
       "       [2652.8484],\n",
       "       [2728.9873],\n",
       "       [2805.1265],\n",
       "       [2881.2654],\n",
       "       [2957.4043],\n",
       "       [3033.5435],\n",
       "       [3109.6821],\n",
       "       [3185.8213],\n",
       "       [3261.96  ],\n",
       "       [3338.0994],\n",
       "       [3414.2383],\n",
       "       [3490.377 ],\n",
       "       [3566.516 ],\n",
       "       [3642.6553],\n",
       "       [3718.7942],\n",
       "       [3794.9329]], dtype=float32)"
      ]
     },
     "execution_count": 16,
     "metadata": {},
     "output_type": "execute_result"
    }
   ],
   "source": [
    "#Visualize our model's predictions\n",
    "y_pred= model_test.predict(x_test)\n",
    "y_pred"
   ]
  },
  {
   "cell_type": "code",
   "execution_count": 12,
   "id": "c8ec3397-aadb-499b-8346-9402dbcfc9dd",
   "metadata": {},
   "outputs": [
    {
     "data": {
      "text/plain": [
       "<tf.Tensor: shape=(18, 1), dtype=float32, numpy=\n",
       "array([[2568.2112],\n",
       "       [2709.615 ],\n",
       "       [2856.6938],\n",
       "       [3009.591 ],\n",
       "       [3168.454 ],\n",
       "       [3333.4287],\n",
       "       [3504.6655],\n",
       "       [3682.3127],\n",
       "       [3866.5217],\n",
       "       [4057.4487],\n",
       "       [4255.2466],\n",
       "       [4460.0703],\n",
       "       [4672.08  ],\n",
       "       [4891.4336],\n",
       "       [5118.2925],\n",
       "       [5352.8184],\n",
       "       [5595.1753],\n",
       "       [5845.5264]], dtype=float32)>"
      ]
     },
     "execution_count": 12,
     "metadata": {},
     "output_type": "execute_result"
    }
   ],
   "source": [
    "y_test"
   ]
  },
  {
   "cell_type": "code",
   "execution_count": 13,
   "id": "a0917a41-9d54-431b-b546-3b5042c9c686",
   "metadata": {},
   "outputs": [],
   "source": [
    "#Let's create a plotting function\n",
    "def plot_preds(train_data=x_train, train_labels=y_train,\n",
    "              test_data=x_test, test_labels=y_test,\n",
    "              preds=y_pred):\n",
    "    plt.figure(figsize=(10, 7))\n",
    "    #Plot training in blue\n",
    "    plt.scatter(train_data, train_labels, c=\"b\",label=\"Training data\")\n",
    "    #Plot testing data in green\n",
    "    plt.scatter(test_data, test_labels, c=\"g\", label=\"Testing data\")\n",
    "    #Plot model's predictions in red\n",
    "    plt.scatter(test_data, preds, c=\"r\", label=\"Predictions\")\n",
    "    #Show legend\n",
    "    plt.legend();"
   ]
  },
  {
   "cell_type": "code",
   "execution_count": 18,
   "id": "e9c685ff-974d-44c1-ab59-bb45a6abf68f",
   "metadata": {},
   "outputs": [
    {
     "name": "stdout",
     "output_type": "stream",
     "text": [
      "1/1 [==============================] - 0s 409ms/step - loss: 904.8918 - mae: 904.8918\n"
     ]
    },
    {
     "data": {
      "text/plain": [
       "[904.891845703125, 904.891845703125]"
      ]
     },
     "execution_count": 18,
     "metadata": {},
     "output_type": "execute_result"
    }
   ],
   "source": [
    "#Evaluation our model's predictions with regression evalution metrics\n",
    "#We evaluate the model performance\n",
    "model_test.evaluate(x_test, y_test)"
   ]
  },
  {
   "cell_type": "code",
   "execution_count": 35,
   "id": "b8cc30fe-9714-4935-99a7-c87e856c9847",
   "metadata": {},
   "outputs": [
    {
     "data": {
      "text/plain": [
       "(<tf.Tensor: shape=(18,), dtype=float32, numpy=\n",
       " array([  67.64087,  132.90552,  203.84546,  280.60376,  363.32764,\n",
       "         452.16333,  547.2612 ,  648.7693 ,  756.8396 ,  871.62744,\n",
       "         993.2866 , 1121.971  , 1257.8418 , 1401.0566 , 1551.7764 ,\n",
       "        1710.1631 , 1876.3811 , 2050.5935 ], dtype=float32)>,\n",
       " <tf.Tensor: shape=(18,), dtype=float32, numpy=\n",
       " array([  67.64087,  132.90552,  203.84546,  280.60376,  363.32764,\n",
       "         452.16333,  547.2612 ,  648.7693 ,  756.8396 ,  871.62744,\n",
       "         993.2866 , 1121.971  , 1257.8418 , 1401.0566 , 1551.7764 ,\n",
       "        1710.1631 , 1876.3811 , 2050.5935 ], dtype=float32)>)"
      ]
     },
     "execution_count": 35,
     "metadata": {},
     "output_type": "execute_result"
    }
   ],
   "source": [
    "#Calculate the mean absolute error\n",
    "mae = tf.metrics.mean_absolute_error(y_test, y_pred)"
   ]
  },
  {
   "cell_type": "code",
   "execution_count": 28,
   "id": "bce64d60-6966-4a1f-8d8f-293cd27cc63e",
   "metadata": {},
   "outputs": [
    {
     "data": {
      "text/plain": [
       "<tf.Tensor: shape=(18, 1), dtype=float32, numpy=\n",
       "array([[  67.64087],\n",
       "       [ 132.90552],\n",
       "       [ 203.84546],\n",
       "       [ 280.60376],\n",
       "       [ 363.32764],\n",
       "       [ 452.16333],\n",
       "       [ 547.2612 ],\n",
       "       [ 648.7693 ],\n",
       "       [ 756.8396 ],\n",
       "       [ 871.62744],\n",
       "       [ 993.2866 ],\n",
       "       [1121.971  ],\n",
       "       [1257.8418 ],\n",
       "       [1401.0566 ],\n",
       "       [1551.7764 ],\n",
       "       [1710.1631 ],\n",
       "       [1876.3811 ],\n",
       "       [2050.5935 ]], dtype=float32)>"
      ]
     },
     "execution_count": 28,
     "metadata": {},
     "output_type": "execute_result"
    }
   ],
   "source": [
    "y_test-y_pred"
   ]
  },
  {
   "cell_type": "code",
   "execution_count": 31,
   "id": "e9f2d021-4af7-4f15-9142-4aef200d10fa",
   "metadata": {},
   "outputs": [
    {
     "data": {
      "text/plain": [
       "<tf.Tensor: shape=(), dtype=float32, numpy=904.89185>"
      ]
     },
     "execution_count": 31,
     "metadata": {},
     "output_type": "execute_result"
    }
   ],
   "source": [
    "tf.math.reduce_mean(mae)"
   ]
  },
  {
   "cell_type": "code",
   "execution_count": 34,
   "id": "2cfe1090-149a-43d0-8870-dd8615d4b4ed",
   "metadata": {},
   "outputs": [
    {
     "data": {
      "text/plain": [
       "<tf.Tensor: shape=(18,), dtype=float32, numpy=\n",
       "array([   4575.287,   17663.877,   41552.973,   78738.47 ,  132006.97 ,\n",
       "        204451.67 ,  299494.84 ,  420901.6  ,  572806.2  ,  759734.4  ,\n",
       "        986618.3  , 1258818.8  , 1582166.   , 1962959.8  , 2408010.   ,\n",
       "       2924657.8  , 3520806.   , 4204933.5  ], dtype=float32)>"
      ]
     },
     "execution_count": 34,
     "metadata": {},
     "output_type": "execute_result"
    }
   ],
   "source": [
    "#Mean square error\n",
    "mse = tf.losses.MSE(y_test, y_pred)\n",
    "mse"
   ]
  },
  {
   "cell_type": "code",
   "execution_count": 36,
   "id": "0508f65a-7bd6-4362-8c38-b4cf31941d72",
   "metadata": {},
   "outputs": [
    {
     "data": {
      "text/plain": [
       "<tf.Tensor: shape=(), dtype=float32, numpy=1187827.5>"
      ]
     },
     "execution_count": 36,
     "metadata": {},
     "output_type": "execute_result"
    }
   ],
   "source": [
    "tf.math.reduce_mean(mse)"
   ]
  },
  {
   "cell_type": "code",
   "execution_count": 50,
   "id": "e6feb3c6-ca1c-45fb-95f2-1b7cbc3fbc82",
   "metadata": {},
   "outputs": [],
   "source": [
    "#Functions for mae and mse\n",
    "def mae(y_true, y_pred):\n",
    "    return tf.math.reduce_mean(tf.metrics.mean_absolute_error(y_true, y_pred))\n",
    "\n",
    "def mse(y_true, y_pred):\n",
    "    return tf.math.reduce_mean(tf.metrics.mean_squared_error(y_true, y_pred))"
   ]
  },
  {
   "cell_type": "code",
   "execution_count": 51,
   "id": "0ba246c5-2044-4868-87bb-c2bf31b670bf",
   "metadata": {},
   "outputs": [
    {
     "data": {
      "text/plain": [
       "(<tf.Tensor: shape=(), dtype=float32, numpy=904.89185>,\n",
       " <tf.Tensor: shape=(), dtype=float32, numpy=1187827.5>)"
      ]
     },
     "execution_count": 51,
     "metadata": {},
     "output_type": "execute_result"
    }
   ],
   "source": [
    "mae(y_test, y_pred), mse(y_test, y_pred)"
   ]
  },
  {
   "cell_type": "code",
   "execution_count": null,
   "id": "005f328e-e074-4139-944d-9003dcf975be",
   "metadata": {},
   "outputs": [],
   "source": [
    "#Rnning experiments to improve our model\n"
   ]
  }
 ],
 "metadata": {
  "kernelspec": {
   "display_name": "Python 3 (ipykernel)",
   "language": "python",
   "name": "python3"
  },
  "language_info": {
   "codemirror_mode": {
    "name": "ipython",
    "version": 3
   },
   "file_extension": ".py",
   "mimetype": "text/x-python",
   "name": "python",
   "nbconvert_exporter": "python",
   "pygments_lexer": "ipython3",
   "version": "3.10.13"
  },
  "varInspector": {
   "cols": {
    "lenName": 16,
    "lenType": 16,
    "lenVar": 40
   },
   "kernels_config": {
    "python": {
     "delete_cmd_postfix": "",
     "delete_cmd_prefix": "del ",
     "library": "var_list.py",
     "varRefreshCmd": "print(var_dic_list())"
    },
    "r": {
     "delete_cmd_postfix": ") ",
     "delete_cmd_prefix": "rm(",
     "library": "var_list.r",
     "varRefreshCmd": "cat(var_dic_list()) "
    }
   },
   "types_to_exclude": [
    "module",
    "function",
    "builtin_function_or_method",
    "instance",
    "_Feature"
   ],
   "window_display": false
  }
 },
 "nbformat": 4,
 "nbformat_minor": 5
}
