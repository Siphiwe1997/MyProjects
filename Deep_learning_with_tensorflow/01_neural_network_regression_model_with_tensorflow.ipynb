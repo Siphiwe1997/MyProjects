{
 "cells": [
  {
   "cell_type": "code",
   "execution_count": 1,
   "id": "12703108",
   "metadata": {},
   "outputs": [
    {
     "name": "stdout",
     "output_type": "stream",
     "text": [
      "2.10.0\n"
     ]
    }
   ],
   "source": [
    "#Introduction to regression with neural networks in tensorflow\n",
    "import tensorflow as tf\n",
    "print(tf.__version__)"
   ]
  },
  {
   "cell_type": "code",
   "execution_count": 2,
   "id": "0a850b5d",
   "metadata": {},
   "outputs": [],
   "source": [
    "#Create data to view and fit\n",
    "%matplotlib inline\n",
    "\n",
    "import numpy as np\n",
    "import matplotlib.pyplot as plt\n",
    "\n",
    "#Create features\n",
    "x = np.array([-7., -4., -1., 2., 5., 8., 11., 14.])\n",
    "\n",
    "#Create labels\n",
    "y = np.array([3., 6., 9., 12., 15., 18., 21., 24.])\n",
    "#plt.scatter(x,y)\n",
    "#plt.xlabel('Features')\n",
    "#plt.ylabel('Outputs')\n",
    "#plt.title('x vs y')"
   ]
  },
  {
   "cell_type": "code",
   "execution_count": 3,
   "id": "5b8efa3b",
   "metadata": {},
   "outputs": [
    {
     "data": {
      "text/plain": [
       "array([ True,  True,  True,  True,  True,  True,  True,  True])"
      ]
     },
     "execution_count": 3,
     "metadata": {},
     "output_type": "execute_result"
    }
   ],
   "source": [
    "y == x + 10"
   ]
  },
  {
   "cell_type": "code",
   "execution_count": 4,
   "id": "8b3e0d19",
   "metadata": {},
   "outputs": [],
   "source": [
    "#Create a demo tensor for our housing prediction problem\n",
    "#house_info = tf.constant([\"bedroom\", \"bathroom\", \"garage\"])\n",
    "#house_price = tf.constant([939700])\n",
    "#house_info, house_price"
   ]
  },
  {
   "cell_type": "code",
   "execution_count": 5,
   "id": "abfe4c7a",
   "metadata": {},
   "outputs": [],
   "source": [
    "#input_shape = x.shape\n",
    "#output_shape = y.shape\n",
    "#input_shape, output_shape"
   ]
  },
  {
   "cell_type": "code",
   "execution_count": 6,
   "id": "461bc59f",
   "metadata": {},
   "outputs": [
    {
     "data": {
      "text/plain": [
       "((8,), (8,))"
      ]
     },
     "execution_count": 6,
     "metadata": {},
     "output_type": "execute_result"
    }
   ],
   "source": [
    "x.shape, y.shape"
   ]
  },
  {
   "cell_type": "code",
   "execution_count": 7,
   "id": "3cf00ba0",
   "metadata": {},
   "outputs": [
    {
     "data": {
      "text/plain": [
       "((), ())"
      ]
     },
     "execution_count": 7,
     "metadata": {},
     "output_type": "execute_result"
    }
   ],
   "source": [
    "x[0].shape, y[0].shape"
   ]
  },
  {
   "cell_type": "code",
   "execution_count": 8,
   "id": "9762f040",
   "metadata": {},
   "outputs": [
    {
     "data": {
      "text/plain": [
       "(TensorShape([8]), TensorShape([8]))"
      ]
     },
     "execution_count": 8,
     "metadata": {},
     "output_type": "execute_result"
    }
   ],
   "source": [
    "X = tf.constant(x)\n",
    "Y =tf.constant(y)\n",
    "X.shape,Y.shape\n"
   ]
  },
  {
   "cell_type": "code",
   "execution_count": 9,
   "id": "adab8a46",
   "metadata": {},
   "outputs": [],
   "source": [
    "#plt.plot(X,Y)"
   ]
  },
  {
   "cell_type": "code",
   "execution_count": 10,
   "id": "b0ba0b06",
   "metadata": {},
   "outputs": [
    {
     "name": "stdout",
     "output_type": "stream",
     "text": [
      "Epoch 1/5\n",
      "1/1 [==============================] - 1s 1s/step - loss: 12.7756 - mae: 12.7756\n",
      "Epoch 2/5\n",
      "1/1 [==============================] - 0s 11ms/step - loss: 12.6431 - mae: 12.6431\n",
      "Epoch 3/5\n",
      "1/1 [==============================] - 0s 10ms/step - loss: 12.5106 - mae: 12.5106\n",
      "Epoch 4/5\n",
      "1/1 [==============================] - 0s 7ms/step - loss: 12.3781 - mae: 12.3781\n",
      "Epoch 5/5\n",
      "1/1 [==============================] - 0s 17ms/step - loss: 12.2456 - mae: 12.2456\n"
     ]
    },
    {
     "data": {
      "text/plain": [
       "<keras.callbacks.History at 0x262fedf75b0>"
      ]
     },
     "execution_count": 10,
     "metadata": {},
     "output_type": "execute_result"
    }
   ],
   "source": [
    "#Set random seed\n",
    "tf.random.set_seed(42)\n",
    "\n",
    "#Create a model using the Sequential API\n",
    "# Reshape the input data to have two dimensions\n",
    "X = tf.constant(x[:, np.newaxis])  # Reshaping x to a 2D array\n",
    "Y = tf.constant(y)\n",
    "\n",
    "# Rest of your code remains the same\n",
    "model = tf.keras.Sequential([\n",
    "    tf.keras.layers.Dense(1)\n",
    "])\n",
    "model.compile(loss=tf.keras.losses.mean_absolute_error,  # mean absolute error\n",
    "              optimizer=tf.keras.optimizers.SGD(),  # stochastic gradient descent\n",
    "              metrics=[\"mae\"])\n",
    "\n",
    "# Fit the model\n",
    "model.fit(X, Y, epochs=5)\n"
   ]
  },
  {
   "cell_type": "code",
   "execution_count": 11,
   "id": "152ef55c",
   "metadata": {},
   "outputs": [
    {
     "data": {
      "text/plain": [
       "(<tf.Tensor: shape=(8, 1), dtype=float64, numpy=\n",
       " array([[-7.],\n",
       "        [-4.],\n",
       "        [-1.],\n",
       "        [ 2.],\n",
       "        [ 5.],\n",
       "        [ 8.],\n",
       "        [11.],\n",
       "        [14.]])>,\n",
       " <tf.Tensor: shape=(8,), dtype=float64, numpy=array([ 3.,  6.,  9., 12., 15., 18., 21., 24.])>)"
      ]
     },
     "execution_count": 11,
     "metadata": {},
     "output_type": "execute_result"
    }
   ],
   "source": [
    "X,Y"
   ]
  },
  {
   "cell_type": "code",
   "execution_count": 12,
   "id": "7784743b",
   "metadata": {},
   "outputs": [
    {
     "data": {
      "text/plain": [
       "(2, 1)"
      ]
     },
     "execution_count": 12,
     "metadata": {},
     "output_type": "execute_result"
    }
   ],
   "source": [
    "X.ndim, Y.ndim"
   ]
  },
  {
   "cell_type": "code",
   "execution_count": 13,
   "id": "cd36a320",
   "metadata": {},
   "outputs": [
    {
     "name": "stdout",
     "output_type": "stream",
     "text": [
      "1/1 [==============================] - 0s 227ms/step\n"
     ]
    },
    {
     "data": {
      "text/plain": [
       "array([[6.5437226]], dtype=float32)"
      ]
     },
     "execution_count": 13,
     "metadata": {},
     "output_type": "execute_result"
    }
   ],
   "source": [
    "model.predict([17])"
   ]
  },
  {
   "cell_type": "code",
   "execution_count": 14,
   "id": "c476a685",
   "metadata": {},
   "outputs": [
    {
     "name": "stdout",
     "output_type": "stream",
     "text": [
      "Epoch 1/100\n",
      "1/1 [==============================] - 2s 2s/step - loss: 13.9362 - mae: 13.9362\n",
      "Epoch 2/100\n",
      "1/1 [==============================] - 0s 11ms/step - loss: 69.1165 - mae: 69.1165\n",
      "Epoch 3/100\n",
      "1/1 [==============================] - 0s 17ms/step - loss: 14.7650 - mae: 14.7650\n",
      "Epoch 4/100\n",
      "1/1 [==============================] - 0s 12ms/step - loss: 13.0948 - mae: 13.0948\n",
      "Epoch 5/100\n",
      "1/1 [==============================] - 0s 5ms/step - loss: 12.5831 - mae: 12.5831\n",
      "Epoch 6/100\n",
      "1/1 [==============================] - 0s 10ms/step - loss: 11.5821 - mae: 11.5821\n",
      "Epoch 7/100\n",
      "1/1 [==============================] - 0s 8ms/step - loss: 8.2458 - mae: 8.2458\n",
      "Epoch 8/100\n",
      "1/1 [==============================] - 0s 8ms/step - loss: 8.8784 - mae: 8.8784\n",
      "Epoch 9/100\n",
      "1/1 [==============================] - 0s 0s/step - loss: 4.7898 - mae: 4.7898\n",
      "Epoch 10/100\n",
      "1/1 [==============================] - 0s 9ms/step - loss: 7.2819 - mae: 7.2819\n",
      "Epoch 11/100\n",
      "1/1 [==============================] - 0s 10ms/step - loss: 7.0935 - mae: 7.0935\n",
      "Epoch 12/100\n",
      "1/1 [==============================] - 0s 6ms/step - loss: 4.8237 - mae: 4.8237\n",
      "Epoch 13/100\n",
      "1/1 [==============================] - 0s 5ms/step - loss: 7.1835 - mae: 7.1835\n",
      "Epoch 14/100\n",
      "1/1 [==============================] - 0s 5ms/step - loss: 6.3921 - mae: 6.3921\n",
      "Epoch 15/100\n",
      "1/1 [==============================] - 0s 0s/step - loss: 3.6799 - mae: 3.6799\n",
      "Epoch 16/100\n",
      "1/1 [==============================] - 0s 7ms/step - loss: 5.1264 - mae: 5.1264\n",
      "Epoch 17/100\n",
      "1/1 [==============================] - 0s 9ms/step - loss: 5.5350 - mae: 5.5350\n",
      "Epoch 18/100\n",
      "1/1 [==============================] - 0s 14ms/step - loss: 3.9781 - mae: 3.9781\n",
      "Epoch 19/100\n",
      "1/1 [==============================] - 0s 16ms/step - loss: 4.0259 - mae: 4.0259\n",
      "Epoch 20/100\n",
      "1/1 [==============================] - 0s 8ms/step - loss: 4.5413 - mae: 4.5413\n",
      "Epoch 21/100\n",
      "1/1 [==============================] - 0s 7ms/step - loss: 3.4979 - mae: 3.4979\n",
      "Epoch 22/100\n",
      "1/1 [==============================] - 0s 10ms/step - loss: 2.5776 - mae: 2.5776\n",
      "Epoch 23/100\n",
      "1/1 [==============================] - 0s 9ms/step - loss: 3.2236 - mae: 3.2236\n",
      "Epoch 24/100\n",
      "1/1 [==============================] - 0s 6ms/step - loss: 2.3759 - mae: 2.3759\n",
      "Epoch 25/100\n",
      "1/1 [==============================] - 0s 8ms/step - loss: 2.3756 - mae: 2.3756\n",
      "Epoch 26/100\n",
      "1/1 [==============================] - 0s 10ms/step - loss: 2.0725 - mae: 2.0725\n",
      "Epoch 27/100\n",
      "1/1 [==============================] - 0s 7ms/step - loss: 1.6545 - mae: 1.6545\n",
      "Epoch 28/100\n",
      "1/1 [==============================] - 0s 18ms/step - loss: 1.7547 - mae: 1.7547\n",
      "Epoch 29/100\n",
      "1/1 [==============================] - 0s 7ms/step - loss: 1.1604 - mae: 1.1604\n",
      "Epoch 30/100\n",
      "1/1 [==============================] - 0s 7ms/step - loss: 0.8489 - mae: 0.8489\n",
      "Epoch 31/100\n",
      "1/1 [==============================] - 0s 5ms/step - loss: 1.2593 - mae: 1.2593\n",
      "Epoch 32/100\n",
      "1/1 [==============================] - 0s 13ms/step - loss: 1.6732 - mae: 1.6732\n",
      "Epoch 33/100\n",
      "1/1 [==============================] - 0s 11ms/step - loss: 1.9065 - mae: 1.9065\n",
      "Epoch 34/100\n",
      "1/1 [==============================] - 0s 8ms/step - loss: 1.0680 - mae: 1.0680\n",
      "Epoch 35/100\n",
      "1/1 [==============================] - 0s 10ms/step - loss: 1.0317 - mae: 1.0317\n",
      "Epoch 36/100\n",
      "1/1 [==============================] - 0s 0s/step - loss: 0.8797 - mae: 0.8797\n",
      "Epoch 37/100\n",
      "1/1 [==============================] - 0s 21ms/step - loss: 1.2390 - mae: 1.2390\n",
      "Epoch 38/100\n",
      "1/1 [==============================] - 0s 8ms/step - loss: 0.8052 - mae: 0.8052\n",
      "Epoch 39/100\n",
      "1/1 [==============================] - 0s 8ms/step - loss: 2.0750 - mae: 2.0750\n",
      "Epoch 40/100\n",
      "1/1 [==============================] - 0s 5ms/step - loss: 1.9325 - mae: 1.9325\n",
      "Epoch 41/100\n",
      "1/1 [==============================] - 0s 7ms/step - loss: 0.7861 - mae: 0.7861\n",
      "Epoch 42/100\n",
      "1/1 [==============================] - 0s 8ms/step - loss: 0.9368 - mae: 0.9368\n",
      "Epoch 43/100\n",
      "1/1 [==============================] - 0s 4ms/step - loss: 1.2687 - mae: 1.2687\n",
      "Epoch 44/100\n",
      "1/1 [==============================] - 0s 5ms/step - loss: 1.2296 - mae: 1.2296\n",
      "Epoch 45/100\n",
      "1/1 [==============================] - 0s 7ms/step - loss: 0.8002 - mae: 0.8002\n",
      "Epoch 46/100\n",
      "1/1 [==============================] - 0s 8ms/step - loss: 0.6003 - mae: 0.6003\n",
      "Epoch 47/100\n",
      "1/1 [==============================] - 0s 0s/step - loss: 0.6615 - mae: 0.6615\n",
      "Epoch 48/100\n",
      "1/1 [==============================] - 0s 10ms/step - loss: 0.8229 - mae: 0.8229\n",
      "Epoch 49/100\n",
      "1/1 [==============================] - 0s 8ms/step - loss: 0.6676 - mae: 0.6676\n",
      "Epoch 50/100\n",
      "1/1 [==============================] - 0s 6ms/step - loss: 0.8070 - mae: 0.8070\n",
      "Epoch 51/100\n",
      "1/1 [==============================] - 0s 15ms/step - loss: 0.6914 - mae: 0.6914\n",
      "Epoch 52/100\n",
      "1/1 [==============================] - 0s 8ms/step - loss: 0.9251 - mae: 0.9251\n",
      "Epoch 53/100\n",
      "1/1 [==============================] - 0s 9ms/step - loss: 0.5294 - mae: 0.5294\n",
      "Epoch 54/100\n",
      "1/1 [==============================] - 0s 12ms/step - loss: 1.9911 - mae: 1.9911\n",
      "Epoch 55/100\n",
      "1/1 [==============================] - 0s 5ms/step - loss: 1.9091 - mae: 1.9091\n",
      "Epoch 56/100\n",
      "1/1 [==============================] - 0s 6ms/step - loss: 0.4761 - mae: 0.4761\n",
      "Epoch 57/100\n",
      "1/1 [==============================] - 0s 6ms/step - loss: 0.6335 - mae: 0.6335\n",
      "Epoch 58/100\n",
      "1/1 [==============================] - 0s 8ms/step - loss: 1.0714 - mae: 1.0714\n",
      "Epoch 59/100\n",
      "1/1 [==============================] - 0s 7ms/step - loss: 0.5641 - mae: 0.5641\n",
      "Epoch 60/100\n",
      "1/1 [==============================] - 0s 7ms/step - loss: 1.6998 - mae: 1.6998\n",
      "Epoch 61/100\n",
      "1/1 [==============================] - 0s 0s/step - loss: 1.9705 - mae: 1.9705\n",
      "Epoch 62/100\n",
      "1/1 [==============================] - 0s 7ms/step - loss: 1.2481 - mae: 1.2481\n",
      "Epoch 63/100\n",
      "1/1 [==============================] - 0s 7ms/step - loss: 1.3555 - mae: 1.3555\n",
      "Epoch 64/100\n",
      "1/1 [==============================] - 0s 13ms/step - loss: 1.7321 - mae: 1.7321\n",
      "Epoch 65/100\n",
      "1/1 [==============================] - 0s 8ms/step - loss: 0.6828 - mae: 0.6828\n",
      "Epoch 66/100\n",
      "1/1 [==============================] - 0s 20ms/step - loss: 1.9712 - mae: 1.9712\n",
      "Epoch 67/100\n",
      "1/1 [==============================] - 0s 14ms/step - loss: 2.6066 - mae: 2.6066\n",
      "Epoch 68/100\n",
      "1/1 [==============================] - 0s 10ms/step - loss: 2.3772 - mae: 2.3772\n",
      "Epoch 69/100\n",
      "1/1 [==============================] - 0s 11ms/step - loss: 1.3206 - mae: 1.3206\n",
      "Epoch 70/100\n",
      "1/1 [==============================] - 0s 8ms/step - loss: 1.5468 - mae: 1.5468\n",
      "Epoch 71/100\n",
      "1/1 [==============================] - 0s 6ms/step - loss: 2.2817 - mae: 2.2817\n",
      "Epoch 72/100\n",
      "1/1 [==============================] - 0s 7ms/step - loss: 1.5293 - mae: 1.5293\n",
      "Epoch 73/100\n",
      "1/1 [==============================] - 0s 9ms/step - loss: 1.0145 - mae: 1.0145\n",
      "Epoch 74/100\n",
      "1/1 [==============================] - 0s 9ms/step - loss: 1.5370 - mae: 1.5370\n",
      "Epoch 75/100\n",
      "1/1 [==============================] - 0s 6ms/step - loss: 1.1302 - mae: 1.1302\n",
      "Epoch 76/100\n",
      "1/1 [==============================] - 0s 6ms/step - loss: 0.9681 - mae: 0.9681\n",
      "Epoch 77/100\n",
      "1/1 [==============================] - 0s 6ms/step - loss: 1.1186 - mae: 1.1186\n",
      "Epoch 78/100\n",
      "1/1 [==============================] - 0s 9ms/step - loss: 0.6626 - mae: 0.6626\n",
      "Epoch 79/100\n",
      "1/1 [==============================] - 0s 9ms/step - loss: 0.7636 - mae: 0.7636\n",
      "Epoch 80/100\n",
      "1/1 [==============================] - 0s 8ms/step - loss: 1.6632 - mae: 1.6632\n",
      "Epoch 81/100\n",
      "1/1 [==============================] - 0s 9ms/step - loss: 1.7601 - mae: 1.7601\n",
      "Epoch 82/100\n",
      "1/1 [==============================] - 0s 5ms/step - loss: 0.8213 - mae: 0.8213\n",
      "Epoch 83/100\n",
      "1/1 [==============================] - 0s 9ms/step - loss: 2.1836 - mae: 2.1836\n",
      "Epoch 84/100\n",
      "1/1 [==============================] - 0s 8ms/step - loss: 2.4938 - mae: 2.4938\n",
      "Epoch 85/100\n",
      "1/1 [==============================] - 0s 7ms/step - loss: 1.1732 - mae: 1.1732\n",
      "Epoch 86/100\n",
      "1/1 [==============================] - 0s 8ms/step - loss: 1.6655 - mae: 1.6655\n",
      "Epoch 87/100\n",
      "1/1 [==============================] - 0s 8ms/step - loss: 2.4131 - mae: 2.4131\n",
      "Epoch 88/100\n",
      "1/1 [==============================] - 0s 7ms/step - loss: 2.3049 - mae: 2.3049\n",
      "Epoch 89/100\n",
      "1/1 [==============================] - 0s 9ms/step - loss: 1.4448 - mae: 1.4448\n",
      "Epoch 90/100\n",
      "1/1 [==============================] - 0s 5ms/step - loss: 1.0416 - mae: 1.0416\n",
      "Epoch 91/100\n",
      "1/1 [==============================] - 0s 3ms/step - loss: 1.6390 - mae: 1.6390\n",
      "Epoch 92/100\n",
      "1/1 [==============================] - 0s 8ms/step - loss: 1.0696 - mae: 1.0696\n",
      "Epoch 93/100\n",
      "1/1 [==============================] - 0s 5ms/step - loss: 1.1444 - mae: 1.1444\n",
      "Epoch 94/100\n",
      "1/1 [==============================] - 0s 14ms/step - loss: 1.5854 - mae: 1.5854\n",
      "Epoch 95/100\n",
      "1/1 [==============================] - 0s 7ms/step - loss: 1.2918 - mae: 1.2918\n",
      "Epoch 96/100\n",
      "1/1 [==============================] - 0s 6ms/step - loss: 0.5042 - mae: 0.5042\n",
      "Epoch 97/100\n",
      "1/1 [==============================] - 0s 8ms/step - loss: 1.5196 - mae: 1.5196\n",
      "Epoch 98/100\n",
      "1/1 [==============================] - 0s 0s/step - loss: 1.4116 - mae: 1.4116\n",
      "Epoch 99/100\n",
      "1/1 [==============================] - 0s 6ms/step - loss: 0.4707 - mae: 0.4707\n",
      "Epoch 100/100\n",
      "1/1 [==============================] - 0s 12ms/step - loss: 0.7548 - mae: 0.7548\n"
     ]
    },
    {
     "data": {
      "text/plain": [
       "<keras.callbacks.History at 0x262ff1084c0>"
      ]
     },
     "execution_count": 14,
     "metadata": {},
     "output_type": "execute_result"
    }
   ],
   "source": [
    "# 1. Improve our model performance\n",
    "model = tf.keras.Sequential([\n",
    "    tf.keras.layers.Dense(100, activation=\"relu\"),\n",
    "    tf.keras.layers.Dense(100, activation=\"relu\"),\n",
    "    tf.keras.layers.Dense(100, activation=\"relu\"),\n",
    "    tf.keras.layers.Dense(1)\n",
    "])\n",
    "\n",
    "# 2. Complile the model\n",
    "model.compile(loss=tf.keras.losses.mae,\n",
    "              optimizer=tf.keras.optimizers.Adam(learning_rate=0.1),\n",
    "              metrics=[\"mae\"])\n",
    "\n",
    "# Fit the model\n",
    "model.fit(X, Y, epochs=100)"
   ]
  },
  {
   "cell_type": "code",
   "execution_count": 15,
   "id": "4931a85d",
   "metadata": {},
   "outputs": [
    {
     "name": "stdout",
     "output_type": "stream",
     "text": [
      "1/1 [==============================] - 0s 174ms/step\n"
     ]
    },
    {
     "data": {
      "text/plain": [
       "array([[11.041884]], dtype=float32)"
      ]
     },
     "execution_count": 15,
     "metadata": {},
     "output_type": "execute_result"
    }
   ],
   "source": [
    "model.predict([1])"
   ]
  },
  {
   "cell_type": "code",
   "execution_count": 16,
   "id": "dff7856f",
   "metadata": {},
   "outputs": [
    {
     "name": "stdout",
     "output_type": "stream",
     "text": [
      "Epoch 1/5\n",
      "1/1 [==============================] - 1s 953ms/step - loss: 14.5626 - mae: 14.5626\n",
      "Epoch 2/5\n",
      "1/1 [==============================] - 0s 3ms/step - loss: 14.0461 - mae: 14.0461\n",
      "Epoch 3/5\n",
      "1/1 [==============================] - 0s 14ms/step - loss: 13.5341 - mae: 13.5341\n",
      "Epoch 4/5\n",
      "1/1 [==============================] - 0s 11ms/step - loss: 13.0220 - mae: 13.0220\n",
      "Epoch 5/5\n",
      "1/1 [==============================] - 0s 14ms/step - loss: 12.5253 - mae: 12.5253\n"
     ]
    },
    {
     "data": {
      "text/plain": [
       "<keras.callbacks.History at 0x262ff76a800>"
      ]
     },
     "execution_count": 16,
     "metadata": {},
     "output_type": "execute_result"
    }
   ],
   "source": [
    "#Create a model\n",
    "model = tf.keras.Sequential([\n",
    "    tf.keras.layers.Dense(100, activation=\"relu\"),\n",
    "    tf.keras.layers.Dense(1)\n",
    "])\n",
    "\n",
    "#Complile the model\n",
    "model.compile(loss=tf.keras.losses.mae,\n",
    "             optimizer=tf.keras.optimizers.SGD(),\n",
    "             metrics=[\"mae\"])\n",
    "\n",
    "#Fit the model\n",
    "model.fit(X,Y, epochs=5)"
   ]
  },
  {
   "cell_type": "code",
   "execution_count": 17,
   "id": "34467126",
   "metadata": {},
   "outputs": [
    {
     "name": "stdout",
     "output_type": "stream",
     "text": [
      "Epoch 1/100\n",
      "1/1 [==============================] - 1s 1s/step - loss: 12.3733 - mae: 12.3733\n",
      "Epoch 2/100\n",
      "1/1 [==============================] - 0s 9ms/step - loss: 11.5501 - mae: 11.5501\n",
      "Epoch 3/100\n",
      "1/1 [==============================] - 0s 8ms/step - loss: 10.7259 - mae: 10.7259\n",
      "Epoch 4/100\n",
      "1/1 [==============================] - 0s 10ms/step - loss: 9.9019 - mae: 9.9019\n",
      "Epoch 5/100\n",
      "1/1 [==============================] - 0s 13ms/step - loss: 9.0706 - mae: 9.0706\n",
      "Epoch 6/100\n",
      "1/1 [==============================] - 0s 7ms/step - loss: 8.4526 - mae: 8.4526\n",
      "Epoch 7/100\n",
      "1/1 [==============================] - 0s 6ms/step - loss: 7.7856 - mae: 7.7856\n",
      "Epoch 8/100\n",
      "1/1 [==============================] - 0s 10ms/step - loss: 7.0807 - mae: 7.0807\n",
      "Epoch 9/100\n",
      "1/1 [==============================] - 0s 8ms/step - loss: 6.5059 - mae: 6.5059\n",
      "Epoch 10/100\n",
      "1/1 [==============================] - 0s 9ms/step - loss: 5.6730 - mae: 5.6730\n",
      "Epoch 11/100\n",
      "1/1 [==============================] - 0s 16ms/step - loss: 4.9305 - mae: 4.9305\n",
      "Epoch 12/100\n",
      "1/1 [==============================] - 0s 6ms/step - loss: 4.2630 - mae: 4.2630\n",
      "Epoch 13/100\n",
      "1/1 [==============================] - 0s 16ms/step - loss: 3.7516 - mae: 3.7516\n",
      "Epoch 14/100\n",
      "1/1 [==============================] - 0s 10ms/step - loss: 3.6941 - mae: 3.6941\n",
      "Epoch 15/100\n",
      "1/1 [==============================] - 0s 7ms/step - loss: 3.6800 - mae: 3.6800\n",
      "Epoch 16/100\n",
      "1/1 [==============================] - 0s 8ms/step - loss: 3.6865 - mae: 3.6865\n",
      "Epoch 17/100\n",
      "1/1 [==============================] - 0s 7ms/step - loss: 3.5162 - mae: 3.5162\n",
      "Epoch 18/100\n",
      "1/1 [==============================] - 0s 7ms/step - loss: 3.6627 - mae: 3.6627\n",
      "Epoch 19/100\n",
      "1/1 [==============================] - 0s 9ms/step - loss: 3.4798 - mae: 3.4798\n",
      "Epoch 20/100\n",
      "1/1 [==============================] - 0s 9ms/step - loss: 3.5849 - mae: 3.5849\n",
      "Epoch 21/100\n",
      "1/1 [==============================] - 0s 8ms/step - loss: 3.3666 - mae: 3.3666\n",
      "Epoch 22/100\n",
      "1/1 [==============================] - 0s 7ms/step - loss: 3.4707 - mae: 3.4707\n",
      "Epoch 23/100\n",
      "1/1 [==============================] - 0s 7ms/step - loss: 3.3410 - mae: 3.3410\n",
      "Epoch 24/100\n",
      "1/1 [==============================] - 0s 7ms/step - loss: 3.3022 - mae: 3.3022\n",
      "Epoch 25/100\n",
      "1/1 [==============================] - 0s 16ms/step - loss: 3.3911 - mae: 3.3911\n",
      "Epoch 26/100\n",
      "1/1 [==============================] - 0s 9ms/step - loss: 3.1719 - mae: 3.1719\n",
      "Epoch 27/100\n",
      "1/1 [==============================] - 0s 8ms/step - loss: 3.1967 - mae: 3.1967\n",
      "Epoch 28/100\n",
      "1/1 [==============================] - 0s 8ms/step - loss: 3.0851 - mae: 3.0851\n",
      "Epoch 29/100\n",
      "1/1 [==============================] - 0s 6ms/step - loss: 3.2034 - mae: 3.2034\n",
      "Epoch 30/100\n",
      "1/1 [==============================] - 0s 9ms/step - loss: 2.9094 - mae: 2.9094\n",
      "Epoch 31/100\n",
      "1/1 [==============================] - 0s 7ms/step - loss: 3.0131 - mae: 3.0131\n",
      "Epoch 32/100\n",
      "1/1 [==============================] - 0s 5ms/step - loss: 2.8541 - mae: 2.8541\n",
      "Epoch 33/100\n",
      "1/1 [==============================] - 0s 8ms/step - loss: 2.8828 - mae: 2.8828\n",
      "Epoch 34/100\n",
      "1/1 [==============================] - 0s 8ms/step - loss: 2.7326 - mae: 2.7326\n",
      "Epoch 35/100\n",
      "1/1 [==============================] - 0s 5ms/step - loss: 2.7091 - mae: 2.7091\n",
      "Epoch 36/100\n",
      "1/1 [==============================] - 0s 7ms/step - loss: 2.6405 - mae: 2.6405\n",
      "Epoch 37/100\n",
      "1/1 [==============================] - 0s 6ms/step - loss: 2.4684 - mae: 2.4684\n",
      "Epoch 38/100\n",
      "1/1 [==============================] - 0s 8ms/step - loss: 2.5336 - mae: 2.5336\n",
      "Epoch 39/100\n",
      "1/1 [==============================] - 0s 7ms/step - loss: 2.3414 - mae: 2.3414\n",
      "Epoch 40/100\n",
      "1/1 [==============================] - 0s 12ms/step - loss: 2.3687 - mae: 2.3687\n",
      "Epoch 41/100\n",
      "1/1 [==============================] - 0s 8ms/step - loss: 2.1543 - mae: 2.1543\n",
      "Epoch 42/100\n",
      "1/1 [==============================] - 0s 7ms/step - loss: 2.1118 - mae: 2.1118\n",
      "Epoch 43/100\n",
      "1/1 [==============================] - 0s 6ms/step - loss: 2.0297 - mae: 2.0297\n",
      "Epoch 44/100\n",
      "1/1 [==============================] - 0s 8ms/step - loss: 1.8682 - mae: 1.8682\n",
      "Epoch 45/100\n",
      "1/1 [==============================] - 0s 5ms/step - loss: 1.8240 - mae: 1.8240\n",
      "Epoch 46/100\n",
      "1/1 [==============================] - 0s 11ms/step - loss: 1.6295 - mae: 1.6295\n",
      "Epoch 47/100\n",
      "1/1 [==============================] - 0s 2ms/step - loss: 1.6849 - mae: 1.6849\n",
      "Epoch 48/100\n",
      "1/1 [==============================] - 0s 6ms/step - loss: 1.4573 - mae: 1.4573\n",
      "Epoch 49/100\n",
      "1/1 [==============================] - 0s 13ms/step - loss: 1.2967 - mae: 1.2967\n",
      "Epoch 50/100\n",
      "1/1 [==============================] - 0s 10ms/step - loss: 1.3967 - mae: 1.3967\n",
      "Epoch 51/100\n",
      "1/1 [==============================] - 0s 7ms/step - loss: 1.1425 - mae: 1.1425\n",
      "Epoch 52/100\n",
      "1/1 [==============================] - 0s 9ms/step - loss: 0.9830 - mae: 0.9830\n",
      "Epoch 53/100\n",
      "1/1 [==============================] - 0s 5ms/step - loss: 0.9787 - mae: 0.9787\n",
      "Epoch 54/100\n",
      "1/1 [==============================] - 0s 8ms/step - loss: 0.8334 - mae: 0.8334\n",
      "Epoch 55/100\n",
      "1/1 [==============================] - 0s 13ms/step - loss: 0.8275 - mae: 0.8275\n",
      "Epoch 56/100\n",
      "1/1 [==============================] - 0s 15ms/step - loss: 0.4558 - mae: 0.4558\n",
      "Epoch 57/100\n",
      "1/1 [==============================] - 0s 10ms/step - loss: 0.8777 - mae: 0.8777\n",
      "Epoch 58/100\n",
      "1/1 [==============================] - 0s 7ms/step - loss: 0.6069 - mae: 0.6069\n",
      "Epoch 59/100\n",
      "1/1 [==============================] - 0s 13ms/step - loss: 0.6989 - mae: 0.6989\n",
      "Epoch 60/100\n",
      "1/1 [==============================] - 0s 14ms/step - loss: 0.4994 - mae: 0.4994\n",
      "Epoch 61/100\n",
      "1/1 [==============================] - 0s 14ms/step - loss: 0.7002 - mae: 0.7002\n",
      "Epoch 62/100\n",
      "1/1 [==============================] - 0s 8ms/step - loss: 0.7018 - mae: 0.7018\n",
      "Epoch 63/100\n",
      "1/1 [==============================] - 0s 6ms/step - loss: 0.5120 - mae: 0.5120\n",
      "Epoch 64/100\n",
      "1/1 [==============================] - 0s 8ms/step - loss: 0.8504 - mae: 0.8504\n",
      "Epoch 65/100\n",
      "1/1 [==============================] - 0s 10ms/step - loss: 0.4902 - mae: 0.4902\n",
      "Epoch 66/100\n",
      "1/1 [==============================] - 0s 13ms/step - loss: 0.7160 - mae: 0.7160\n",
      "Epoch 67/100\n",
      "1/1 [==============================] - 0s 10ms/step - loss: 0.6596 - mae: 0.6596\n",
      "Epoch 68/100\n",
      "1/1 [==============================] - 0s 12ms/step - loss: 0.6161 - mae: 0.6161\n",
      "Epoch 69/100\n",
      "1/1 [==============================] - 0s 9ms/step - loss: 0.6292 - mae: 0.6292\n",
      "Epoch 70/100\n",
      "1/1 [==============================] - 0s 9ms/step - loss: 0.6277 - mae: 0.6277\n",
      "Epoch 71/100\n",
      "1/1 [==============================] - 0s 6ms/step - loss: 0.6545 - mae: 0.6545\n",
      "Epoch 72/100\n",
      "1/1 [==============================] - 0s 9ms/step - loss: 0.5921 - mae: 0.5921\n",
      "Epoch 73/100\n",
      "1/1 [==============================] - 0s 8ms/step - loss: 0.4644 - mae: 0.4644\n",
      "Epoch 74/100\n",
      "1/1 [==============================] - 0s 10ms/step - loss: 0.8788 - mae: 0.8788\n",
      "Epoch 75/100\n",
      "1/1 [==============================] - 0s 0s/step - loss: 0.4944 - mae: 0.4944\n",
      "Epoch 76/100\n",
      "1/1 [==============================] - 0s 10ms/step - loss: 0.7805 - mae: 0.7805\n",
      "Epoch 77/100\n",
      "1/1 [==============================] - 0s 9ms/step - loss: 0.5334 - mae: 0.5334\n",
      "Epoch 78/100\n",
      "1/1 [==============================] - 0s 5ms/step - loss: 0.6161 - mae: 0.6161\n",
      "Epoch 79/100\n",
      "1/1 [==============================] - 0s 7ms/step - loss: 0.7560 - mae: 0.7560\n",
      "Epoch 80/100\n",
      "1/1 [==============================] - 0s 11ms/step - loss: 0.5252 - mae: 0.5252\n",
      "Epoch 81/100\n",
      "1/1 [==============================] - 0s 8ms/step - loss: 0.7002 - mae: 0.7002\n",
      "Epoch 82/100\n",
      "1/1 [==============================] - 0s 7ms/step - loss: 0.5072 - mae: 0.5072\n",
      "Epoch 83/100\n",
      "1/1 [==============================] - 0s 7ms/step - loss: 0.4868 - mae: 0.4868\n",
      "Epoch 84/100\n",
      "1/1 [==============================] - 0s 8ms/step - loss: 0.8148 - mae: 0.8148\n",
      "Epoch 85/100\n",
      "1/1 [==============================] - 0s 8ms/step - loss: 0.5238 - mae: 0.5238\n",
      "Epoch 86/100\n",
      "1/1 [==============================] - 0s 3ms/step - loss: 0.7247 - mae: 0.7247\n",
      "Epoch 87/100\n",
      "1/1 [==============================] - 0s 0s/step - loss: 0.4241 - mae: 0.4241\n",
      "Epoch 88/100\n",
      "1/1 [==============================] - 0s 7ms/step - loss: 0.7555 - mae: 0.7555\n",
      "Epoch 89/100\n",
      "1/1 [==============================] - 0s 9ms/step - loss: 0.4343 - mae: 0.4343\n",
      "Epoch 90/100\n",
      "1/1 [==============================] - 0s 6ms/step - loss: 0.5599 - mae: 0.5599\n",
      "Epoch 91/100\n",
      "1/1 [==============================] - 0s 9ms/step - loss: 0.7551 - mae: 0.7551\n",
      "Epoch 92/100\n",
      "1/1 [==============================] - 0s 1ms/step - loss: 0.4467 - mae: 0.4467\n",
      "Epoch 93/100\n",
      "1/1 [==============================] - 0s 8ms/step - loss: 0.8958 - mae: 0.8958\n",
      "Epoch 94/100\n",
      "1/1 [==============================] - 0s 8ms/step - loss: 0.4788 - mae: 0.4788\n",
      "Epoch 95/100\n",
      "1/1 [==============================] - 0s 10ms/step - loss: 0.7099 - mae: 0.7099\n",
      "Epoch 96/100\n",
      "1/1 [==============================] - 0s 7ms/step - loss: 0.6402 - mae: 0.6402\n",
      "Epoch 97/100\n",
      "1/1 [==============================] - 0s 11ms/step - loss: 0.6156 - mae: 0.6156\n",
      "Epoch 98/100\n",
      "1/1 [==============================] - 0s 7ms/step - loss: 0.6365 - mae: 0.6365\n",
      "Epoch 99/100\n",
      "1/1 [==============================] - 0s 5ms/step - loss: 0.6150 - mae: 0.6150\n",
      "Epoch 100/100\n",
      "1/1 [==============================] - 0s 9ms/step - loss: 0.4560 - mae: 0.4560\n"
     ]
    },
    {
     "data": {
      "text/plain": [
       "<keras.callbacks.History at 0x262ff90da50>"
      ]
     },
     "execution_count": 17,
     "metadata": {},
     "output_type": "execute_result"
    }
   ],
   "source": [
    "#Create a model\n",
    "model_S = tf.keras.Sequential([\n",
    "    tf.keras.layers.Dense(100, activation=\"relu\"),\n",
    "    tf.keras.layers.Dense(1)\n",
    "])\n",
    "\n",
    "#Compile a model\n",
    "model_S.compile(loss=tf.keras.losses.mae,\n",
    "                optimizer=tf.keras.optimizers.Adam(learning_rate=0.01, beta_1=0.1, beta_2=0.1),\n",
    "                metrics=[\"mae\"])\n",
    "#Fit the model\n",
    "model_S.fit(X, Y, epochs=100)"
   ]
  },
  {
   "cell_type": "code",
   "execution_count": 18,
   "id": "e4bf2ed1",
   "metadata": {},
   "outputs": [
    {
     "name": "stdout",
     "output_type": "stream",
     "text": [
      "1/1 [==============================] - 0s 156ms/step\n"
     ]
    },
    {
     "data": {
      "text/plain": [
       "array([[26.029402]], dtype=float32)"
      ]
     },
     "execution_count": 18,
     "metadata": {},
     "output_type": "execute_result"
    }
   ],
   "source": [
    "model_S.predict([14])"
   ]
  },
  {
   "cell_type": "code",
   "execution_count": 19,
   "id": "b4dd348f",
   "metadata": {},
   "outputs": [
    {
     "data": {
      "text/plain": [
       "(<tf.Tensor: shape=(5,), dtype=int32, numpy=array([-2,  1,  2,  5,  6])>,\n",
       " <tf.Tensor: shape=(5, 1), dtype=int32, numpy=\n",
       " array([[-2],\n",
       "        [ 1],\n",
       "        [ 2],\n",
       "        [ 5],\n",
       "        [ 6]])>,\n",
       " <tf.Tensor: shape=(5,), dtype=int32, numpy=array([ 7,  4,  9, 13, 27])>)"
      ]
     },
     "execution_count": 19,
     "metadata": {},
     "output_type": "execute_result"
    }
   ],
   "source": [
    "x_1 = tf.constant([-2, 1, 2, 5, 6])\n",
    "y_1 = tf.constant([7, 4, 9, 13, 27])\n",
    "x_e = tf.reshape(x_1, shape=(5,1))\n",
    "x_1, x_e, y_1"
   ]
  },
  {
   "cell_type": "code",
   "execution_count": 20,
   "id": "84c2737b",
   "metadata": {},
   "outputs": [
    {
     "name": "stdout",
     "output_type": "stream",
     "text": [
      "Epoch 1/50\n",
      "1/1 [==============================] - 1s 1s/step - loss: 12.5511 - mae: 12.5511\n",
      "Epoch 2/50\n",
      "1/1 [==============================] - 0s 13ms/step - loss: 8.0868 - mae: 8.0868\n",
      "Epoch 3/50\n",
      "1/1 [==============================] - 0s 16ms/step - loss: 3.2271 - mae: 3.2271\n",
      "Epoch 4/50\n",
      "1/1 [==============================] - 0s 11ms/step - loss: 3.6237 - mae: 3.6237\n",
      "Epoch 5/50\n",
      "1/1 [==============================] - 0s 15ms/step - loss: 3.0369 - mae: 3.0369\n",
      "Epoch 6/50\n",
      "1/1 [==============================] - 0s 13ms/step - loss: 3.2499 - mae: 3.2499\n",
      "Epoch 7/50\n",
      "1/1 [==============================] - 0s 10ms/step - loss: 3.8178 - mae: 3.8178\n",
      "Epoch 8/50\n",
      "1/1 [==============================] - 0s 12ms/step - loss: 3.4820 - mae: 3.4820\n",
      "Epoch 9/50\n",
      "1/1 [==============================] - 0s 8ms/step - loss: 2.9190 - mae: 2.9190\n",
      "Epoch 10/50\n",
      "1/1 [==============================] - 0s 11ms/step - loss: 4.0363 - mae: 4.0363\n",
      "Epoch 11/50\n",
      "1/1 [==============================] - 0s 7ms/step - loss: 2.9996 - mae: 2.9996\n",
      "Epoch 12/50\n",
      "1/1 [==============================] - 0s 10ms/step - loss: 3.3706 - mae: 3.3706\n",
      "Epoch 13/50\n",
      "1/1 [==============================] - 0s 7ms/step - loss: 3.5711 - mae: 3.5711\n",
      "Epoch 14/50\n",
      "1/1 [==============================] - 0s 12ms/step - loss: 3.7143 - mae: 3.7143\n",
      "Epoch 15/50\n",
      "1/1 [==============================] - 0s 12ms/step - loss: 2.6709 - mae: 2.6709\n",
      "Epoch 16/50\n",
      "1/1 [==============================] - 0s 13ms/step - loss: 4.3852 - mae: 4.3852\n",
      "Epoch 17/50\n",
      "1/1 [==============================] - 0s 12ms/step - loss: 3.0074 - mae: 3.0074\n",
      "Epoch 18/50\n",
      "1/1 [==============================] - 0s 5ms/step - loss: 3.1635 - mae: 3.1635\n",
      "Epoch 19/50\n",
      "1/1 [==============================] - 0s 14ms/step - loss: 4.0409 - mae: 4.0409\n",
      "Epoch 20/50\n",
      "1/1 [==============================] - 0s 11ms/step - loss: 3.3159 - mae: 3.3159\n",
      "Epoch 21/50\n",
      "1/1 [==============================] - 0s 14ms/step - loss: 2.8197 - mae: 2.8197\n",
      "Epoch 22/50\n",
      "1/1 [==============================] - 0s 22ms/step - loss: 4.4920 - mae: 4.4920\n",
      "Epoch 23/50\n",
      "1/1 [==============================] - 0s 11ms/step - loss: 3.1745 - mae: 3.1745\n",
      "Epoch 24/50\n",
      "1/1 [==============================] - 0s 10ms/step - loss: 2.7175 - mae: 2.7175\n",
      "Epoch 25/50\n",
      "1/1 [==============================] - 0s 21ms/step - loss: 4.8149 - mae: 4.8149\n",
      "Epoch 26/50\n",
      "1/1 [==============================] - 0s 7ms/step - loss: 2.8795 - mae: 2.8795\n",
      "Epoch 27/50\n",
      "1/1 [==============================] - 0s 10ms/step - loss: 2.9447 - mae: 2.9447\n",
      "Epoch 28/50\n",
      "1/1 [==============================] - 0s 12ms/step - loss: 4.7549 - mae: 4.7549\n",
      "Epoch 29/50\n",
      "1/1 [==============================] - 0s 14ms/step - loss: 3.3066 - mae: 3.3066\n",
      "Epoch 30/50\n",
      "1/1 [==============================] - 0s 14ms/step - loss: 2.3561 - mae: 2.3561\n",
      "Epoch 31/50\n",
      "1/1 [==============================] - 0s 12ms/step - loss: 6.1251 - mae: 6.1251\n",
      "Epoch 32/50\n",
      "1/1 [==============================] - 0s 12ms/step - loss: 2.6201 - mae: 2.6201\n",
      "Epoch 33/50\n",
      "1/1 [==============================] - 0s 9ms/step - loss: 2.9321 - mae: 2.9321\n",
      "Epoch 34/50\n",
      "1/1 [==============================] - 0s 1ms/step - loss: 5.7486 - mae: 5.7486\n",
      "Epoch 35/50\n",
      "1/1 [==============================] - 0s 7ms/step - loss: 3.2722 - mae: 3.2722\n",
      "Epoch 36/50\n",
      "1/1 [==============================] - 0s 8ms/step - loss: 2.2296 - mae: 2.2296\n",
      "Epoch 37/50\n",
      "1/1 [==============================] - 0s 10ms/step - loss: 6.7977 - mae: 6.7977\n",
      "Epoch 38/50\n",
      "1/1 [==============================] - 0s 5ms/step - loss: 2.5417 - mae: 2.5417\n",
      "Epoch 39/50\n",
      "1/1 [==============================] - 0s 6ms/step - loss: 2.7698 - mae: 2.7698\n",
      "Epoch 40/50\n",
      "1/1 [==============================] - 0s 11ms/step - loss: 3.1234 - mae: 3.1234\n",
      "Epoch 41/50\n",
      "1/1 [==============================] - 0s 13ms/step - loss: 3.8973 - mae: 3.8973\n",
      "Epoch 42/50\n",
      "1/1 [==============================] - 0s 10ms/step - loss: 3.3211 - mae: 3.3211\n",
      "Epoch 43/50\n",
      "1/1 [==============================] - 0s 8ms/step - loss: 2.8093 - mae: 2.8093\n",
      "Epoch 44/50\n",
      "1/1 [==============================] - 0s 11ms/step - loss: 5.7526 - mae: 5.7526\n",
      "Epoch 45/50\n",
      "1/1 [==============================] - 0s 5ms/step - loss: 2.7353 - mae: 2.7353\n",
      "Epoch 46/50\n",
      "1/1 [==============================] - 0s 12ms/step - loss: 2.6058 - mae: 2.6058\n",
      "Epoch 47/50\n",
      "1/1 [==============================] - 0s 13ms/step - loss: 6.2252 - mae: 6.2252\n",
      "Epoch 48/50\n",
      "1/1 [==============================] - 0s 10ms/step - loss: 2.8716 - mae: 2.8716\n",
      "Epoch 49/50\n",
      "1/1 [==============================] - 0s 11ms/step - loss: 2.2767 - mae: 2.2767\n",
      "Epoch 50/50\n",
      "1/1 [==============================] - 0s 13ms/step - loss: 3.4357 - mae: 3.4357\n"
     ]
    },
    {
     "data": {
      "text/plain": [
       "<keras.callbacks.History at 0x262ffba7b80>"
      ]
     },
     "execution_count": 20,
     "metadata": {},
     "output_type": "execute_result"
    }
   ],
   "source": [
    "#Create a model\n",
    "modele = tf.keras.Sequential([\n",
    "    tf.keras.layers.Dense(100, activation=\"relu\"),\n",
    "    tf.keras.layers.Dense(1)\n",
    "])\n",
    "\n",
    "#Compile the model\n",
    "modele.compile(loss=\"mae\",\n",
    "              optimizer=tf.keras.optimizers.Adam(learning_rate=0.1, beta_1=0.1, beta_2=0.1),\n",
    "              metrics=[\"mae\"])\n",
    "\n",
    "#Fit the model\n",
    "modele.fit(x_e, y_1, epochs=50)"
   ]
  },
  {
   "cell_type": "code",
   "execution_count": 21,
   "id": "68e17c99",
   "metadata": {},
   "outputs": [
    {
     "name": "stdout",
     "output_type": "stream",
     "text": [
      "1/1 [==============================] - 0s 174ms/step\n"
     ]
    },
    {
     "data": {
      "text/plain": [
       "array([[29.442911]], dtype=float32)"
      ]
     },
     "execution_count": 21,
     "metadata": {},
     "output_type": "execute_result"
    }
   ],
   "source": [
    "modele.predict([6])"
   ]
  },
  {
   "cell_type": "code",
   "execution_count": 22,
   "id": "be3c8882",
   "metadata": {},
   "outputs": [
    {
     "name": "stdout",
     "output_type": "stream",
     "text": [
      "Epoch 1/50\n",
      "2/2 [==============================] - 2s 19ms/step - loss: 105.3580 - mae: 105.3580\n",
      "Epoch 2/50\n",
      "2/2 [==============================] - 0s 9ms/step - loss: 127.4115 - mae: 127.4115\n",
      "Epoch 3/50\n",
      "2/2 [==============================] - 0s 8ms/step - loss: 129.0404 - mae: 129.0404\n",
      "Epoch 4/50\n",
      "2/2 [==============================] - 0s 11ms/step - loss: 54.0723 - mae: 54.0723\n",
      "Epoch 5/50\n",
      "2/2 [==============================] - 0s 12ms/step - loss: 88.2152 - mae: 88.2152\n",
      "Epoch 6/50\n",
      "2/2 [==============================] - 0s 7ms/step - loss: 62.0217 - mae: 62.0217\n",
      "Epoch 7/50\n",
      "2/2 [==============================] - 0s 8ms/step - loss: 39.6666 - mae: 39.6666\n",
      "Epoch 8/50\n",
      "2/2 [==============================] - 0s 1ms/step - loss: 26.9626 - mae: 26.9626\n",
      "Epoch 9/50\n",
      "2/2 [==============================] - 0s 9ms/step - loss: 15.1435 - mae: 15.1435\n",
      "Epoch 10/50\n",
      "2/2 [==============================] - 0s 9ms/step - loss: 29.0108 - mae: 29.0108\n",
      "Epoch 11/50\n",
      "2/2 [==============================] - 0s 9ms/step - loss: 16.0337 - mae: 16.0337\n",
      "Epoch 12/50\n",
      "2/2 [==============================] - 0s 7ms/step - loss: 9.9629 - mae: 9.9629\n",
      "Epoch 13/50\n",
      "2/2 [==============================] - 0s 9ms/step - loss: 7.5448 - mae: 7.5448\n",
      "Epoch 14/50\n",
      "2/2 [==============================] - 0s 6ms/step - loss: 7.9884 - mae: 7.9884\n",
      "Epoch 15/50\n",
      "2/2 [==============================] - 0s 7ms/step - loss: 20.0703 - mae: 20.0703\n",
      "Epoch 16/50\n",
      "2/2 [==============================] - 0s 9ms/step - loss: 11.1514 - mae: 11.1514\n",
      "Epoch 17/50\n",
      "2/2 [==============================] - 0s 9ms/step - loss: 10.5946 - mae: 10.5946\n",
      "Epoch 18/50\n",
      "2/2 [==============================] - 0s 6ms/step - loss: 21.8020 - mae: 21.8020\n",
      "Epoch 19/50\n",
      "2/2 [==============================] - 0s 8ms/step - loss: 14.3103 - mae: 14.3103\n",
      "Epoch 20/50\n",
      "2/2 [==============================] - 0s 7ms/step - loss: 12.5761 - mae: 12.5761\n",
      "Epoch 21/50\n",
      "2/2 [==============================] - 0s 7ms/step - loss: 12.5331 - mae: 12.5331\n",
      "Epoch 22/50\n",
      "2/2 [==============================] - 0s 6ms/step - loss: 8.2529 - mae: 8.2529\n",
      "Epoch 23/50\n",
      "2/2 [==============================] - 0s 6ms/step - loss: 11.1694 - mae: 11.1694\n",
      "Epoch 24/50\n",
      "2/2 [==============================] - 0s 7ms/step - loss: 8.3071 - mae: 8.3071\n",
      "Epoch 25/50\n",
      "2/2 [==============================] - 0s 7ms/step - loss: 9.8777 - mae: 9.8777\n",
      "Epoch 26/50\n",
      "2/2 [==============================] - 0s 9ms/step - loss: 11.8177 - mae: 11.8177\n",
      "Epoch 27/50\n",
      "2/2 [==============================] - 0s 7ms/step - loss: 10.2701 - mae: 10.2701\n",
      "Epoch 28/50\n",
      "2/2 [==============================] - 0s 12ms/step - loss: 24.6080 - mae: 24.6080\n",
      "Epoch 29/50\n",
      "2/2 [==============================] - 0s 8ms/step - loss: 13.8846 - mae: 13.8846\n",
      "Epoch 30/50\n",
      "2/2 [==============================] - 0s 8ms/step - loss: 18.2416 - mae: 18.2416\n",
      "Epoch 31/50\n",
      "2/2 [==============================] - 0s 9ms/step - loss: 17.6518 - mae: 17.6518\n",
      "Epoch 32/50\n",
      "2/2 [==============================] - 0s 6ms/step - loss: 17.2870 - mae: 17.2870\n",
      "Epoch 33/50\n",
      "2/2 [==============================] - 0s 7ms/step - loss: 8.1344 - mae: 8.1344\n",
      "Epoch 34/50\n",
      "2/2 [==============================] - 0s 5ms/step - loss: 18.1215 - mae: 18.1215\n",
      "Epoch 35/50\n",
      "2/2 [==============================] - 0s 6ms/step - loss: 15.1478 - mae: 15.1478\n",
      "Epoch 36/50\n",
      "2/2 [==============================] - 0s 6ms/step - loss: 18.2903 - mae: 18.2903\n",
      "Epoch 37/50\n",
      "2/2 [==============================] - 0s 6ms/step - loss: 10.6752 - mae: 10.6752\n",
      "Epoch 38/50\n",
      "2/2 [==============================] - 0s 5ms/step - loss: 11.0637 - mae: 11.0637\n",
      "Epoch 39/50\n",
      "2/2 [==============================] - 0s 5ms/step - loss: 10.5689 - mae: 10.5689\n",
      "Epoch 40/50\n",
      "2/2 [==============================] - 0s 9ms/step - loss: 13.2829 - mae: 13.2829\n",
      "Epoch 41/50\n",
      "2/2 [==============================] - 0s 8ms/step - loss: 5.8983 - mae: 5.8983\n",
      "Epoch 42/50\n",
      "2/2 [==============================] - 0s 5ms/step - loss: 21.7794 - mae: 21.7794\n",
      "Epoch 43/50\n",
      "2/2 [==============================] - 0s 9ms/step - loss: 10.0435 - mae: 10.0435\n",
      "Epoch 44/50\n",
      "2/2 [==============================] - 0s 8ms/step - loss: 16.9154 - mae: 16.9154\n",
      "Epoch 45/50\n",
      "2/2 [==============================] - 0s 9ms/step - loss: 15.1102 - mae: 15.1102\n",
      "Epoch 46/50\n",
      "2/2 [==============================] - 0s 5ms/step - loss: 15.3231 - mae: 15.3231\n",
      "Epoch 47/50\n",
      "2/2 [==============================] - 0s 6ms/step - loss: 13.5476 - mae: 13.5476\n",
      "Epoch 48/50\n",
      "2/2 [==============================] - 0s 6ms/step - loss: 16.6444 - mae: 16.6444\n",
      "Epoch 49/50\n",
      "2/2 [==============================] - 0s 11ms/step - loss: 5.2915 - mae: 5.2915\n",
      "Epoch 50/50\n",
      "2/2 [==============================] - 0s 6ms/step - loss: 6.5955 - mae: 6.5955\n"
     ]
    },
    {
     "data": {
      "text/plain": [
       "<keras.callbacks.History at 0x262ff7141f0>"
      ]
     },
     "execution_count": 22,
     "metadata": {},
     "output_type": "execute_result"
    }
   ],
   "source": [
    "#Evalute a model\n",
    "\n",
    "x_l = tf.range(-100,100, 4)\n",
    "x_l = tf.reshape(x_l, shape=(50,1))\n",
    "\n",
    "#Make labels for the dataset\n",
    "y_l = x_l + 10\n",
    "#Create a model\n",
    "modelee = tf.keras.Sequential([\n",
    "    tf.keras.layers.Dense(100, activation=\"relu\"),\n",
    "    tf.keras.layers.Dense(100, activation=\"relu\"),\n",
    "    tf.keras.layers.Dense(100, activation=\"relu\"),\n",
    "    tf.keras.layers.Dense(1)\n",
    "])\n",
    "\n",
    "#Compile the model\n",
    "modelee.compile(loss=\"mae\",\n",
    "              optimizer=tf.keras.optimizers.Adam(learning_rate=0.1),\n",
    "              metrics=[\"mae\"])\n",
    "\n",
    "#Fit the model\n",
    "modelee.fit(x_l, y_l, epochs=50)"
   ]
  },
  {
   "cell_type": "code",
   "execution_count": 23,
   "id": "c087b146",
   "metadata": {},
   "outputs": [
    {
     "name": "stdout",
     "output_type": "stream",
     "text": [
      "WARNING:tensorflow:5 out of the last 5 calls to <function Model.make_predict_function.<locals>.predict_function at 0x00000262FFD39000> triggered tf.function retracing. Tracing is expensive and the excessive number of tracings could be due to (1) creating @tf.function repeatedly in a loop, (2) passing tensors with different shapes, (3) passing Python objects instead of tensors. For (1), please define your @tf.function outside of the loop. For (2), @tf.function has reduce_retracing=True option that can avoid unnecessary retracing. For (3), please refer to https://www.tensorflow.org/guide/function#controlling_retracing and https://www.tensorflow.org/api_docs/python/tf/function for  more details.\n",
      "1/1 [==============================] - 0s 365ms/step\n"
     ]
    },
    {
     "data": {
      "text/plain": [
       "array([[-73.51608]], dtype=float32)"
      ]
     },
     "execution_count": 23,
     "metadata": {},
     "output_type": "execute_result"
    }
   ],
   "source": [
    "modelee.predict([-100])"
   ]
  },
  {
   "cell_type": "code",
   "execution_count": 37,
   "id": "8da7b702",
   "metadata": {},
   "outputs": [
    {
     "name": "stdout",
     "output_type": "stream",
     "text": [
      "Epoch 1/50\n",
      "3/3 [==============================] - 1s 6ms/step - loss: 1208.9730 - mae: 1208.9730\n",
      "Epoch 2/50\n",
      "3/3 [==============================] - 0s 5ms/step - loss: 1177.7535 - mae: 1177.7535\n",
      "Epoch 3/50\n",
      "3/3 [==============================] - 0s 5ms/step - loss: 1130.3119 - mae: 1130.3119\n",
      "Epoch 4/50\n",
      "3/3 [==============================] - 0s 6ms/step - loss: 1071.8088 - mae: 1071.8088\n",
      "Epoch 5/50\n",
      "3/3 [==============================] - 0s 6ms/step - loss: 1016.9642 - mae: 1016.9642\n",
      "Epoch 6/50\n",
      "3/3 [==============================] - 0s 7ms/step - loss: 958.2508 - mae: 958.2508\n",
      "Epoch 7/50\n",
      "3/3 [==============================] - 0s 5ms/step - loss: 917.3544 - mae: 917.3544\n",
      "Epoch 8/50\n",
      "3/3 [==============================] - 0s 6ms/step - loss: 892.9915 - mae: 892.9915\n",
      "Epoch 9/50\n",
      "3/3 [==============================] - 0s 6ms/step - loss: 880.7950 - mae: 880.7950\n",
      "Epoch 10/50\n",
      "3/3 [==============================] - 0s 5ms/step - loss: 884.7868 - mae: 884.7868\n",
      "Epoch 11/50\n",
      "3/3 [==============================] - 0s 4ms/step - loss: 877.3279 - mae: 877.3279\n",
      "Epoch 12/50\n",
      "3/3 [==============================] - 0s 4ms/step - loss: 867.0732 - mae: 867.0732\n",
      "Epoch 13/50\n",
      "3/3 [==============================] - 0s 6ms/step - loss: 852.5288 - mae: 852.5288\n",
      "Epoch 14/50\n",
      "3/3 [==============================] - 0s 4ms/step - loss: 839.4480 - mae: 839.4480\n",
      "Epoch 15/50\n",
      "3/3 [==============================] - 0s 8ms/step - loss: 831.4363 - mae: 831.4363\n",
      "Epoch 16/50\n",
      "3/3 [==============================] - 0s 6ms/step - loss: 823.5054 - mae: 823.5054\n",
      "Epoch 17/50\n",
      "3/3 [==============================] - 0s 6ms/step - loss: 818.0192 - mae: 818.0192\n",
      "Epoch 18/50\n",
      "3/3 [==============================] - 0s 11ms/step - loss: 808.3784 - mae: 808.3784\n",
      "Epoch 19/50\n",
      "3/3 [==============================] - 0s 5ms/step - loss: 795.1588 - mae: 795.1588\n",
      "Epoch 20/50\n",
      "3/3 [==============================] - 0s 7ms/step - loss: 784.9424 - mae: 784.9424\n",
      "Epoch 21/50\n",
      "3/3 [==============================] - 0s 3ms/step - loss: 773.8030 - mae: 773.8030\n",
      "Epoch 22/50\n",
      "3/3 [==============================] - 0s 8ms/step - loss: 760.7441 - mae: 760.7441\n",
      "Epoch 23/50\n",
      "3/3 [==============================] - 0s 6ms/step - loss: 749.7599 - mae: 749.7599\n",
      "Epoch 24/50\n",
      "3/3 [==============================] - 0s 7ms/step - loss: 737.1988 - mae: 737.1988\n",
      "Epoch 25/50\n",
      "3/3 [==============================] - 0s 5ms/step - loss: 726.4263 - mae: 726.4263\n",
      "Epoch 26/50\n",
      "3/3 [==============================] - 0s 4ms/step - loss: 710.2120 - mae: 710.2120\n",
      "Epoch 27/50\n",
      "3/3 [==============================] - 0s 8ms/step - loss: 697.9059 - mae: 697.9059\n",
      "Epoch 28/50\n",
      "3/3 [==============================] - 0s 5ms/step - loss: 683.9539 - mae: 683.9539\n",
      "Epoch 29/50\n",
      "3/3 [==============================] - 0s 620us/step - loss: 669.6041 - mae: 669.6041\n",
      "Epoch 30/50\n",
      "3/3 [==============================] - 0s 9ms/step - loss: 656.4555 - mae: 656.4555\n",
      "Epoch 31/50\n",
      "3/3 [==============================] - 0s 7ms/step - loss: 643.4950 - mae: 643.4950\n",
      "Epoch 32/50\n",
      "3/3 [==============================] - 0s 5ms/step - loss: 627.6423 - mae: 627.6423\n",
      "Epoch 33/50\n",
      "3/3 [==============================] - 0s 5ms/step - loss: 614.4182 - mae: 614.4182\n",
      "Epoch 34/50\n",
      "3/3 [==============================] - 0s 5ms/step - loss: 598.5295 - mae: 598.5295\n",
      "Epoch 35/50\n",
      "3/3 [==============================] - 0s 4ms/step - loss: 588.4926 - mae: 588.4926\n",
      "Epoch 36/50\n",
      "3/3 [==============================] - 0s 6ms/step - loss: 572.1210 - mae: 572.1210\n",
      "Epoch 37/50\n",
      "3/3 [==============================] - 0s 8ms/step - loss: 554.6521 - mae: 554.6521\n",
      "Epoch 38/50\n",
      "3/3 [==============================] - 0s 8ms/step - loss: 540.4056 - mae: 540.4056\n",
      "Epoch 39/50\n",
      "3/3 [==============================] - 0s 4ms/step - loss: 527.3454 - mae: 527.3454\n",
      "Epoch 40/50\n",
      "3/3 [==============================] - 0s 4ms/step - loss: 511.2123 - mae: 511.2123\n",
      "Epoch 41/50\n",
      "3/3 [==============================] - 0s 4ms/step - loss: 497.5220 - mae: 497.5220\n",
      "Epoch 42/50\n",
      "3/3 [==============================] - 0s 4ms/step - loss: 483.1921 - mae: 483.1921\n",
      "Epoch 43/50\n",
      "3/3 [==============================] - 0s 5ms/step - loss: 471.5571 - mae: 471.5571\n",
      "Epoch 44/50\n",
      "3/3 [==============================] - 0s 4ms/step - loss: 456.1132 - mae: 456.1132\n",
      "Epoch 45/50\n",
      "3/3 [==============================] - 0s 3ms/step - loss: 443.3350 - mae: 443.3350\n",
      "Epoch 46/50\n",
      "3/3 [==============================] - 0s 10ms/step - loss: 431.5672 - mae: 431.5672\n",
      "Epoch 47/50\n",
      "3/3 [==============================] - 0s 4ms/step - loss: 416.8984 - mae: 416.8984\n",
      "Epoch 48/50\n",
      "3/3 [==============================] - 0s 3ms/step - loss: 406.2327 - mae: 406.2327\n",
      "Epoch 49/50\n",
      "3/3 [==============================] - 0s 6ms/step - loss: 396.2935 - mae: 396.2935\n",
      "Epoch 50/50\n",
      "3/3 [==============================] - 0s 7ms/step - loss: 391.1769 - mae: 391.1769\n"
     ]
    },
    {
     "data": {
      "text/plain": [
       "<keras.callbacks.History at 0x26285b23070>"
      ]
     },
     "execution_count": 37,
     "metadata": {},
     "output_type": "execute_result"
    }
   ],
   "source": [
    "# Generate test data\n",
    "test_x = tf.range(1, 10, 0.1)\n",
    "test_y = (test_x * tf.math.log(test_x)) ** 3 / 2\n",
    "test_y = tf.reshape(test_y, shape=(test_y.shape[0], 1))\n",
    "\n",
    "# Convert Tensorflow tensors to numpy arrays\n",
    "test_x_np = test_x.numpy()\n",
    "test_y_np = test_y.numpy()\n",
    "\n",
    "# Create a model\n",
    "model_test = tf.keras.Sequential([\n",
    "    tf.keras.layers.Dense(100, activation=\"relu\", input_shape=(1,)),  # Input shape needs to be specified for single-dimensional input\n",
    "    tf.keras.layers.Dense(1)\n",
    "])\n",
    "\n",
    "# Compile the model\n",
    "model_test.compile(loss=\"mae\",\n",
    "                   optimizer=tf.keras.optimizers.Adam(learning_rate=0.1),\n",
    "                   metrics=[\"mae\"])\n",
    "\n",
    "# Fit the model\n",
    "model_test.fit(test_x, test_y, epochs=50)"
   ]
  },
  {
   "cell_type": "code",
   "execution_count": 38,
   "id": "e620c972",
   "metadata": {},
   "outputs": [
    {
     "name": "stdout",
     "output_type": "stream",
     "text": [
      "1/1 [==============================] - 0s 185ms/step\n"
     ]
    },
    {
     "data": {
      "text/plain": [
       "(<tf.Tensor: shape=(), dtype=float32, numpy=2.0000002>,\n",
       " <tf.Tensor: shape=(1,), dtype=float32, numpy=array([1.3320997], dtype=float32)>,\n",
       " array([[-3.2625732]], dtype=float32))"
      ]
     },
     "execution_count": 38,
     "metadata": {},
     "output_type": "execute_result"
    }
   ],
   "source": [
    "##The 3 sets..\n",
    "#Training set - model learns from this set(70-80%)\n",
    "#Validation set - we tune the model on this data(10-15%)\n",
    "#Test set - Test the model what is has learned.(10-15%).\n",
    "test_x[10], test_y[10], model_test.predict([2.0000002])"
   ]
  },
  {
   "cell_type": "code",
   "execution_count": 26,
   "id": "2940de0d",
   "metadata": {},
   "outputs": [
    {
     "data": {
      "text/plain": [
       "90"
      ]
     },
     "execution_count": 26,
     "metadata": {},
     "output_type": "execute_result"
    }
   ],
   "source": [
    "test_y.shape[0]"
   ]
  },
  {
   "cell_type": "code",
   "execution_count": 27,
   "id": "eb6550e0",
   "metadata": {},
   "outputs": [],
   "source": [
    "#!pip install --upgrade matplotlib"
   ]
  },
  {
   "cell_type": "code",
   "execution_count": 28,
   "id": "fd178dda",
   "metadata": {},
   "outputs": [
    {
     "name": "stdout",
     "output_type": "stream",
     "text": [
      "Epoch 1/10\n",
      "3/3 [==============================] - 1s 9ms/step - loss: 1211.2544 - mae: 1211.2544\n",
      "Epoch 2/10\n",
      "3/3 [==============================] - 0s 7ms/step - loss: 1185.2262 - mae: 1185.2262\n",
      "Epoch 3/10\n",
      "3/3 [==============================] - 0s 7ms/step - loss: 1143.5078 - mae: 1143.5078\n",
      "Epoch 4/10\n",
      "3/3 [==============================] - 0s 8ms/step - loss: 1091.7606 - mae: 1091.7606\n",
      "Epoch 5/10\n",
      "3/3 [==============================] - 0s 4ms/step - loss: 1038.3433 - mae: 1038.3433\n",
      "Epoch 6/10\n",
      "3/3 [==============================] - 0s 10ms/step - loss: 977.7791 - mae: 977.7791\n",
      "Epoch 7/10\n",
      "3/3 [==============================] - 0s 6ms/step - loss: 933.9517 - mae: 933.9517\n",
      "Epoch 8/10\n",
      "3/3 [==============================] - 0s 6ms/step - loss: 903.1529 - mae: 903.1529\n",
      "Epoch 9/10\n",
      "3/3 [==============================] - 0s 6ms/step - loss: 882.9891 - mae: 882.9891\n",
      "Epoch 10/10\n",
      "3/3 [==============================] - 0s 7ms/step - loss: 881.8564 - mae: 881.8564\n"
     ]
    },
    {
     "data": {
      "text/plain": [
       "<keras.callbacks.History at 0x26284284e20>"
      ]
     },
     "execution_count": 28,
     "metadata": {},
     "output_type": "execute_result"
    }
   ],
   "source": [
    "# Generate test data\n",
    "test_x = tf.range(1, 10, 0.1)\n",
    "test_y = (test_x * tf.math.log(test_x)) ** 3 / 2\n",
    "test_y = tf.reshape(test_y, shape=(test_y.shape[0], 1))\n",
    "\n",
    "# Convert Tensorflow tensors to numpy arrays\n",
    "test_x_np = test_x.numpy()\n",
    "test_y_np = test_y.numpy()\n",
    "\n",
    "# Create a model\n",
    "model_test = tf.keras.Sequential([\n",
    "    tf.keras.layers.Dense(100, activation=\"relu\", input_shape=(1,)),  # Input shape needs to be specified for single-dimensional input\n",
    "    tf.keras.layers.Dense(1)\n",
    "])\n",
    "\n",
    "# Compile the model\n",
    "model_test.compile(loss=\"mae\",\n",
    "                   optimizer=tf.keras.optimizers.Adam(learning_rate=0.1),\n",
    "                   metrics=[\"mae\"])\n",
    "\n",
    "# Fit the model\n",
    "model_test.fit(test_x, test_y, epochs=10)"
   ]
  },
  {
   "cell_type": "code",
   "execution_count": 29,
   "id": "74cfba1a",
   "metadata": {},
   "outputs": [
    {
     "data": {
      "text/plain": [
       "90"
      ]
     },
     "execution_count": 29,
     "metadata": {},
     "output_type": "execute_result"
    }
   ],
   "source": [
    "len(test_x)"
   ]
  },
  {
   "cell_type": "code",
   "execution_count": 30,
   "id": "5ee30c43",
   "metadata": {},
   "outputs": [
    {
     "data": {
      "text/plain": [
       "(72, 72, 18, 18)"
      ]
     },
     "execution_count": 30,
     "metadata": {},
     "output_type": "execute_result"
    }
   ],
   "source": [
    "#Split the data into test set and train set\n",
    "x_train = test_x[:72]\n",
    "y_train = test_y[:72]\n",
    "\n",
    "x_test = test_x[72:]\n",
    "y_test = test_y[72:]\n",
    "\n",
    "len(x_train), len(y_train), len(x_test), len(x_test)"
   ]
  },
  {
   "cell_type": "code",
   "execution_count": 31,
   "id": "db2afbc1",
   "metadata": {},
   "outputs": [],
   "source": [
    "#plt.figure(figsize=(10, 7))\n",
    "#plt.scatter(x_train, y_train, c=\"b\", label=\"Training data\")\n",
    "#plt.scatter(x_test, y_test, c=\"g\", label=\"Testing data\")\n",
    "#plt.legend();"
   ]
  },
  {
   "cell_type": "code",
   "execution_count": 39,
   "id": "9bba3425",
   "metadata": {},
   "outputs": [],
   "source": [
    "# Create a model\n",
    "model_test = tf.keras.Sequential([\n",
    "    tf.keras.layers.Dense(100, activation=\"relu\"),\n",
    "    tf.keras.layers.Dense(1, input_shape=(1,))\n",
    "])\n",
    "\n",
    "# Compile the model\n",
    "model_test.compile(loss=\"mae\",\n",
    "                   optimizer=tf.keras.optimizers.SGD(),\n",
    "                   metrics=[\"mae\"])\n",
    "\n",
    "# Fit the model\n",
    "#model_test.fit(x_train, y_train, epochs=100)"
   ]
  },
  {
   "cell_type": "code",
   "execution_count": 40,
   "id": "82d3b055",
   "metadata": {},
   "outputs": [
    {
     "ename": "ValueError",
     "evalue": "This model has not yet been built. Build the model first by calling `build()` or by calling the model on a batch of data.",
     "output_type": "error",
     "traceback": [
      "\u001b[1;31m---------------------------------------------------------------------------\u001b[0m",
      "\u001b[1;31mValueError\u001b[0m                                Traceback (most recent call last)",
      "Cell \u001b[1;32mIn[40], line 2\u001b[0m\n\u001b[0;32m      1\u001b[0m \u001b[38;5;66;03m#model_test.build()\u001b[39;00m\n\u001b[1;32m----> 2\u001b[0m \u001b[43mmodel_test\u001b[49m\u001b[38;5;241;43m.\u001b[39;49m\u001b[43msummary\u001b[49m\u001b[43m(\u001b[49m\u001b[43m)\u001b[49m\n",
      "File \u001b[1;32m~\\anaconda3\\envs\\tensorflow\\lib\\site-packages\\keras\\engine\\training.py:3214\u001b[0m, in \u001b[0;36mModel.summary\u001b[1;34m(self, line_length, positions, print_fn, expand_nested, show_trainable, layer_range)\u001b[0m\n\u001b[0;32m   3184\u001b[0m \u001b[38;5;250m\u001b[39m\u001b[38;5;124;03m\"\"\"Prints a string summary of the network.\u001b[39;00m\n\u001b[0;32m   3185\u001b[0m \n\u001b[0;32m   3186\u001b[0m \u001b[38;5;124;03mArgs:\u001b[39;00m\n\u001b[1;32m   (...)\u001b[0m\n\u001b[0;32m   3211\u001b[0m \u001b[38;5;124;03m    ValueError: if `summary()` is called before the model is built.\u001b[39;00m\n\u001b[0;32m   3212\u001b[0m \u001b[38;5;124;03m\"\"\"\u001b[39;00m\n\u001b[0;32m   3213\u001b[0m \u001b[38;5;28;01mif\u001b[39;00m \u001b[38;5;129;01mnot\u001b[39;00m \u001b[38;5;28mself\u001b[39m\u001b[38;5;241m.\u001b[39mbuilt:\n\u001b[1;32m-> 3214\u001b[0m     \u001b[38;5;28;01mraise\u001b[39;00m \u001b[38;5;167;01mValueError\u001b[39;00m(\n\u001b[0;32m   3215\u001b[0m         \u001b[38;5;124m\"\u001b[39m\u001b[38;5;124mThis model has not yet been built. \u001b[39m\u001b[38;5;124m\"\u001b[39m\n\u001b[0;32m   3216\u001b[0m         \u001b[38;5;124m\"\u001b[39m\u001b[38;5;124mBuild the model first by calling `build()` or by calling \u001b[39m\u001b[38;5;124m\"\u001b[39m\n\u001b[0;32m   3217\u001b[0m         \u001b[38;5;124m\"\u001b[39m\u001b[38;5;124mthe model on a batch of data.\u001b[39m\u001b[38;5;124m\"\u001b[39m\n\u001b[0;32m   3218\u001b[0m     )\n\u001b[0;32m   3219\u001b[0m layer_utils\u001b[38;5;241m.\u001b[39mprint_summary(\n\u001b[0;32m   3220\u001b[0m     \u001b[38;5;28mself\u001b[39m,\n\u001b[0;32m   3221\u001b[0m     line_length\u001b[38;5;241m=\u001b[39mline_length,\n\u001b[1;32m   (...)\u001b[0m\n\u001b[0;32m   3226\u001b[0m     layer_range\u001b[38;5;241m=\u001b[39mlayer_range,\n\u001b[0;32m   3227\u001b[0m )\n",
      "\u001b[1;31mValueError\u001b[0m: This model has not yet been built. Build the model first by calling `build()` or by calling the model on a batch of data."
     ]
    }
   ],
   "source": [
    "model_test.build()\n",
    "model_test.summary()"
   ]
  },
  {
   "cell_type": "code",
   "execution_count": null,
   "id": "3ed485d0",
   "metadata": {},
   "outputs": [],
   "source": []
  }
 ],
 "metadata": {
  "kernelspec": {
   "display_name": "Python 3 (ipykernel)",
   "language": "python",
   "name": "python3"
  },
  "language_info": {
   "codemirror_mode": {
    "name": "ipython",
    "version": 3
   },
   "file_extension": ".py",
   "mimetype": "text/x-python",
   "name": "python",
   "nbconvert_exporter": "python",
   "pygments_lexer": "ipython3",
   "version": "3.10.13"
  },
  "varInspector": {
   "cols": {
    "lenName": 16,
    "lenType": 16,
    "lenVar": 40
   },
   "kernels_config": {
    "python": {
     "delete_cmd_postfix": "",
     "delete_cmd_prefix": "del ",
     "library": "var_list.py",
     "varRefreshCmd": "print(var_dic_list())"
    },
    "r": {
     "delete_cmd_postfix": ") ",
     "delete_cmd_prefix": "rm(",
     "library": "var_list.r",
     "varRefreshCmd": "cat(var_dic_list()) "
    }
   },
   "types_to_exclude": [
    "module",
    "function",
    "builtin_function_or_method",
    "instance",
    "_Feature"
   ],
   "window_display": false
  }
 },
 "nbformat": 4,
 "nbformat_minor": 5
}
