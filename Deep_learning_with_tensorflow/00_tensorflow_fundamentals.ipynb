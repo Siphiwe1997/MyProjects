{
 "cells": [
  {
   "cell_type": "code",
   "execution_count": 1,
   "id": "1e74b5e1",
   "metadata": {},
   "outputs": [],
   "source": [
    "#In this notebook, we're going to cover some of the most fundamental concepts of tensors using TensorFlow.\n",
    "#More specifically we're going to cover:\n",
    "# *Introduction\n",
    "# *Getting information from tensors\n",
    "# *Manipulating tensors\n",
    "# *Tensors & NumPy\n",
    "# *Using @tf.function (a way to speed up my regular Python functions)\n",
    "# Exercises to do for my self!!!!"
   ]
  },
  {
   "cell_type": "code",
   "execution_count": 2,
   "id": "6e0bc09c",
   "metadata": {},
   "outputs": [
    {
     "name": "stdout",
     "output_type": "stream",
     "text": [
      "2.10.0\n"
     ]
    }
   ],
   "source": [
    "## Introduction to Tensors\n",
    "import tensorflow as tf\n",
    "print(tf.__version__)"
   ]
  },
  {
   "cell_type": "code",
   "execution_count": 3,
   "id": "1c14bd72",
   "metadata": {},
   "outputs": [
    {
     "data": {
      "text/plain": [
       "<tf.Tensor: shape=(), dtype=int32, numpy=7>"
      ]
     },
     "execution_count": 3,
     "metadata": {},
     "output_type": "execute_result"
    }
   ],
   "source": [
    "#Create tensors with tf.constant()\n",
    "scalar = tf.constant(7)\n",
    "scalar"
   ]
  },
  {
   "cell_type": "code",
   "execution_count": 4,
   "id": "41fac38c",
   "metadata": {},
   "outputs": [
    {
     "data": {
      "text/plain": [
       "0"
      ]
     },
     "execution_count": 4,
     "metadata": {},
     "output_type": "execute_result"
    }
   ],
   "source": [
    "#Check number of dimensions of a tensor (ndim stands for number of dimenstions)\n",
    "scalar.ndim"
   ]
  },
  {
   "cell_type": "code",
   "execution_count": 5,
   "id": "7a16cf60",
   "metadata": {},
   "outputs": [
    {
     "data": {
      "text/plain": [
       "<tf.Tensor: shape=(2,), dtype=int32, numpy=array([10, 10])>"
      ]
     },
     "execution_count": 5,
     "metadata": {},
     "output_type": "execute_result"
    }
   ],
   "source": [
    "# Create a vector\n",
    "vector = tf.constant([10, 10])\n",
    "vector"
   ]
  },
  {
   "cell_type": "code",
   "execution_count": 6,
   "id": "dd8d1211",
   "metadata": {},
   "outputs": [
    {
     "data": {
      "text/plain": [
       "1"
      ]
     },
     "execution_count": 6,
     "metadata": {},
     "output_type": "execute_result"
    }
   ],
   "source": [
    "vector.ndim"
   ]
  },
  {
   "cell_type": "code",
   "execution_count": 7,
   "id": "c0125b2f",
   "metadata": {},
   "outputs": [
    {
     "data": {
      "text/plain": [
       "<tf.Tensor: shape=(2, 2), dtype=int32, numpy=\n",
       "array([[10,  7],\n",
       "       [ 7, 10]])>"
      ]
     },
     "execution_count": 7,
     "metadata": {},
     "output_type": "execute_result"
    }
   ],
   "source": [
    "# Create a matrix \n",
    "matrix = tf.constant([[10, 7],\n",
    "                     [7, 10]])\n",
    "matrix"
   ]
  },
  {
   "cell_type": "code",
   "execution_count": 8,
   "id": "823b4f90",
   "metadata": {},
   "outputs": [
    {
     "data": {
      "text/plain": [
       "2"
      ]
     },
     "execution_count": 8,
     "metadata": {},
     "output_type": "execute_result"
    }
   ],
   "source": [
    "matrix.ndim"
   ]
  },
  {
   "cell_type": "code",
   "execution_count": 9,
   "id": "e6975131",
   "metadata": {},
   "outputs": [
    {
     "data": {
      "text/plain": [
       "<tf.Tensor: shape=(3, 2), dtype=float16, numpy=\n",
       "array([[10.,  7.],\n",
       "       [ 3.,  2.],\n",
       "       [ 8.,  9.]], dtype=float16)>"
      ]
     },
     "execution_count": 9,
     "metadata": {},
     "output_type": "execute_result"
    }
   ],
   "source": [
    "matrix_2 = tf.constant([[10., 7.],\n",
    "                        [3., 2.],\n",
    "                        [8., 9.]], dtype=tf.float16)\n",
    "matrix_2"
   ]
  },
  {
   "cell_type": "code",
   "execution_count": 10,
   "id": "1297455c",
   "metadata": {},
   "outputs": [
    {
     "data": {
      "text/plain": [
       "2"
      ]
     },
     "execution_count": 10,
     "metadata": {},
     "output_type": "execute_result"
    }
   ],
   "source": [
    "matrix_2.ndim"
   ]
  },
  {
   "cell_type": "code",
   "execution_count": 11,
   "id": "62274571",
   "metadata": {},
   "outputs": [
    {
     "data": {
      "text/plain": [
       "<tf.Tensor: shape=(1, 3, 3), dtype=int32, numpy=\n",
       "array([[[1, 2, 3],\n",
       "        [2, 4, 5],\n",
       "        [2, 3, 3]]])>"
      ]
     },
     "execution_count": 11,
     "metadata": {},
     "output_type": "execute_result"
    }
   ],
   "source": [
    "# Create a tensor\n",
    "tensor = tf.constant([[ [1, 2, 3],\n",
    "                       [2, 4, 5],\n",
    "                       [2, 3, 3]\n",
    "                       ]])\n",
    "tensor"
   ]
  },
  {
   "cell_type": "code",
   "execution_count": 12,
   "id": "b7a9458f",
   "metadata": {},
   "outputs": [
    {
     "data": {
      "text/plain": [
       "3"
      ]
     },
     "execution_count": 12,
     "metadata": {},
     "output_type": "execute_result"
    }
   ],
   "source": [
    "tensor.ndim"
   ]
  },
  {
   "cell_type": "code",
   "execution_count": 13,
   "id": "6ea7538f",
   "metadata": {},
   "outputs": [
    {
     "data": {
      "text/plain": [
       "<tf.Tensor: shape=(3, 3), dtype=int32, numpy=\n",
       "array([[1, 3, 2],\n",
       "       [2, 3, 3],\n",
       "       [1, 2, 3]])>"
      ]
     },
     "execution_count": 13,
     "metadata": {},
     "output_type": "execute_result"
    }
   ],
   "source": [
    "tensor_2 = tf.constant([[1, 3, 2],\n",
    "                          [2, 3, 3],\n",
    "                          [1, 2, 3]])\n",
    "tensor_2"
   ]
  },
  {
   "cell_type": "code",
   "execution_count": 14,
   "id": "cd59ccc3",
   "metadata": {},
   "outputs": [
    {
     "data": {
      "text/plain": [
       "(<tf.Variable 'Variable:0' shape=(2,) dtype=int32, numpy=array([10,  7])>,\n",
       " <tf.Variable 'Variable:0' shape=(2,) dtype=int32, numpy=array([10,  7])>)"
      ]
     },
     "execution_count": 14,
     "metadata": {},
     "output_type": "execute_result"
    }
   ],
   "source": [
    "# Creating tensors with with ft.variable(changable tensor)\n",
    "changable_t = tf.Variable([10, 7])\n",
    "unchangable_t = tf.Variable([10, 7])\n",
    "changable_t, unchangable_t"
   ]
  },
  {
   "cell_type": "code",
   "execution_count": 15,
   "id": "67556cd8",
   "metadata": {},
   "outputs": [
    {
     "data": {
      "text/plain": [
       "<tf.Variable 'UnreadVariable' shape=(2,) dtype=int32, numpy=array([12,  7])>"
      ]
     },
     "execution_count": 15,
     "metadata": {},
     "output_type": "execute_result"
    }
   ],
   "source": [
    "changable_t[0].assign(12)"
   ]
  },
  {
   "cell_type": "code",
   "execution_count": 16,
   "id": "f14b4661",
   "metadata": {},
   "outputs": [
    {
     "data": {
      "text/plain": [
       "<tf.Variable 'Variable:0' shape=(1, 4, 3) dtype=int32, numpy=\n",
       "array([[[1, 2, 3],\n",
       "        [2, 4, 6],\n",
       "        [2, 2, 3],\n",
       "        [2, 2, 4]]])>"
      ]
     },
     "execution_count": 16,
     "metadata": {},
     "output_type": "execute_result"
    }
   ],
   "source": [
    "# Create random tensors\n",
    "tensor_3 = tf.Variable([[[1, 2, 3],\n",
    "                         [2, 4, 6],\n",
    "                         [2, 2, 3],\n",
    "                         [2, 2, 4]]])\n",
    "tensor_3"
   ]
  },
  {
   "cell_type": "code",
   "execution_count": 17,
   "id": "833412af",
   "metadata": {},
   "outputs": [
    {
     "data": {
      "text/plain": [
       "<tf.Tensor: shape=(3, 2), dtype=float32, numpy=\n",
       "array([[0.7493447 , 0.73561966],\n",
       "       [0.45230794, 0.49039817],\n",
       "       [0.1889317 , 0.52027524]], dtype=float32)>"
      ]
     },
     "execution_count": 17,
     "metadata": {},
     "output_type": "execute_result"
    }
   ],
   "source": [
    "# Create random tensors\n",
    "rand_1 = tf.random.Generator.from_seed(42)\n",
    "rand_1 = rand_1.normal(shape=(3, 2))\n",
    "rand_1\n",
    "rand_2 = tf.random.Generator.from_seed(42)\n",
    "rand_2 = rand_2.uniform(shape=(3, 2))\n",
    "rand_2"
   ]
  },
  {
   "cell_type": "code",
   "execution_count": 18,
   "id": "f6b20a98",
   "metadata": {},
   "outputs": [
    {
     "data": {
      "text/plain": [
       "<tf.Tensor: shape=(3, 2), dtype=float32, numpy=\n",
       "array([[-0.7565803 , -0.06854702],\n",
       "       [ 0.07595026, -1.2573844 ],\n",
       "       [-0.23193763, -1.8107855 ]], dtype=float32)>"
      ]
     },
     "execution_count": 18,
     "metadata": {},
     "output_type": "execute_result"
    }
   ],
   "source": [
    "rand_3 = tf.random.Generator.from_seed(42)\n",
    "rand_3 = rand_3.normal(shape=(3, 2))\n",
    "rand_3"
   ]
  },
  {
   "cell_type": "code",
   "execution_count": 19,
   "id": "b5d68fc5",
   "metadata": {
    "scrolled": true
   },
   "outputs": [
    {
     "data": {
      "text/plain": [
       "(<tf.Tensor: shape=(3, 2), dtype=float32, numpy=\n",
       " array([[-0.7565803 , -0.06854702],\n",
       "        [ 0.07595026, -1.2573844 ],\n",
       "        [-0.23193763, -1.8107855 ]], dtype=float32)>,\n",
       " <tf.Tensor: shape=(3, 2), dtype=float32, numpy=\n",
       " array([[-0.7565803 , -0.06854702],\n",
       "        [ 0.07595026, -1.2573844 ],\n",
       "        [-0.23193763, -1.8107855 ]], dtype=float32)>,\n",
       " <tf.Tensor: shape=(3, 2), dtype=bool, numpy=\n",
       " array([[ True,  True],\n",
       "        [ True,  True],\n",
       "        [ True,  True]])>)"
      ]
     },
     "execution_count": 19,
     "metadata": {},
     "output_type": "execute_result"
    }
   ],
   "source": [
    "rand_1, rand_3, rand_1 == rand_3"
   ]
  },
  {
   "cell_type": "code",
   "execution_count": 20,
   "id": "8b72735f",
   "metadata": {},
   "outputs": [
    {
     "data": {
      "text/plain": [
       "<tf.Tensor: shape=(3, 2), dtype=int32, numpy=\n",
       "array([[ 7, 10],\n",
       "       [ 1,  3],\n",
       "       [ 2,  2]])>"
      ]
     },
     "execution_count": 20,
     "metadata": {},
     "output_type": "execute_result"
    }
   ],
   "source": [
    "#Shaffle the order of the elements \n",
    "not_shuffled = tf.constant([[7, 10],\n",
    "                            [1, 3],\n",
    "                            [2, 2]])\n",
    "not_shuffled"
   ]
  },
  {
   "cell_type": "code",
   "execution_count": 21,
   "id": "b9a8b56f",
   "metadata": {},
   "outputs": [
    {
     "data": {
      "text/plain": [
       "<tf.Tensor: shape=(3, 2), dtype=int32, numpy=\n",
       "array([[ 2,  2],\n",
       "       [ 1,  3],\n",
       "       [ 7, 10]])>"
      ]
     },
     "execution_count": 21,
     "metadata": {},
     "output_type": "execute_result"
    }
   ],
   "source": [
    "tf.random.shuffle(not_shuffled)"
   ]
  },
  {
   "cell_type": "code",
   "execution_count": 22,
   "id": "93165fbf",
   "metadata": {},
   "outputs": [
    {
     "data": {
      "text/plain": [
       "<tf.Tensor: shape=(3, 2), dtype=int32, numpy=\n",
       "array([[ 7, 10],\n",
       "       [ 1,  3],\n",
       "       [ 2,  2]])>"
      ]
     },
     "execution_count": 22,
     "metadata": {},
     "output_type": "execute_result"
    }
   ],
   "source": [
    "tf.random.set_seed(42)\n",
    "tf.random.shuffle(not_shuffled, seed=42)"
   ]
  },
  {
   "cell_type": "code",
   "execution_count": 23,
   "id": "7cac80c1",
   "metadata": {},
   "outputs": [],
   "source": [
    "# Other ways to create tensors"
   ]
  },
  {
   "cell_type": "code",
   "execution_count": 24,
   "id": "1ae3a09b",
   "metadata": {},
   "outputs": [
    {
     "data": {
      "text/plain": [
       "<tf.Tensor: shape=(4, 4), dtype=float32, numpy=\n",
       "array([[1., 1., 1., 1.],\n",
       "       [1., 1., 1., 1.],\n",
       "       [1., 1., 1., 1.],\n",
       "       [1., 1., 1., 1.]], dtype=float32)>"
      ]
     },
     "execution_count": 24,
     "metadata": {},
     "output_type": "execute_result"
    }
   ],
   "source": [
    "tf.ones(shape=(4, 4))"
   ]
  },
  {
   "cell_type": "code",
   "execution_count": 25,
   "id": "e4d4b8a8",
   "metadata": {},
   "outputs": [
    {
     "data": {
      "text/plain": [
       "<tf.Tensor: shape=(4, 4), dtype=float32, numpy=\n",
       "array([[3., 3., 3., 3.],\n",
       "       [3., 3., 3., 3.],\n",
       "       [3., 3., 3., 3.],\n",
       "       [3., 3., 3., 3.]], dtype=float32)>"
      ]
     },
     "execution_count": 25,
     "metadata": {},
     "output_type": "execute_result"
    }
   ],
   "source": [
    "tf.ones([4, 4])*3"
   ]
  },
  {
   "cell_type": "markdown",
   "id": "93fd3cfc",
   "metadata": {},
   "source": [
    "tf.zeros(shape=(4,4))"
   ]
  },
  {
   "cell_type": "code",
   "execution_count": 26,
   "id": "b18d836b",
   "metadata": {},
   "outputs": [
    {
     "data": {
      "text/plain": [
       "<tf.Tensor: shape=(4, 4), dtype=float32, numpy=\n",
       "array([[2., 2., 2., 2.],\n",
       "       [2., 2., 2., 2.],\n",
       "       [2., 2., 2., 2.],\n",
       "       [2., 2., 2., 2.]], dtype=float32)>"
      ]
     },
     "execution_count": 26,
     "metadata": {},
     "output_type": "execute_result"
    }
   ],
   "source": [
    "tf.zeros(shape=(4,4))+2"
   ]
  },
  {
   "cell_type": "code",
   "execution_count": 27,
   "id": "ef59689d",
   "metadata": {},
   "outputs": [
    {
     "data": {
      "text/plain": [
       "<tf.Tensor: shape=(4, 4), dtype=float32, numpy=\n",
       "array([[1., 0., 0., 0.],\n",
       "       [0., 1., 0., 0.],\n",
       "       [0., 0., 1., 0.],\n",
       "       [0., 0., 0., 1.]], dtype=float32)>"
      ]
     },
     "execution_count": 27,
     "metadata": {},
     "output_type": "execute_result"
    }
   ],
   "source": [
    "tf.eye(4,4)"
   ]
  },
  {
   "cell_type": "code",
   "execution_count": 28,
   "id": "77f2839b",
   "metadata": {},
   "outputs": [
    {
     "data": {
      "text/plain": [
       "array([ 1,  2,  3,  4,  5,  6,  7,  8,  9, 10, 11, 12, 13, 14, 15, 16, 17,\n",
       "       18, 19, 20, 21, 22, 23, 24])"
      ]
     },
     "execution_count": 28,
     "metadata": {},
     "output_type": "execute_result"
    }
   ],
   "source": [
    "#Turn NumPy array to Tensors\n",
    "#Tensors can run much faster on a GPU for numerical computing\n",
    "import numpy as np\n",
    "\n",
    "numpy_A = np.arange(1,25, dtype=np.int32)\n",
    "numpy_A"
   ]
  },
  {
   "cell_type": "code",
   "execution_count": 29,
   "id": "889d7038",
   "metadata": {},
   "outputs": [
    {
     "data": {
      "text/plain": [
       "<tf.Tensor: shape=(2, 3, 4), dtype=int32, numpy=\n",
       "array([[[ 1,  2,  3,  4],\n",
       "        [ 5,  6,  7,  8],\n",
       "        [ 9, 10, 11, 12]],\n",
       "\n",
       "       [[13, 14, 15, 16],\n",
       "        [17, 18, 19, 20],\n",
       "        [21, 22, 23, 24]]])>"
      ]
     },
     "execution_count": 29,
     "metadata": {},
     "output_type": "execute_result"
    }
   ],
   "source": [
    "numpy_tf = tf.constant(numpy_A, shape=(2, 3, 4))\n",
    "numpy_tf"
   ]
  },
  {
   "cell_type": "code",
   "execution_count": 30,
   "id": "868631cd",
   "metadata": {},
   "outputs": [
    {
     "data": {
      "text/plain": [
       "(<tf.Tensor: shape=(3,), dtype=int32, numpy=array([2, 3, 4])>,\n",
       " 3,\n",
       " <tf.Tensor: shape=(), dtype=int32, numpy=24>)"
      ]
     },
     "execution_count": 30,
     "metadata": {},
     "output_type": "execute_result"
    }
   ],
   "source": [
    "#Get information from tensors\n",
    "# Shape\n",
    "# Rank\n",
    "# Axis or dimension\n",
    "# Size\n",
    "tf.shape(numpy_tf), numpy_tf.ndim, tf.size(numpy_tf)"
   ]
  },
  {
   "cell_type": "code",
   "execution_count": 31,
   "id": "31dc612a",
   "metadata": {},
   "outputs": [
    {
     "data": {
      "text/plain": [
       "<tf.Tensor: shape=(0,), dtype=int32, numpy=array([], dtype=int32)>"
      ]
     },
     "execution_count": 31,
     "metadata": {},
     "output_type": "execute_result"
    }
   ],
   "source": [
    "tf.shape(scalar)"
   ]
  },
  {
   "cell_type": "code",
   "execution_count": 32,
   "id": "a23182df",
   "metadata": {},
   "outputs": [
    {
     "data": {
      "text/plain": [
       "0"
      ]
     },
     "execution_count": 32,
     "metadata": {},
     "output_type": "execute_result"
    }
   ],
   "source": [
    "scalar.ndim"
   ]
  },
  {
   "cell_type": "code",
   "execution_count": 33,
   "id": "00a48245",
   "metadata": {},
   "outputs": [],
   "source": [
    "tensor_4 = tf.constant([[1, 2, 4],[1, 3, 5],[2, 4, 5]])"
   ]
  },
  {
   "cell_type": "code",
   "execution_count": 34,
   "id": "5ed8c8f5",
   "metadata": {},
   "outputs": [
    {
     "data": {
      "text/plain": [
       "<tf.Tensor: shape=(3, 3), dtype=int32, numpy=\n",
       "array([[1, 2, 4],\n",
       "       [1, 3, 5],\n",
       "       [2, 4, 5]])>"
      ]
     },
     "execution_count": 34,
     "metadata": {},
     "output_type": "execute_result"
    }
   ],
   "source": [
    "tensor_4"
   ]
  },
  {
   "cell_type": "code",
   "execution_count": 35,
   "id": "7ee1b370",
   "metadata": {},
   "outputs": [],
   "source": [
    "tensor_4 = tf.constant([[[1, 2, 4],[1, 3, 5],[2, 4, 5]],\n",
    "                         [[1, 2, 4],[3, 3, 3],[7, 8, 5]]])"
   ]
  },
  {
   "cell_type": "code",
   "execution_count": 36,
   "id": "dc7db5de",
   "metadata": {},
   "outputs": [
    {
     "data": {
      "text/plain": [
       "<tf.Tensor: shape=(2, 3, 3), dtype=int32, numpy=\n",
       "array([[[1, 2, 4],\n",
       "        [1, 3, 5],\n",
       "        [2, 4, 5]],\n",
       "\n",
       "       [[1, 2, 4],\n",
       "        [3, 3, 3],\n",
       "        [7, 8, 5]]])>"
      ]
     },
     "execution_count": 36,
     "metadata": {},
     "output_type": "execute_result"
    }
   ],
   "source": [
    "tensor_4"
   ]
  },
  {
   "cell_type": "code",
   "execution_count": 37,
   "id": "ff4f4f73",
   "metadata": {},
   "outputs": [
    {
     "data": {
      "text/plain": [
       "<tf.Tensor: shape=(2, 3, 4, 5), dtype=float32, numpy=\n",
       "array([[[[0., 0., 0., 0., 0.],\n",
       "         [0., 0., 0., 0., 0.],\n",
       "         [0., 0., 0., 0., 0.],\n",
       "         [0., 0., 0., 0., 0.]],\n",
       "\n",
       "        [[0., 0., 0., 0., 0.],\n",
       "         [0., 0., 0., 0., 0.],\n",
       "         [0., 0., 0., 0., 0.],\n",
       "         [0., 0., 0., 0., 0.]],\n",
       "\n",
       "        [[0., 0., 0., 0., 0.],\n",
       "         [0., 0., 0., 0., 0.],\n",
       "         [0., 0., 0., 0., 0.],\n",
       "         [0., 0., 0., 0., 0.]]],\n",
       "\n",
       "\n",
       "       [[[0., 0., 0., 0., 0.],\n",
       "         [0., 0., 0., 0., 0.],\n",
       "         [0., 0., 0., 0., 0.],\n",
       "         [0., 0., 0., 0., 0.]],\n",
       "\n",
       "        [[0., 0., 0., 0., 0.],\n",
       "         [0., 0., 0., 0., 0.],\n",
       "         [0., 0., 0., 0., 0.],\n",
       "         [0., 0., 0., 0., 0.]],\n",
       "\n",
       "        [[0., 0., 0., 0., 0.],\n",
       "         [0., 0., 0., 0., 0.],\n",
       "         [0., 0., 0., 0., 0.],\n",
       "         [0., 0., 0., 0., 0.]]]], dtype=float32)>"
      ]
     },
     "execution_count": 37,
     "metadata": {},
     "output_type": "execute_result"
    }
   ],
   "source": [
    "rank_4_tensor = tf.zeros(shape=(2, 3, 4, 5))\n",
    "rank_4_tensor"
   ]
  },
  {
   "cell_type": "code",
   "execution_count": 38,
   "id": "95eadfb0",
   "metadata": {},
   "outputs": [
    {
     "data": {
      "text/plain": [
       "<tf.Tensor: shape=(3, 4, 5), dtype=float32, numpy=\n",
       "array([[[0., 0., 0., 0., 0.],\n",
       "        [0., 0., 0., 0., 0.],\n",
       "        [0., 0., 0., 0., 0.],\n",
       "        [0., 0., 0., 0., 0.]],\n",
       "\n",
       "       [[0., 0., 0., 0., 0.],\n",
       "        [0., 0., 0., 0., 0.],\n",
       "        [0., 0., 0., 0., 0.],\n",
       "        [0., 0., 0., 0., 0.]],\n",
       "\n",
       "       [[0., 0., 0., 0., 0.],\n",
       "        [0., 0., 0., 0., 0.],\n",
       "        [0., 0., 0., 0., 0.],\n",
       "        [0., 0., 0., 0., 0.]]], dtype=float32)>"
      ]
     },
     "execution_count": 38,
     "metadata": {},
     "output_type": "execute_result"
    }
   ],
   "source": [
    "rank_4_tensor[0]"
   ]
  },
  {
   "cell_type": "code",
   "execution_count": 39,
   "id": "a1a51d69",
   "metadata": {},
   "outputs": [
    {
     "data": {
      "text/plain": [
       "<tf.Tensor: shape=(3, 4, 5), dtype=float32, numpy=\n",
       "array([[[0., 0., 0., 0., 0.],\n",
       "        [0., 0., 0., 0., 0.],\n",
       "        [0., 0., 0., 0., 0.],\n",
       "        [0., 0., 0., 0., 0.]],\n",
       "\n",
       "       [[0., 0., 0., 0., 0.],\n",
       "        [0., 0., 0., 0., 0.],\n",
       "        [0., 0., 0., 0., 0.],\n",
       "        [0., 0., 0., 0., 0.]],\n",
       "\n",
       "       [[0., 0., 0., 0., 0.],\n",
       "        [0., 0., 0., 0., 0.],\n",
       "        [0., 0., 0., 0., 0.],\n",
       "        [0., 0., 0., 0., 0.]]], dtype=float32)>"
      ]
     },
     "execution_count": 39,
     "metadata": {},
     "output_type": "execute_result"
    }
   ],
   "source": [
    "rank_4_tensor[1]"
   ]
  },
  {
   "cell_type": "code",
   "execution_count": 40,
   "id": "1c815d46",
   "metadata": {},
   "outputs": [
    {
     "data": {
      "text/plain": [
       "<tf.Tensor: shape=(3, 3, 2, 3), dtype=float32, numpy=\n",
       "array([[[[1., 1., 1.],\n",
       "         [1., 1., 1.]],\n",
       "\n",
       "        [[1., 1., 1.],\n",
       "         [1., 1., 1.]],\n",
       "\n",
       "        [[1., 1., 1.],\n",
       "         [1., 1., 1.]]],\n",
       "\n",
       "\n",
       "       [[[1., 1., 1.],\n",
       "         [1., 1., 1.]],\n",
       "\n",
       "        [[1., 1., 1.],\n",
       "         [1., 1., 1.]],\n",
       "\n",
       "        [[1., 1., 1.],\n",
       "         [1., 1., 1.]]],\n",
       "\n",
       "\n",
       "       [[[1., 1., 1.],\n",
       "         [1., 1., 1.]],\n",
       "\n",
       "        [[1., 1., 1.],\n",
       "         [1., 1., 1.]],\n",
       "\n",
       "        [[1., 1., 1.],\n",
       "         [1., 1., 1.]]]], dtype=float32)>"
      ]
     },
     "execution_count": 40,
     "metadata": {},
     "output_type": "execute_result"
    }
   ],
   "source": [
    "rank_4_tensor = tf.ones(shape=(3,3,2,3))\n",
    "rank_4_tensor"
   ]
  },
  {
   "cell_type": "code",
   "execution_count": 41,
   "id": "e6e4db81",
   "metadata": {},
   "outputs": [
    {
     "data": {
      "text/plain": [
       "<tf.Tensor: shape=(3, 2, 3), dtype=float32, numpy=\n",
       "array([[[1., 1., 1.],\n",
       "        [1., 1., 1.]],\n",
       "\n",
       "       [[1., 1., 1.],\n",
       "        [1., 1., 1.]],\n",
       "\n",
       "       [[1., 1., 1.],\n",
       "        [1., 1., 1.]]], dtype=float32)>"
      ]
     },
     "execution_count": 41,
     "metadata": {},
     "output_type": "execute_result"
    }
   ],
   "source": [
    "rank_4_tensor[0]"
   ]
  },
  {
   "cell_type": "code",
   "execution_count": 42,
   "id": "0dcd04ca",
   "metadata": {},
   "outputs": [
    {
     "data": {
      "text/plain": [
       "<tf.Tensor: shape=(3, 2, 3), dtype=float32, numpy=\n",
       "array([[[1., 1., 1.],\n",
       "        [1., 1., 1.]],\n",
       "\n",
       "       [[1., 1., 1.],\n",
       "        [1., 1., 1.]],\n",
       "\n",
       "       [[1., 1., 1.],\n",
       "        [1., 1., 1.]]], dtype=float32)>"
      ]
     },
     "execution_count": 42,
     "metadata": {},
     "output_type": "execute_result"
    }
   ],
   "source": [
    "rank_4_tensor[1]"
   ]
  },
  {
   "cell_type": "code",
   "execution_count": 43,
   "id": "cd965012",
   "metadata": {},
   "outputs": [
    {
     "data": {
      "text/plain": [
       "<tf.Tensor: shape=(3, 2, 3), dtype=float32, numpy=\n",
       "array([[[1., 1., 1.],\n",
       "        [1., 1., 1.]],\n",
       "\n",
       "       [[1., 1., 1.],\n",
       "        [1., 1., 1.]],\n",
       "\n",
       "       [[1., 1., 1.],\n",
       "        [1., 1., 1.]]], dtype=float32)>"
      ]
     },
     "execution_count": 43,
     "metadata": {},
     "output_type": "execute_result"
    }
   ],
   "source": [
    "rank_4_tensor[2]"
   ]
  },
  {
   "cell_type": "code",
   "execution_count": 44,
   "id": "1dfd6614",
   "metadata": {},
   "outputs": [
    {
     "data": {
      "text/plain": [
       "4"
      ]
     },
     "execution_count": 44,
     "metadata": {},
     "output_type": "execute_result"
    }
   ],
   "source": [
    "rank_4_tensor.ndim"
   ]
  },
  {
   "cell_type": "code",
   "execution_count": 45,
   "id": "bb29f83b",
   "metadata": {},
   "outputs": [
    {
     "data": {
      "text/plain": [
       "<tf.Tensor: shape=(2, 2, 3, 3), dtype=float32, numpy=\n",
       "array([[[[-0.7535805 , -0.57166284,  0.1480774 ],\n",
       "         [-0.23362993, -0.3522796 ,  0.40621263],\n",
       "         [-1.0523509 ,  1.2054597 ,  1.6874489 ]],\n",
       "\n",
       "        [[-0.4462975 , -2.3410842 ,  0.99009085],\n",
       "         [-0.0876323 , -0.635568  , -0.6161736 ],\n",
       "         [-1.9441465 , -0.48293006, -0.52447474]]],\n",
       "\n",
       "\n",
       "       [[[-1.0345329 ,  1.3066901 , -1.5184573 ],\n",
       "         [-0.4585211 ,  0.5714663 , -1.5331722 ],\n",
       "         [ 0.45331386,  1.1487608 , -1.2659091 ]],\n",
       "\n",
       "        [[-0.47450137,  2.006022  ,  0.28288034],\n",
       "         [-0.30288252, -1.443651  ,  1.0034493 ],\n",
       "         [ 0.20857747,  0.35700995,  1.0648885 ]]]], dtype=float32)>"
      ]
     },
     "execution_count": 45,
     "metadata": {},
     "output_type": "execute_result"
    }
   ],
   "source": [
    "rank_4_tensor_rand = tf.random.Generator.from_seed(44)\n",
    "rank_4_tensor_rand = rank_4_tensor_rand.normal(shape=(2,2,3,3))\n",
    "rank_4_tensor_rand"
   ]
  },
  {
   "cell_type": "code",
   "execution_count": 46,
   "id": "112ad1ab",
   "metadata": {},
   "outputs": [
    {
     "name": "stdout",
     "output_type": "stream",
     "text": [
      "Data type of every element: <dtype: 'float32'>\n",
      "Number of dimensions (rank): 4\n",
      "Shape of tensor:  (2, 2, 3, 3)\n",
      "Elements along the 0 axis: 2\n",
      "Elements along the last axis: 3\n",
      "Total number of elements in the tensor: 36\n"
     ]
    }
   ],
   "source": [
    "# Get various attributes of our tensor\n",
    "print(\"Data type of every element:\",rank_4_tensor_rand.dtype)\n",
    "print(\"Number of dimensions (rank):\", rank_4_tensor_rand.ndim)\n",
    "print(\"Shape of tensor: \", rank_4_tensor_rand.shape)\n",
    "print(\"Elements along the 0 axis:\",rank_4_tensor_rand.shape[0])\n",
    "print(\"Elements along the last axis:\", rank_4_tensor_rand.shape[-1])\n",
    "print(\"Total number of elements in the tensor:\",tf.size(rank_4_tensor_rand).numpy())"
   ]
  },
  {
   "cell_type": "code",
   "execution_count": 47,
   "id": "78e3de11",
   "metadata": {},
   "outputs": [
    {
     "data": {
      "text/plain": [
       "(<tf.Tensor: shape=(), dtype=float32, numpy=-0.7535805>,\n",
       " <tf.Tensor: shape=(), dtype=float32, numpy=-0.57166284>,\n",
       " <tf.Tensor: shape=(), dtype=float32, numpy=0.1480774>)"
      ]
     },
     "execution_count": 47,
     "metadata": {},
     "output_type": "execute_result"
    }
   ],
   "source": [
    "rank_4_tensor_rand[0][0][0][0],rank_4_tensor_rand[0][0][0][1],rank_4_tensor_rand[0][0][0][2]"
   ]
  },
  {
   "cell_type": "code",
   "execution_count": 48,
   "id": "6d3cbe5e",
   "metadata": {},
   "outputs": [
    {
     "data": {
      "text/plain": [
       "(<tf.Tensor: shape=(), dtype=float32, numpy=-0.23362993>,\n",
       " <tf.Tensor: shape=(), dtype=float32, numpy=-0.3522796>,\n",
       " <tf.Tensor: shape=(), dtype=float32, numpy=0.40621263>)"
      ]
     },
     "execution_count": 48,
     "metadata": {},
     "output_type": "execute_result"
    }
   ],
   "source": [
    "rank_4_tensor_rand[0][0][1][0],rank_4_tensor_rand[0][0][1][1],rank_4_tensor_rand[0][0][1][2]"
   ]
  },
  {
   "cell_type": "code",
   "execution_count": 49,
   "id": "c59db04a",
   "metadata": {},
   "outputs": [
    {
     "data": {
      "text/plain": [
       "(<tf.Tensor: shape=(), dtype=float32, numpy=-1.0523509>,\n",
       " <tf.Tensor: shape=(), dtype=float32, numpy=1.2054597>,\n",
       " <tf.Tensor: shape=(), dtype=float32, numpy=1.6874489>)"
      ]
     },
     "execution_count": 49,
     "metadata": {},
     "output_type": "execute_result"
    }
   ],
   "source": [
    "rank_4_tensor_rand[0][0][2][0],rank_4_tensor_rand[0][0][2][1],rank_4_tensor_rand[0][0][2][2]"
   ]
  },
  {
   "cell_type": "code",
   "execution_count": 50,
   "id": "04c77a75",
   "metadata": {},
   "outputs": [
    {
     "data": {
      "text/plain": [
       "<tf.Tensor: shape=(), dtype=float32, numpy=-0.4462975>"
      ]
     },
     "execution_count": 50,
     "metadata": {},
     "output_type": "execute_result"
    }
   ],
   "source": [
    "rank_4_tensor_rand[0][1][0][0]"
   ]
  },
  {
   "cell_type": "code",
   "execution_count": 51,
   "id": "e3d33ff7",
   "metadata": {},
   "outputs": [
    {
     "data": {
      "text/plain": [
       "[[1, 2, 3, 4], [2, 3, 3]]"
      ]
     },
     "execution_count": 51,
     "metadata": {},
     "output_type": "execute_result"
    }
   ],
   "source": [
    "some_list = [[1, 2, 3, 4],[2, 3, 3]]\n",
    "some_list[:2]"
   ]
  },
  {
   "cell_type": "code",
   "execution_count": 52,
   "id": "3626d155",
   "metadata": {},
   "outputs": [
    {
     "data": {
      "text/plain": [
       "<tf.Tensor: shape=(2, 2, 2, 2), dtype=float32, numpy=\n",
       "array([[[[-0.7535805 , -0.57166284],\n",
       "         [-0.23362993, -0.3522796 ]],\n",
       "\n",
       "        [[-0.4462975 , -2.3410842 ],\n",
       "         [-0.0876323 , -0.635568  ]]],\n",
       "\n",
       "\n",
       "       [[[-1.0345329 ,  1.3066901 ],\n",
       "         [-0.4585211 ,  0.5714663 ]],\n",
       "\n",
       "        [[-0.47450137,  2.006022  ],\n",
       "         [-0.30288252, -1.443651  ]]]], dtype=float32)>"
      ]
     },
     "execution_count": 52,
     "metadata": {},
     "output_type": "execute_result"
    }
   ],
   "source": [
    "rank_4_tensor_rand[:2, :2, :2, :2]"
   ]
  },
  {
   "cell_type": "code",
   "execution_count": 53,
   "id": "adf46418",
   "metadata": {},
   "outputs": [
    {
     "data": {
      "text/plain": [
       "<tf.Tensor: shape=(1, 1, 1, 3), dtype=float32, numpy=array([[[[-0.7535805 , -0.57166284,  0.1480774 ]]]], dtype=float32)>"
      ]
     },
     "execution_count": 53,
     "metadata": {},
     "output_type": "execute_result"
    }
   ],
   "source": [
    "# This way of indexing it becomes the shape of my tensor\n",
    "rank_4_tensor_rand[:1, :1, :1, :]"
   ]
  },
  {
   "cell_type": "code",
   "execution_count": 54,
   "id": "089f10bf",
   "metadata": {},
   "outputs": [
    {
     "data": {
      "text/plain": [
       "4"
      ]
     },
     "execution_count": 54,
     "metadata": {},
     "output_type": "execute_result"
    }
   ],
   "source": [
    "rank_4_tensor_rand[:1, :1, :, :].ndim"
   ]
  },
  {
   "cell_type": "code",
   "execution_count": 55,
   "id": "f134c011",
   "metadata": {},
   "outputs": [
    {
     "data": {
      "text/plain": [
       "<tf.Tensor: shape=(2, 2), dtype=float32, numpy=\n",
       "array([[ 0.45331386,  1.1487608 ],\n",
       "       [-1.2659091 , -0.47450137]], dtype=float32)>"
      ]
     },
     "execution_count": 55,
     "metadata": {},
     "output_type": "execute_result"
    }
   ],
   "source": [
    "rank_2_tensor = tf.random.Generator.from_seed(50)\n",
    "rank_2_tensor = rank_2_tensor.normal(shape=(2,2))\n",
    "rank_2_tensor"
   ]
  },
  {
   "cell_type": "code",
   "execution_count": 56,
   "id": "372dcdc5",
   "metadata": {},
   "outputs": [
    {
     "data": {
      "text/plain": [
       "2"
      ]
     },
     "execution_count": 56,
     "metadata": {},
     "output_type": "execute_result"
    }
   ],
   "source": [
    "rank_2_tensor.ndim"
   ]
  },
  {
   "cell_type": "code",
   "execution_count": 57,
   "id": "cdb67248",
   "metadata": {},
   "outputs": [
    {
     "data": {
      "text/plain": [
       "-0.47450137"
      ]
     },
     "execution_count": 57,
     "metadata": {},
     "output_type": "execute_result"
    }
   ],
   "source": [
    "rank_2_tensor[1][1].numpy()"
   ]
  },
  {
   "cell_type": "code",
   "execution_count": 58,
   "id": "fa06d946",
   "metadata": {
    "scrolled": true
   },
   "outputs": [
    {
     "data": {
      "text/plain": [
       "<tf.Tensor: shape=(2, 2), dtype=int32, numpy=\n",
       "array([[13, 44],\n",
       "       [35, 59]])>"
      ]
     },
     "execution_count": 58,
     "metadata": {},
     "output_type": "execute_result"
    }
   ],
   "source": [
    "A = tf.constant([[1, 10],[2, 3]])\n",
    "B = tf.constant([[12, 34],[33, 56]])\n",
    "rank_2_ts = A + B\n",
    "rank_2_ts"
   ]
  },
  {
   "cell_type": "code",
   "execution_count": 59,
   "id": "200ee25f",
   "metadata": {},
   "outputs": [
    {
     "data": {
      "text/plain": [
       "(TensorShape([2, 2]), 2)"
      ]
     },
     "execution_count": 59,
     "metadata": {},
     "output_type": "execute_result"
    }
   ],
   "source": [
    "rank_2_ts.shape, rank_2_ts.ndim"
   ]
  },
  {
   "cell_type": "code",
   "execution_count": 60,
   "id": "44bc2882",
   "metadata": {},
   "outputs": [
    {
     "data": {
      "text/plain": [
       "<tf.Tensor: shape=(2,), dtype=int32, numpy=array([44, 59])>"
      ]
     },
     "execution_count": 60,
     "metadata": {},
     "output_type": "execute_result"
    }
   ],
   "source": [
    "#Get the last item of our tensor\n",
    "rank_2_ts[:, -1]"
   ]
  },
  {
   "cell_type": "code",
   "execution_count": 61,
   "id": "5fe1e066",
   "metadata": {},
   "outputs": [
    {
     "data": {
      "text/plain": [
       "<tf.Tensor: shape=(2, 2), dtype=int32, numpy=\n",
       "array([[13, 44],\n",
       "       [35, 59]])>"
      ]
     },
     "execution_count": 61,
     "metadata": {},
     "output_type": "execute_result"
    }
   ],
   "source": [
    "#Add in extra dimenstion to our rank 2 tensor\n",
    "rank_3_ts = rank_2_ts[..., tf.newaxis]\n",
    "rank_3_ts\n",
    "rank_3_ts_new = rank_2_ts[..., ]\n",
    "rank_3_ts_new"
   ]
  },
  {
   "cell_type": "code",
   "execution_count": 62,
   "id": "84c3da23",
   "metadata": {},
   "outputs": [
    {
     "data": {
      "text/plain": [
       "<tf.Tensor: shape=(2, 2, 1), dtype=int32, numpy=\n",
       "array([[[13],\n",
       "        [44]],\n",
       "\n",
       "       [[35],\n",
       "        [59]]])>"
      ]
     },
     "execution_count": 62,
     "metadata": {},
     "output_type": "execute_result"
    }
   ],
   "source": [
    "#Aternative to tf.newaxis\n",
    "tf.expand_dims(rank_2_ts, axis=-1, name=\"Rank_3_exp\")"
   ]
  },
  {
   "cell_type": "code",
   "execution_count": 63,
   "id": "606511f2",
   "metadata": {},
   "outputs": [
    {
     "data": {
      "text/plain": [
       "<tf.Tensor: shape=(2, 2, 1), dtype=int32, numpy=\n",
       "array([[[13],\n",
       "        [44]],\n",
       "\n",
       "       [[35],\n",
       "        [59]]])>"
      ]
     },
     "execution_count": 63,
     "metadata": {},
     "output_type": "execute_result"
    }
   ],
   "source": [
    "rank_3_ts"
   ]
  },
  {
   "cell_type": "code",
   "execution_count": 64,
   "id": "7c72e97c",
   "metadata": {},
   "outputs": [
    {
     "data": {
      "text/plain": [
       "<tf.Tensor: shape=(2, 2), dtype=int32, numpy=\n",
       "array([[13, 44],\n",
       "       [35, 59]])>"
      ]
     },
     "execution_count": 64,
     "metadata": {},
     "output_type": "execute_result"
    }
   ],
   "source": [
    "rank_3_ts_new\n",
    "#tf.squeeze(rank_3_ts_new, axis=1)\n",
    "#rank_3_ts_new"
   ]
  },
  {
   "cell_type": "code",
   "execution_count": 65,
   "id": "4c0923f7",
   "metadata": {},
   "outputs": [
    {
     "data": {
      "text/plain": [
       "(<tf.Tensor: shape=(2, 2), dtype=int32, numpy=\n",
       " array([[ 1, 10],\n",
       "        [ 2,  3]])>,\n",
       " <tf.Tensor: shape=(2, 2), dtype=int32, numpy=\n",
       " array([[12, 34],\n",
       "        [33, 56]])>)"
      ]
     },
     "execution_count": 65,
     "metadata": {},
     "output_type": "execute_result"
    }
   ],
   "source": [
    "# Manipulate tensors(tensor operations)\n",
    "A, B"
   ]
  },
  {
   "cell_type": "code",
   "execution_count": 66,
   "id": "689f9cee",
   "metadata": {},
   "outputs": [
    {
     "data": {
      "text/plain": [
       "array([[13, 44],\n",
       "       [35, 59]])"
      ]
     },
     "execution_count": 66,
     "metadata": {},
     "output_type": "execute_result"
    }
   ],
   "source": [
    "(A + B).numpy()"
   ]
  },
  {
   "cell_type": "code",
   "execution_count": 67,
   "id": "f0caa844",
   "metadata": {},
   "outputs": [
    {
     "data": {
      "text/plain": [
       "array([[-11, -24],\n",
       "       [-31, -53]])"
      ]
     },
     "execution_count": 67,
     "metadata": {},
     "output_type": "execute_result"
    }
   ],
   "source": [
    "(A-B).numpy()"
   ]
  },
  {
   "cell_type": "code",
   "execution_count": 68,
   "id": "7bb602f3",
   "metadata": {},
   "outputs": [
    {
     "data": {
      "text/plain": [
       "array([[0.08333333, 0.29411765],\n",
       "       [0.06060606, 0.05357143]])"
      ]
     },
     "execution_count": 68,
     "metadata": {},
     "output_type": "execute_result"
    }
   ],
   "source": [
    "(A /B).numpy()"
   ]
  },
  {
   "cell_type": "code",
   "execution_count": 69,
   "id": "e9570541",
   "metadata": {},
   "outputs": [
    {
     "data": {
      "text/plain": [
       "array([[ 12, 340],\n",
       "       [ 66, 168]])"
      ]
     },
     "execution_count": 69,
     "metadata": {},
     "output_type": "execute_result"
    }
   ],
   "source": [
    "(A*B).numpy()"
   ]
  },
  {
   "cell_type": "code",
   "execution_count": 70,
   "id": "a3c49f6b",
   "metadata": {},
   "outputs": [
    {
     "data": {
      "text/plain": [
       "<tf.Tensor: shape=(2, 2), dtype=int32, numpy=\n",
       "array([[ 12, 340],\n",
       "       [ 66, 168]])>"
      ]
     },
     "execution_count": 70,
     "metadata": {},
     "output_type": "execute_result"
    }
   ],
   "source": [
    "tf.math.multiply(A,B)"
   ]
  },
  {
   "cell_type": "code",
   "execution_count": 71,
   "id": "74c654d2",
   "metadata": {},
   "outputs": [
    {
     "data": {
      "text/plain": [
       "<tf.Tensor: shape=(2, 2), dtype=int32, numpy=\n",
       "array([[          0, -2147483648],\n",
       "       [-2147483648, -2147483648]])>"
      ]
     },
     "execution_count": 71,
     "metadata": {},
     "output_type": "execute_result"
    }
   ],
   "source": [
    "tf.math.acos(A)"
   ]
  },
  {
   "cell_type": "code",
   "execution_count": 72,
   "id": "f17d287f",
   "metadata": {},
   "outputs": [
    {
     "data": {
      "text/plain": [
       "<tf.Tensor: shape=(2, 2), dtype=int32, numpy=\n",
       "array([[342, 594],\n",
       "       [123, 236]])>"
      ]
     },
     "execution_count": 72,
     "metadata": {},
     "output_type": "execute_result"
    }
   ],
   "source": [
    "#Matrix multiplication in tensor\n",
    "tf.linalg.matmul(A, B)\n"
   ]
  },
  {
   "cell_type": "code",
   "execution_count": 73,
   "id": "116b931f",
   "metadata": {},
   "outputs": [
    {
     "data": {
      "text/plain": [
       "<tf.Tensor: shape=(2, 2), dtype=int32, numpy=\n",
       "array([[342, 594],\n",
       "       [123, 236]])>"
      ]
     },
     "execution_count": 73,
     "metadata": {},
     "output_type": "execute_result"
    }
   ],
   "source": [
    "A @ B"
   ]
  },
  {
   "cell_type": "code",
   "execution_count": 74,
   "id": "5c99bf90",
   "metadata": {},
   "outputs": [
    {
     "data": {
      "text/plain": [
       "(<tf.Tensor: shape=(3, 3), dtype=int32, numpy=\n",
       " array([[1, 2, 3],\n",
       "        [4, 5, 6],\n",
       "        [7, 8, 9]])>,\n",
       " <tf.Tensor: shape=(3, 2), dtype=int32, numpy=\n",
       " array([[2, 4],\n",
       "        [6, 8],\n",
       "        [2, 3]])>)"
      ]
     },
     "execution_count": 74,
     "metadata": {},
     "output_type": "execute_result"
    }
   ],
   "source": [
    "#Create a tensor 3x3 and 3x2\n",
    "C1 = tf.constant([[1, 2, 3],[4, 5, 6],[7, 8, 9]])\n",
    "C2 = tf.constant([[2, 4],[6, 8],[2, 3]])\n",
    "C1, C2"
   ]
  },
  {
   "cell_type": "code",
   "execution_count": 75,
   "id": "b426522f",
   "metadata": {},
   "outputs": [
    {
     "data": {
      "text/plain": [
       "<tf.Tensor: shape=(3, 2), dtype=int32, numpy=\n",
       "array([[ 20,  29],\n",
       "       [ 50,  74],\n",
       "       [ 80, 119]])>"
      ]
     },
     "execution_count": 75,
     "metadata": {},
     "output_type": "execute_result"
    }
   ],
   "source": [
    "C1@C2"
   ]
  },
  {
   "cell_type": "code",
   "execution_count": 76,
   "id": "4ae9d348",
   "metadata": {},
   "outputs": [
    {
     "data": {
      "text/plain": [
       "<tf.Tensor: shape=(1, 1), dtype=int32, numpy=array([[-4]])>"
      ]
     },
     "execution_count": 76,
     "metadata": {},
     "output_type": "execute_result"
    }
   ],
   "source": [
    "A1 = tf.constant([[2, 5, 6]])\n",
    "A2 = tf.constant([[3],[4],[-5]])\n",
    "A1@A2"
   ]
  },
  {
   "cell_type": "code",
   "execution_count": 77,
   "id": "acceea2a",
   "metadata": {},
   "outputs": [
    {
     "data": {
      "text/plain": [
       "<tf.Tensor: shape=(1, 1), dtype=int32, numpy=array([[-4]])>"
      ]
     },
     "execution_count": 77,
     "metadata": {},
     "output_type": "execute_result"
    }
   ],
   "source": [
    "tf.linalg.matmul(A1,A2)"
   ]
  },
  {
   "cell_type": "code",
   "execution_count": 78,
   "id": "b8313658",
   "metadata": {},
   "outputs": [
    {
     "data": {
      "text/plain": [
       "<tf.Tensor: shape=(3, 3), dtype=int32, numpy=\n",
       "array([[  6,  15,  18],\n",
       "       [  8,  20,  24],\n",
       "       [-10, -25, -30]])>"
      ]
     },
     "execution_count": 78,
     "metadata": {},
     "output_type": "execute_result"
    }
   ],
   "source": [
    "A2@A1"
   ]
  },
  {
   "cell_type": "code",
   "execution_count": 79,
   "id": "ce75ea19",
   "metadata": {},
   "outputs": [
    {
     "data": {
      "text/plain": [
       "(<tf.Variable 'Variable:0' shape=(3, 3) dtype=float32, numpy=\n",
       " array([[1., 2., 3.],\n",
       "        [4., 5., 6.],\n",
       "        [7., 8., 9.]], dtype=float32)>,\n",
       " <tf.Tensor: shape=(3, 3), dtype=float32, numpy=\n",
       " array([[0.33705008, 0.7391062 , 0.16512096],\n",
       "        [0.41555858, 0.78638244, 0.45899415],\n",
       "        [0.42686343, 0.5630441 , 0.04115057]], dtype=float32)>)"
      ]
     },
     "execution_count": 79,
     "metadata": {},
     "output_type": "execute_result"
    }
   ],
   "source": [
    "B1 = tf.Variable([[1., 2., 3.],[4., 5., 6.],[7., 8., 9.]])\n",
    "B2 = tf.random.Generator.from_seed(60)\n",
    "B2 = B2.uniform(shape=(3,3))\n",
    "B1,B2"
   ]
  },
  {
   "cell_type": "code",
   "execution_count": 80,
   "id": "20a77090",
   "metadata": {},
   "outputs": [
    {
     "data": {
      "text/plain": [
       "<tf.Tensor: shape=(3, 3), dtype=float32, numpy=\n",
       "array([[ 2.4487576,  4.0010033,  1.206561 ],\n",
       "       [ 5.987174 , 10.266602 ,  3.202358 ],\n",
       "       [ 9.52559  , 16.5322   ,  5.198155 ]], dtype=float32)>"
      ]
     },
     "execution_count": 80,
     "metadata": {},
     "output_type": "execute_result"
    }
   ],
   "source": [
    "tf.linalg.matmul(B1,B2)"
   ]
  },
  {
   "cell_type": "code",
   "execution_count": 81,
   "id": "7424a02a",
   "metadata": {},
   "outputs": [
    {
     "data": {
      "text/plain": [
       "<tf.Tensor: shape=(3, 3), dtype=float32, numpy=\n",
       "array([[ 2.4487576,  4.0010033,  1.206561 ],\n",
       "       [ 5.987174 , 10.266602 ,  3.202358 ],\n",
       "       [ 9.52559  , 16.5322   ,  5.198155 ]], dtype=float32)>"
      ]
     },
     "execution_count": 81,
     "metadata": {},
     "output_type": "execute_result"
    }
   ],
   "source": [
    "tf.matmul(B1,B2)"
   ]
  },
  {
   "cell_type": "code",
   "execution_count": 82,
   "id": "35b8fd4b",
   "metadata": {},
   "outputs": [
    {
     "data": {
      "text/plain": [
       "<tf.Tensor: shape=(3, 3), dtype=float32, numpy=\n",
       "array([[1., 2., 3.],\n",
       "       [4., 5., 6.],\n",
       "       [7., 8., 9.]], dtype=float32)>"
      ]
     },
     "execution_count": 82,
     "metadata": {},
     "output_type": "execute_result"
    }
   ],
   "source": [
    "tf.math.maximum(B1,B1)"
   ]
  },
  {
   "cell_type": "code",
   "execution_count": 83,
   "id": "c1e2cb7a",
   "metadata": {},
   "outputs": [
    {
     "data": {
      "text/plain": [
       "(<tf.Tensor: shape=(3, 2), dtype=int32, numpy=\n",
       " array([[2, 4],\n",
       "        [3, 4],\n",
       "        [4, 5]])>,\n",
       " <tf.Tensor: shape=(3, 2), dtype=int32, numpy=\n",
       " array([[1, 3],\n",
       "        [1, 5],\n",
       "        [2, 8]])>,\n",
       " <tf.Tensor: shape=(2, 3), dtype=int32, numpy=\n",
       " array([[1, 1, 2],\n",
       "        [3, 5, 8]])>,\n",
       " <tf.Tensor: shape=(3, 3), dtype=int32, numpy=\n",
       " array([[14, 22, 36],\n",
       "        [15, 23, 38],\n",
       "        [19, 29, 48]])>)"
      ]
     },
     "execution_count": 83,
     "metadata": {},
     "output_type": "execute_result"
    }
   ],
   "source": [
    "C1 = tf.constant([[2, 4],[3, 4],[4, 5]])\n",
    "C2 = tf.constant([[1, 3],[1, 5],[2, 8]])\n",
    "C1,C2,tf.transpose(C2),C1@tf.transpose(C2)"
   ]
  },
  {
   "cell_type": "code",
   "execution_count": 84,
   "id": "0e7be58b",
   "metadata": {},
   "outputs": [
    {
     "data": {
      "text/plain": [
       "2"
      ]
     },
     "execution_count": 84,
     "metadata": {},
     "output_type": "execute_result"
    }
   ],
   "source": [
    "C1.shape[1]"
   ]
  },
  {
   "cell_type": "code",
   "execution_count": 85,
   "id": "39475572",
   "metadata": {},
   "outputs": [
    {
     "data": {
      "text/plain": [
       "<tf.Tensor: shape=(3, 3), dtype=int32, numpy=\n",
       "array([[22, 14, 34],\n",
       "       [23, 17, 35],\n",
       "       [29, 22, 44]])>"
      ]
     },
     "execution_count": 85,
     "metadata": {},
     "output_type": "execute_result"
    }
   ],
   "source": [
    "C1@tf.reshape(C2, shape=(2, 3))"
   ]
  },
  {
   "cell_type": "code",
   "execution_count": 86,
   "id": "246c483b",
   "metadata": {},
   "outputs": [
    {
     "data": {
      "text/plain": [
       "<tf.Tensor: shape=(3, 3), dtype=int32, numpy=\n",
       "array([[22, 14, 34],\n",
       "       [23, 17, 35],\n",
       "       [29, 22, 44]])>"
      ]
     },
     "execution_count": 86,
     "metadata": {},
     "output_type": "execute_result"
    }
   ],
   "source": [
    "tf.tensordot(C1,tf.reshape(C2, shape=(2, 3)), axes=1)"
   ]
  },
  {
   "cell_type": "code",
   "execution_count": 87,
   "id": "d14d840d",
   "metadata": {},
   "outputs": [
    {
     "data": {
      "text/plain": [
       "<tf.Tensor: shape=(3, 3), dtype=int32, numpy=\n",
       "array([[20, 22, 28],\n",
       "       [22, 25, 32],\n",
       "       [28, 32, 41]])>"
      ]
     },
     "execution_count": 87,
     "metadata": {},
     "output_type": "execute_result"
    }
   ],
   "source": [
    "tf.matmul(C1,tf.transpose(C1))"
   ]
  },
  {
   "cell_type": "code",
   "execution_count": 88,
   "id": "2034ec5d",
   "metadata": {},
   "outputs": [
    {
     "name": "stdout",
     "output_type": "stream",
     "text": [
      "Normal C1:\n",
      "[[2 4]\n",
      " [3 4]\n",
      " [4 5]]\n",
      "Reshaped (2x3):\n",
      "[[2 4 3]\n",
      " [4 4 5]]\n",
      "Transpose of C1:\n",
      "[[2 3 4]\n",
      " [4 4 5]]\n"
     ]
    }
   ],
   "source": [
    "print(\"Normal C1:\")\n",
    "print(C1.numpy())\n",
    "print(\"Reshaped (2x3):\")\n",
    "print(tf.reshape(C1, shape=(2, 3)).numpy())\n",
    "print(\"Transpose of C1:\")\n",
    "print(tf.transpose(C1).numpy())"
   ]
  },
  {
   "cell_type": "code",
   "execution_count": 89,
   "id": "fe8075c1",
   "metadata": {},
   "outputs": [
    {
     "data": {
      "text/plain": [
       "(<tf.Tensor: shape=(3, 2), dtype=int32, numpy=\n",
       " array([[2, 4],\n",
       "        [3, 4],\n",
       "        [4, 5]])>,\n",
       " <tf.Variable 'Variable:0' shape=(3, 3) dtype=float32, numpy=\n",
       " array([[1., 2., 3.],\n",
       "        [4., 5., 6.],\n",
       "        [7., 8., 9.]], dtype=float32)>)"
      ]
     },
     "execution_count": 89,
     "metadata": {},
     "output_type": "execute_result"
    }
   ],
   "source": [
    "#Change data type of the tensor\n",
    "C1,B1"
   ]
  },
  {
   "cell_type": "code",
   "execution_count": 90,
   "id": "7c99aa14",
   "metadata": {},
   "outputs": [
    {
     "data": {
      "text/plain": [
       "(<tf.Tensor: shape=(3, 2), dtype=int32, numpy=\n",
       " array([[2, 4],\n",
       "        [3, 4],\n",
       "        [4, 5]])>,\n",
       " <tf.Variable 'Variable:0' shape=(3, 3) dtype=float32, numpy=\n",
       " array([[1., 2., 3.],\n",
       "        [4., 5., 6.],\n",
       "        [7., 8., 9.]], dtype=float32)>)"
      ]
     },
     "execution_count": 90,
     "metadata": {},
     "output_type": "execute_result"
    }
   ],
   "source": [
    "C1,B1"
   ]
  },
  {
   "cell_type": "code",
   "execution_count": 91,
   "id": "55e52aeb",
   "metadata": {},
   "outputs": [
    {
     "data": {
      "text/plain": [
       "<tf.Tensor: shape=(3, 2), dtype=float16, numpy=\n",
       "array([[2., 4.],\n",
       "       [3., 4.],\n",
       "       [4., 5.]], dtype=float16)>"
      ]
     },
     "execution_count": 91,
     "metadata": {},
     "output_type": "execute_result"
    }
   ],
   "source": [
    "# Casting\n",
    "C_n = tf.cast(C1, dtype=tf.float16)\n",
    "C_n"
   ]
  },
  {
   "cell_type": "code",
   "execution_count": 92,
   "id": "93a2dfc2",
   "metadata": {},
   "outputs": [
    {
     "data": {
      "text/plain": [
       "<tf.Tensor: shape=(3, 3), dtype=float32, numpy=\n",
       "array([[0.33705008, 0.7391062 , 0.16512096],\n",
       "       [0.41555858, 0.78638244, 0.45899415],\n",
       "       [0.42686343, 0.5630441 , 0.04115057]], dtype=float32)>"
      ]
     },
     "execution_count": 92,
     "metadata": {},
     "output_type": "execute_result"
    }
   ],
   "source": [
    "#Aggregating tensors\n",
    "B2"
   ]
  },
  {
   "cell_type": "code",
   "execution_count": 93,
   "id": "9a8ccbec",
   "metadata": {},
   "outputs": [
    {
     "data": {
      "text/plain": [
       "<tf.Tensor: shape=(3, 3), dtype=float32, numpy=\n",
       "array([[0.33705008, 0.7391062 , 0.16512096],\n",
       "       [0.41555858, 0.78638244, 0.45899415],\n",
       "       [0.42686343, 0.5630441 , 0.04115057]], dtype=float32)>"
      ]
     },
     "execution_count": 93,
     "metadata": {},
     "output_type": "execute_result"
    }
   ],
   "source": [
    "tf.abs(B2)"
   ]
  },
  {
   "cell_type": "code",
   "execution_count": 94,
   "id": "4c24d00b",
   "metadata": {},
   "outputs": [
    {
     "data": {
      "text/plain": [
       "<tf.Tensor: shape=(), dtype=float32, numpy=3.9332705>"
      ]
     },
     "execution_count": 94,
     "metadata": {},
     "output_type": "execute_result"
    }
   ],
   "source": [
    "tf.reduce_sum(B2)"
   ]
  },
  {
   "cell_type": "code",
   "execution_count": 95,
   "id": "58a22240",
   "metadata": {},
   "outputs": [
    {
     "data": {
      "text/plain": [
       "<tf.Tensor: shape=(), dtype=float32, numpy=0.78638244>"
      ]
     },
     "execution_count": 95,
     "metadata": {},
     "output_type": "execute_result"
    }
   ],
   "source": [
    "tf.reduce_max(B2)"
   ]
  },
  {
   "cell_type": "code",
   "execution_count": 96,
   "id": "dcf830d3",
   "metadata": {},
   "outputs": [
    {
     "data": {
      "text/plain": [
       "<tf.Tensor: shape=(), dtype=float32, numpy=0.9428091>"
      ]
     },
     "execution_count": 96,
     "metadata": {},
     "output_type": "execute_result"
    }
   ],
   "source": [
    "tf.math.reduce_std(tf.cast(C1, dtype=tf.float32))"
   ]
  },
  {
   "cell_type": "code",
   "execution_count": 97,
   "id": "d44e7b36",
   "metadata": {},
   "outputs": [
    {
     "data": {
      "text/plain": [
       "<tf.Tensor: shape=(), dtype=float32, numpy=0.052319393>"
      ]
     },
     "execution_count": 97,
     "metadata": {},
     "output_type": "execute_result"
    }
   ],
   "source": [
    "tf.math.reduce_variance(B2)"
   ]
  },
  {
   "cell_type": "code",
   "execution_count": 98,
   "id": "a4bbcb3b",
   "metadata": {},
   "outputs": [
    {
     "data": {
      "text/plain": [
       "<tf.Tensor: shape=(), dtype=int32, numpy=5>"
      ]
     },
     "execution_count": 98,
     "metadata": {},
     "output_type": "execute_result"
    }
   ],
   "source": [
    "tf.reduce_max(C1)"
   ]
  },
  {
   "cell_type": "code",
   "execution_count": 99,
   "id": "93333799",
   "metadata": {},
   "outputs": [
    {
     "data": {
      "text/plain": [
       "(<tf.Variable 'Variable:0' shape=(3, 3) dtype=float32, numpy=\n",
       " array([[1., 2., 3.],\n",
       "        [4., 5., 6.],\n",
       "        [7., 8., 9.]], dtype=float32)>,\n",
       " <tf.Tensor: shape=(3, 3), dtype=float32, numpy=\n",
       " array([[0.33705008, 0.7391062 , 0.16512096],\n",
       "        [0.41555858, 0.78638244, 0.45899415],\n",
       "        [0.42686343, 0.5630441 , 0.04115057]], dtype=float32)>)"
      ]
     },
     "execution_count": 99,
     "metadata": {},
     "output_type": "execute_result"
    }
   ],
   "source": [
    "B1,B2"
   ]
  },
  {
   "cell_type": "code",
   "execution_count": 100,
   "id": "8d68abe0",
   "metadata": {},
   "outputs": [
    {
     "data": {
      "text/plain": [
       "<tf.Tensor: shape=(), dtype=float32, numpy=18.52149>"
      ]
     },
     "execution_count": 100,
     "metadata": {},
     "output_type": "execute_result"
    }
   ],
   "source": [
    "tf.tensordot(B1,B2,axes=2)"
   ]
  },
  {
   "cell_type": "code",
   "execution_count": 101,
   "id": "04d5333d",
   "metadata": {},
   "outputs": [
    {
     "data": {
      "text/plain": [
       "<tf.Tensor: shape=(3, 3), dtype=float32, numpy=\n",
       "array([[ 2.4487576,  4.0010033,  1.206561 ],\n",
       "       [ 5.987174 , 10.266602 ,  3.202358 ],\n",
       "       [ 9.52559  , 16.5322   ,  5.198155 ]], dtype=float32)>"
      ]
     },
     "execution_count": 101,
     "metadata": {},
     "output_type": "execute_result"
    }
   ],
   "source": [
    "tf.tensordot(B1,B2, axes=1)"
   ]
  },
  {
   "cell_type": "code",
   "execution_count": 102,
   "id": "b730d245",
   "metadata": {},
   "outputs": [
    {
     "data": {
      "text/plain": [
       "<tf.Tensor: shape=(3, 3), dtype=float32, numpy=\n",
       "array([[ 2.4487576,  4.0010033,  1.206561 ],\n",
       "       [ 5.987174 , 10.266602 ,  3.202358 ],\n",
       "       [ 9.52559  , 16.5322   ,  5.198155 ]], dtype=float32)>"
      ]
     },
     "execution_count": 102,
     "metadata": {},
     "output_type": "execute_result"
    }
   ],
   "source": [
    "tf.matmul(B1,B2)"
   ]
  },
  {
   "cell_type": "code",
   "execution_count": 103,
   "id": "887cbfdc",
   "metadata": {},
   "outputs": [
    {
     "data": {
      "text/plain": [
       "<tf.Tensor: shape=(3, 3), dtype=float32, numpy=\n",
       "array([[ 2.4487576,  4.0010033,  1.206561 ],\n",
       "       [ 5.987174 , 10.266602 ,  3.202358 ],\n",
       "       [ 9.52559  , 16.5322   ,  5.198155 ]], dtype=float32)>"
      ]
     },
     "execution_count": 103,
     "metadata": {},
     "output_type": "execute_result"
    }
   ],
   "source": [
    "B1@B2"
   ]
  },
  {
   "cell_type": "code",
   "execution_count": 104,
   "id": "e5d55a53",
   "metadata": {},
   "outputs": [
    {
     "data": {
      "text/plain": [
       "<tf.Tensor: shape=(3, 3), dtype=float32, numpy=\n",
       "array([[ 30.,  36.,  42.],\n",
       "       [ 66.,  81.,  96.],\n",
       "       [102., 126., 150.]], dtype=float32)>"
      ]
     },
     "execution_count": 104,
     "metadata": {},
     "output_type": "execute_result"
    }
   ],
   "source": [
    "tf.matmul(B1,tf.reshape(B1, shape=(3,3)))"
   ]
  },
  {
   "cell_type": "code",
   "execution_count": 105,
   "id": "c54802d3",
   "metadata": {},
   "outputs": [
    {
     "data": {
      "text/plain": [
       "<tf.Tensor: shape=(3, 3), dtype=float32, numpy=\n",
       "array([[0.68714565, 0.7970737 , 0.5668185 ],\n",
       "       [0.7970737 , 1.0017619 , 0.6390426 ],\n",
       "       [0.5668185 , 0.6390426 , 0.5009244 ]], dtype=float32)>"
      ]
     },
     "execution_count": 105,
     "metadata": {},
     "output_type": "execute_result"
    }
   ],
   "source": [
    "tf.matmul(B2,tf.transpose(B2))"
   ]
  },
  {
   "cell_type": "code",
   "execution_count": 106,
   "id": "d7413d8f",
   "metadata": {},
   "outputs": [
    {
     "data": {
      "text/plain": [
       "(<tf.Tensor: shape=(3, 3), dtype=float32, numpy=\n",
       " array([[0.33705008, 0.7391062 , 0.16512096],\n",
       "        [0.41555858, 0.78638244, 0.45899415],\n",
       "        [0.42686343, 0.5630441 , 0.04115057]], dtype=float32)>,\n",
       " <tf.Variable 'Variable:0' shape=(3, 3) dtype=float32, numpy=\n",
       " array([[1., 2., 3.],\n",
       "        [4., 5., 6.],\n",
       "        [7., 8., 9.]], dtype=float32)>)"
      ]
     },
     "execution_count": 106,
     "metadata": {},
     "output_type": "execute_result"
    }
   ],
   "source": [
    "B2,B1"
   ]
  },
  {
   "cell_type": "code",
   "execution_count": 107,
   "id": "7857fdfa",
   "metadata": {},
   "outputs": [
    {
     "data": {
      "text/plain": [
       "'2.10.0'"
      ]
     },
     "execution_count": 107,
     "metadata": {},
     "output_type": "execute_result"
    }
   ],
   "source": [
    "tf.__version__"
   ]
  },
  {
   "cell_type": "code",
   "execution_count": 108,
   "id": "ae3aa669",
   "metadata": {},
   "outputs": [],
   "source": [
    "BC = tf.cast(B1, dtype=tf.int32)"
   ]
  },
  {
   "cell_type": "code",
   "execution_count": 109,
   "id": "a913919c",
   "metadata": {},
   "outputs": [
    {
     "data": {
      "text/plain": [
       "<tf.Tensor: shape=(3, 3), dtype=int16, numpy=\n",
       "array([[0, 0, 0],\n",
       "       [0, 0, 0],\n",
       "       [0, 0, 0]], dtype=int16)>"
      ]
     },
     "execution_count": 109,
     "metadata": {},
     "output_type": "execute_result"
    }
   ],
   "source": [
    "Bc = tf.cast(B2, dtype=tf.int16)\n",
    "Bc"
   ]
  },
  {
   "cell_type": "code",
   "execution_count": 110,
   "id": "26bd0871",
   "metadata": {},
   "outputs": [
    {
     "data": {
      "text/plain": [
       "<tf.Tensor: shape=(4, 4), dtype=float32, numpy=\n",
       "array([[1., 0., 0., 0.],\n",
       "       [0., 1., 0., 0.],\n",
       "       [0., 0., 1., 0.],\n",
       "       [0., 0., 0., 1.]], dtype=float32)>"
      ]
     },
     "execution_count": 110,
     "metadata": {},
     "output_type": "execute_result"
    }
   ],
   "source": [
    "B = tf.cast(B1, dtype=tf.int32)\n",
    "tf.eye(4,4)"
   ]
  },
  {
   "cell_type": "code",
   "execution_count": 111,
   "id": "43e49589",
   "metadata": {},
   "outputs": [
    {
     "data": {
      "text/plain": [
       "3.666"
      ]
     },
     "execution_count": 111,
     "metadata": {},
     "output_type": "execute_result"
    }
   ],
   "source": [
    "tf.reduce_mean(C_n).numpy()"
   ]
  },
  {
   "cell_type": "code",
   "execution_count": 112,
   "id": "f3154e44",
   "metadata": {},
   "outputs": [
    {
     "data": {
      "text/plain": [
       "0.943"
      ]
     },
     "execution_count": 112,
     "metadata": {},
     "output_type": "execute_result"
    }
   ],
   "source": [
    "tf.math.reduce_std(C_n).numpy()"
   ]
  },
  {
   "cell_type": "code",
   "execution_count": 113,
   "id": "fa772735",
   "metadata": {},
   "outputs": [
    {
     "data": {
      "text/plain": [
       "<tf.Tensor: shape=(), dtype=float16, numpy=0.0>"
      ]
     },
     "execution_count": 113,
     "metadata": {},
     "output_type": "execute_result"
    }
   ],
   "source": [
    "lstNum = [1, 2, 3, 4, 5, 6, 7, 8, 9, 0]\n",
    "tf.math.reduce_sum(lstNum)\n",
    "lstNum = tf.cast(lstNum, dtype=tf.float16)\n",
    "tf.math.reduce_variance(lstNum)\n",
    "tf.math.reduce_std(lstNum)\n",
    "tf.math.reduce_prod(lstNum)"
   ]
  },
  {
   "cell_type": "code",
   "execution_count": 114,
   "id": "7303e5d0",
   "metadata": {},
   "outputs": [
    {
     "data": {
      "text/plain": [
       "<tf.Tensor: shape=(3, 2), dtype=int32, numpy=\n",
       "array([[2, 4],\n",
       "       [3, 4],\n",
       "       [4, 5]])>"
      ]
     },
     "execution_count": 114,
     "metadata": {},
     "output_type": "execute_result"
    }
   ],
   "source": [
    "C1"
   ]
  },
  {
   "cell_type": "code",
   "execution_count": 115,
   "id": "b2ba405d",
   "metadata": {},
   "outputs": [
    {
     "data": {
      "text/plain": [
       "<tf.Variable 'Variable:0' shape=(3, 3) dtype=float32, numpy=\n",
       "array([[1., 2., 3.],\n",
       "       [4., 5., 6.],\n",
       "       [7., 8., 9.]], dtype=float32)>"
      ]
     },
     "execution_count": 115,
     "metadata": {},
     "output_type": "execute_result"
    }
   ],
   "source": [
    "B1"
   ]
  },
  {
   "cell_type": "code",
   "execution_count": 116,
   "id": "b4edb027",
   "metadata": {},
   "outputs": [
    {
     "data": {
      "text/plain": [
       "<tf.Tensor: shape=(3, 3), dtype=float32, numpy=\n",
       "array([[0.33705008, 0.7391062 , 0.16512096],\n",
       "       [0.41555858, 0.78638244, 0.45899415],\n",
       "       [0.42686343, 0.5630441 , 0.04115057]], dtype=float32)>"
      ]
     },
     "execution_count": 116,
     "metadata": {},
     "output_type": "execute_result"
    }
   ],
   "source": [
    "B2"
   ]
  },
  {
   "cell_type": "code",
   "execution_count": 117,
   "id": "052c57d4",
   "metadata": {},
   "outputs": [
    {
     "data": {
      "text/plain": [
       "(TensorShape([10, 5]),\n",
       " <tf.Tensor: shape=(10, 5), dtype=float32, numpy=\n",
       " array([[0.6645621 , 0.44100678, 0.3528825 , 0.46448255, 0.03366041],\n",
       "        [0.68467236, 0.74011743, 0.8724445 , 0.22632635, 0.22319686],\n",
       "        [0.3103881 , 0.7223358 , 0.13318717, 0.5480639 , 0.5746088 ],\n",
       "        [0.8996835 , 0.00946367, 0.5212307 , 0.6345445 , 0.1993283 ],\n",
       "        [0.72942245, 0.54583454, 0.10756552, 0.6767061 , 0.6602763 ],\n",
       "        [0.33695042, 0.60141766, 0.21062577, 0.8527372 , 0.44062173],\n",
       "        [0.9485276 , 0.23752594, 0.81179297, 0.5263394 , 0.494308  ],\n",
       "        [0.21612847, 0.8457197 , 0.8718841 , 0.3083862 , 0.6868038 ],\n",
       "        [0.23764038, 0.7817228 , 0.9671384 , 0.06870162, 0.79873943],\n",
       "        [0.66028714, 0.5871513 , 0.16461694, 0.7381023 , 0.32054043]],\n",
       "       dtype=float32)>)"
      ]
     },
     "execution_count": 117,
     "metadata": {},
     "output_type": "execute_result"
    }
   ],
   "source": [
    "b = tf.random.uniform(shape=(10,5))\n",
    "b.shape, b\n"
   ]
  },
  {
   "cell_type": "code",
   "execution_count": 118,
   "id": "85330dbf",
   "metadata": {},
   "outputs": [],
   "source": [
    "assert b[1][tf.argmax(b[1][:])] == tf.reduce_max(b[1][:])"
   ]
  },
  {
   "cell_type": "code",
   "execution_count": 119,
   "id": "d63e5105",
   "metadata": {},
   "outputs": [
    {
     "data": {
      "text/plain": [
       "(<tf.Tensor: shape=(1, 1, 1, 1, 50), dtype=float32, numpy=\n",
       " array([[[[[0.6645621 , 0.44100678, 0.3528825 , 0.46448255, 0.03366041,\n",
       "            0.68467236, 0.74011743, 0.8724445 , 0.22632635, 0.22319686,\n",
       "            0.3103881 , 0.7223358 , 0.13318717, 0.5480639 , 0.5746088 ,\n",
       "            0.8996835 , 0.00946367, 0.5212307 , 0.6345445 , 0.1993283 ,\n",
       "            0.72942245, 0.54583454, 0.10756552, 0.6767061 , 0.6602763 ,\n",
       "            0.33695042, 0.60141766, 0.21062577, 0.8527372 , 0.44062173,\n",
       "            0.9485276 , 0.23752594, 0.81179297, 0.5263394 , 0.494308  ,\n",
       "            0.21612847, 0.8457197 , 0.8718841 , 0.3083862 , 0.6868038 ,\n",
       "            0.23764038, 0.7817228 , 0.9671384 , 0.06870162, 0.79873943,\n",
       "            0.66028714, 0.5871513 , 0.16461694, 0.7381023 , 0.32054043]]]]],\n",
       "       dtype=float32)>,\n",
       " <tf.Tensor: shape=(50,), dtype=float32, numpy=\n",
       " array([0.6645621 , 0.44100678, 0.3528825 , 0.46448255, 0.03366041,\n",
       "        0.68467236, 0.74011743, 0.8724445 , 0.22632635, 0.22319686,\n",
       "        0.3103881 , 0.7223358 , 0.13318717, 0.5480639 , 0.5746088 ,\n",
       "        0.8996835 , 0.00946367, 0.5212307 , 0.6345445 , 0.1993283 ,\n",
       "        0.72942245, 0.54583454, 0.10756552, 0.6767061 , 0.6602763 ,\n",
       "        0.33695042, 0.60141766, 0.21062577, 0.8527372 , 0.44062173,\n",
       "        0.9485276 , 0.23752594, 0.81179297, 0.5263394 , 0.494308  ,\n",
       "        0.21612847, 0.8457197 , 0.8718841 , 0.3083862 , 0.6868038 ,\n",
       "        0.23764038, 0.7817228 , 0.9671384 , 0.06870162, 0.79873943,\n",
       "        0.66028714, 0.5871513 , 0.16461694, 0.7381023 , 0.32054043],\n",
       "       dtype=float32)>)"
      ]
     },
     "execution_count": 119,
     "metadata": {},
     "output_type": "execute_result"
    }
   ],
   "source": [
    "b = tf.reshape(b, shape=[1, 1, 1, 1, 50])\n",
    "b_squeezed = tf.squeeze(b)\n",
    "b,b_squeezed"
   ]
  },
  {
   "cell_type": "markdown",
   "id": "531a8de3",
   "metadata": {},
   "source": [
    "lstNum"
   ]
  },
  {
   "cell_type": "code",
   "execution_count": 120,
   "id": "fb801502",
   "metadata": {},
   "outputs": [
    {
     "data": {
      "text/plain": [
       "(<tf.Tensor: shape=(10,), dtype=float16, numpy=array([1., 2., 3., 4., 5., 6., 7., 8., 9., 0.], dtype=float16)>,)"
      ]
     },
     "execution_count": 120,
     "metadata": {},
     "output_type": "execute_result"
    }
   ],
   "source": [
    "lstNum,"
   ]
  },
  {
   "cell_type": "code",
   "execution_count": 121,
   "id": "3d491664",
   "metadata": {},
   "outputs": [
    {
     "data": {
      "text/plain": [
       "<tf.Tensor: shape=(4, 4), dtype=float32, numpy=\n",
       "array([[0., 0., 0., 1.],\n",
       "       [0., 0., 1., 0.],\n",
       "       [0., 1., 0., 0.],\n",
       "       [1., 0., 0., 0.]], dtype=float32)>"
      ]
     },
     "execution_count": 121,
     "metadata": {},
     "output_type": "execute_result"
    }
   ],
   "source": [
    "lst = [3, 2, 1, 0]\n",
    "tf.one_hot(lst, depth=4)"
   ]
  },
  {
   "cell_type": "code",
   "execution_count": 122,
   "id": "26721b71",
   "metadata": {},
   "outputs": [
    {
     "data": {
      "text/plain": [
       "<tf.Tensor: shape=(10, 10), dtype=float32, numpy=\n",
       "array([[0., 1., 0., 0., 0., 0., 0., 0., 0., 0.],\n",
       "       [0., 0., 1., 0., 0., 0., 0., 0., 0., 0.],\n",
       "       [0., 0., 0., 1., 0., 0., 0., 0., 0., 0.],\n",
       "       [0., 0., 0., 0., 1., 0., 0., 0., 0., 0.],\n",
       "       [0., 0., 0., 0., 0., 1., 0., 0., 0., 0.],\n",
       "       [0., 0., 0., 0., 0., 0., 1., 0., 0., 0.],\n",
       "       [0., 0., 0., 0., 0., 0., 0., 1., 0., 0.],\n",
       "       [0., 0., 0., 0., 0., 0., 0., 0., 1., 0.],\n",
       "       [0., 0., 0., 0., 0., 0., 0., 0., 0., 1.],\n",
       "       [1., 0., 0., 0., 0., 0., 0., 0., 0., 0.]], dtype=float32)>"
      ]
     },
     "execution_count": 122,
     "metadata": {},
     "output_type": "execute_result"
    }
   ],
   "source": [
    "lstNum = tf.cast(lstNum, dtype=tf.int32)\n",
    "tf.one_hot(lstNum, depth=10)"
   ]
  },
  {
   "cell_type": "code",
   "execution_count": 123,
   "id": "edf4c16f",
   "metadata": {},
   "outputs": [
    {
     "data": {
      "text/plain": [
       "<tf.Tensor: shape=(10,), dtype=int32, numpy=array([1, 1, 1, 1, 1, 1, 1, 1, 1, 1])>"
      ]
     },
     "execution_count": 123,
     "metadata": {},
     "output_type": "execute_result"
    }
   ],
   "source": [
    "tf.ones_like(lstNum)"
   ]
  },
  {
   "cell_type": "code",
   "execution_count": 124,
   "id": "9d1df05e",
   "metadata": {},
   "outputs": [
    {
     "data": {
      "text/plain": [
       "<tf.Tensor: shape=(10, 10), dtype=string, numpy=\n",
       "array([[b'I also live programming', b'Yoo, I love depth learning',\n",
       "        b'I also live programming', b'I also live programming',\n",
       "        b'I also live programming', b'I also live programming',\n",
       "        b'I also live programming', b'I also live programming',\n",
       "        b'I also live programming', b'I also live programming'],\n",
       "       [b'I also live programming', b'I also live programming',\n",
       "        b'Yoo, I love depth learning', b'I also live programming',\n",
       "        b'I also live programming', b'I also live programming',\n",
       "        b'I also live programming', b'I also live programming',\n",
       "        b'I also live programming', b'I also live programming'],\n",
       "       [b'I also live programming', b'I also live programming',\n",
       "        b'I also live programming', b'Yoo, I love depth learning',\n",
       "        b'I also live programming', b'I also live programming',\n",
       "        b'I also live programming', b'I also live programming',\n",
       "        b'I also live programming', b'I also live programming'],\n",
       "       [b'I also live programming', b'I also live programming',\n",
       "        b'I also live programming', b'I also live programming',\n",
       "        b'Yoo, I love depth learning', b'I also live programming',\n",
       "        b'I also live programming', b'I also live programming',\n",
       "        b'I also live programming', b'I also live programming'],\n",
       "       [b'I also live programming', b'I also live programming',\n",
       "        b'I also live programming', b'I also live programming',\n",
       "        b'I also live programming', b'Yoo, I love depth learning',\n",
       "        b'I also live programming', b'I also live programming',\n",
       "        b'I also live programming', b'I also live programming'],\n",
       "       [b'I also live programming', b'I also live programming',\n",
       "        b'I also live programming', b'I also live programming',\n",
       "        b'I also live programming', b'I also live programming',\n",
       "        b'Yoo, I love depth learning', b'I also live programming',\n",
       "        b'I also live programming', b'I also live programming'],\n",
       "       [b'I also live programming', b'I also live programming',\n",
       "        b'I also live programming', b'I also live programming',\n",
       "        b'I also live programming', b'I also live programming',\n",
       "        b'I also live programming', b'Yoo, I love depth learning',\n",
       "        b'I also live programming', b'I also live programming'],\n",
       "       [b'I also live programming', b'I also live programming',\n",
       "        b'I also live programming', b'I also live programming',\n",
       "        b'I also live programming', b'I also live programming',\n",
       "        b'I also live programming', b'I also live programming',\n",
       "        b'Yoo, I love depth learning', b'I also live programming'],\n",
       "       [b'I also live programming', b'I also live programming',\n",
       "        b'I also live programming', b'I also live programming',\n",
       "        b'I also live programming', b'I also live programming',\n",
       "        b'I also live programming', b'I also live programming',\n",
       "        b'I also live programming', b'Yoo, I love depth learning'],\n",
       "       [b'Yoo, I love depth learning', b'I also live programming',\n",
       "        b'I also live programming', b'I also live programming',\n",
       "        b'I also live programming', b'I also live programming',\n",
       "        b'I also live programming', b'I also live programming',\n",
       "        b'I also live programming', b'I also live programming']],\n",
       "      dtype=object)>"
      ]
     },
     "execution_count": 124,
     "metadata": {},
     "output_type": "execute_result"
    }
   ],
   "source": [
    "tf.one_hot(lstNum, depth=10, on_value=\"Yoo, I love depth learning\", off_value=\"I also live programming\")"
   ]
  },
  {
   "cell_type": "code",
   "execution_count": 125,
   "id": "dd7eeb97",
   "metadata": {},
   "outputs": [
    {
     "data": {
      "text/plain": [
       "<tf.Tensor: shape=(5, 5), dtype=string, numpy=\n",
       "array([[b'King', b'Tee', b'King', b'King', b'King'],\n",
       "       [b'King', b'King', b'King', b'King', b'Tee'],\n",
       "       [b'King', b'King', b'King', b'King', b'King'],\n",
       "       [b'King', b'King', b'King', b'King', b'King'],\n",
       "       [b'King', b'King', b'King', b'Tee', b'King']], dtype=object)>"
      ]
     },
     "execution_count": 125,
     "metadata": {},
     "output_type": "execute_result"
    }
   ],
   "source": [
    "indices = [1, 4, 6, 7, 3]\n",
    "depth = 5\n",
    "tf.one_hot(indices, depth=depth, on_value=\"Tee\", off_value=\"King\")"
   ]
  },
  {
   "cell_type": "code",
   "execution_count": 126,
   "id": "74ff73eb",
   "metadata": {},
   "outputs": [
    {
     "data": {
      "text/plain": [
       "<tf.Tensor: shape=(4,), dtype=int32, numpy=array([1, 2, 3, 4])>"
      ]
     },
     "execution_count": 126,
     "metadata": {},
     "output_type": "execute_result"
    }
   ],
   "source": [
    "##Create tensor using range\n",
    "H = tf.range(1, 5)\n",
    "H"
   ]
  },
  {
   "cell_type": "code",
   "execution_count": 127,
   "id": "1c6a22dc",
   "metadata": {},
   "outputs": [
    {
     "data": {
      "text/plain": [
       "(<tf.Tensor: shape=(3, 3), dtype=float32, numpy=\n",
       " array([[0.58056015, 0.85971284, 0.4063508 ],\n",
       "        [0.64463836, 0.88678205, 0.67749107],\n",
       "        [0.65334785, 0.75036263, 0.20285603]], dtype=float32)>,\n",
       " <tf.Tensor: shape=(3, 3), dtype=float32, numpy=\n",
       " array([[0.11360276, 0.54627794, 0.02726493],\n",
       "        [0.17268893, 0.61839736, 0.21067563],\n",
       "        [0.18221238, 0.31701863, 0.00169337]], dtype=float32)>)"
      ]
     },
     "execution_count": 127,
     "metadata": {},
     "output_type": "execute_result"
    }
   ],
   "source": [
    "tf.math.sqrt(B2), tf.math.square(B2)"
   ]
  },
  {
   "cell_type": "code",
   "execution_count": 128,
   "id": "5cdbbd9a",
   "metadata": {},
   "outputs": [
    {
     "data": {
      "text/plain": [
       "<tf.Tensor: shape=(3, 3), dtype=float32, numpy=\n",
       "array([[-1.0875237 , -0.3023137 , -1.801077  ],\n",
       "       [-0.8781317 , -0.24031204, -0.7787178 ],\n",
       "       [-0.8512911 , -0.5743974 , -3.1905174 ]], dtype=float32)>"
      ]
     },
     "execution_count": 128,
     "metadata": {},
     "output_type": "execute_result"
    }
   ],
   "source": [
    "tf.math.log(B2)"
   ]
  },
  {
   "cell_type": "code",
   "execution_count": 129,
   "id": "2d1557c7",
   "metadata": {},
   "outputs": [
    {
     "data": {
      "text/plain": [
       "<tf.Tensor: shape=(3, 3), dtype=float32, numpy=\n",
       "array([[nan, nan, nan],\n",
       "       [nan, nan, nan],\n",
       "       [nan, nan, nan]], dtype=float32)>"
      ]
     },
     "execution_count": 129,
     "metadata": {},
     "output_type": "execute_result"
    }
   ],
   "source": [
    "tf.sqrt(tf.math.log(B2))"
   ]
  },
  {
   "cell_type": "code",
   "execution_count": 130,
   "id": "d1ea9a0c",
   "metadata": {},
   "outputs": [
    {
     "data": {
      "text/plain": [
       "(2-10j)"
      ]
     },
     "execution_count": 130,
     "metadata": {},
     "output_type": "execute_result"
    }
   ],
   "source": [
    "tf.complex(2.,-2.).numpy()*tf.complex(3.,-2.).numpy()"
   ]
  },
  {
   "cell_type": "code",
   "execution_count": 131,
   "id": "3c7a2e18",
   "metadata": {},
   "outputs": [
    {
     "data": {
      "text/plain": [
       "<tf.Tensor: shape=(4,), dtype=float64, numpy=array([1., 2., 3., 4.])>"
      ]
     },
     "execution_count": 131,
     "metadata": {},
     "output_type": "execute_result"
    }
   ],
   "source": [
    "#NumPy and Tensor\n",
    "J = tf.constant(np.array([1., 2., 3., 4.]))\n",
    "J"
   ]
  },
  {
   "cell_type": "code",
   "execution_count": 132,
   "id": "29874182",
   "metadata": {},
   "outputs": [
    {
     "data": {
      "text/plain": [
       "(array([1., 2., 3., 4.]), dtype('float64'), numpy.ndarray)"
      ]
     },
     "execution_count": 132,
     "metadata": {},
     "output_type": "execute_result"
    }
   ],
   "source": [
    "np.array(J), np.array(J).dtype, type(np.array(J))"
   ]
  },
  {
   "cell_type": "code",
   "execution_count": 133,
   "id": "9c04271a",
   "metadata": {},
   "outputs": [
    {
     "data": {
      "text/plain": [
       "array([1., 2., 3., 4.])"
      ]
     },
     "execution_count": 133,
     "metadata": {},
     "output_type": "execute_result"
    }
   ],
   "source": [
    "#Convert tensor J to NumPy\n",
    "J.numpy()"
   ]
  },
  {
   "cell_type": "code",
   "execution_count": 134,
   "id": "b150dba2",
   "metadata": {},
   "outputs": [
    {
     "data": {
      "text/plain": [
       "array([1., 3., 4.])"
      ]
     },
     "execution_count": 134,
     "metadata": {},
     "output_type": "execute_result"
    }
   ],
   "source": [
    "arr = np.array([1., 3, 4])\n",
    "arr"
   ]
  },
  {
   "cell_type": "code",
   "execution_count": 135,
   "id": "0017274c",
   "metadata": {},
   "outputs": [
    {
     "data": {
      "text/plain": [
       "dtype('float64')"
      ]
     },
     "execution_count": 135,
     "metadata": {},
     "output_type": "execute_result"
    }
   ],
   "source": [
    "arr.dtype"
   ]
  },
  {
   "cell_type": "code",
   "execution_count": 136,
   "id": "bac3a0bf",
   "metadata": {},
   "outputs": [
    {
     "name": "stdout",
     "output_type": "stream",
     "text": [
      "Epoch 1/10\n",
      "3/3 [==============================] - 2s 11ms/step - loss: 1207.0557 - mae: 1207.0557\n",
      "Epoch 2/10\n",
      "3/3 [==============================] - 0s 19ms/step - loss: 1169.6895 - mae: 1169.6895\n",
      "Epoch 3/10\n",
      "3/3 [==============================] - 0s 14ms/step - loss: 1113.7583 - mae: 1113.7583\n",
      "Epoch 4/10\n",
      "3/3 [==============================] - 0s 7ms/step - loss: 1045.3481 - mae: 1045.3481\n",
      "Epoch 5/10\n",
      "3/3 [==============================] - 0s 8ms/step - loss: 986.1634 - mae: 986.1634\n",
      "Epoch 6/10\n",
      "3/3 [==============================] - 0s 6ms/step - loss: 930.9632 - mae: 930.9632\n",
      "Epoch 7/10\n",
      "3/3 [==============================] - 0s 7ms/step - loss: 897.8503 - mae: 897.8503\n",
      "Epoch 8/10\n",
      "3/3 [==============================] - 0s 18ms/step - loss: 885.0991 - mae: 885.0991\n",
      "Epoch 9/10\n",
      "3/3 [==============================] - 0s 6ms/step - loss: 877.5956 - mae: 877.5956\n",
      "Epoch 10/10\n",
      "3/3 [==============================] - 0s 11ms/step - loss: 873.2407 - mae: 873.2407\n"
     ]
    },
    {
     "data": {
      "text/plain": [
       "<keras.callbacks.History at 0x2568769add0>"
      ]
     },
     "execution_count": 136,
     "metadata": {},
     "output_type": "execute_result"
    }
   ],
   "source": [
    "import tensorflow as tf\n",
    "import matplotlib.pyplot as plt\n",
    "import numpy as np\n",
    "\n",
    "# Generate test data\n",
    "test_x = tf.range(1, 10, 0.1)\n",
    "test_y = (test_x * tf.math.log(test_x)) ** 3 / 2\n",
    "test_y = tf.reshape(test_y, shape=(test_y.shape[0], 1))\n",
    "\n",
    "# Convert Tensorflow tensors to numpy arrays\n",
    "test_x_np = test_x.numpy()\n",
    "test_y_np = test_y.numpy()\n",
    "\n",
    "# Create a model\n",
    "model_test = tf.keras.Sequential([\n",
    "    tf.keras.layers.Dense(100, activation=\"relu\", input_shape=(1,)),  # Input shape needs to be specified for single-dimensional input\n",
    "    tf.keras.layers.Dense(1)\n",
    "])\n",
    "\n",
    "# Compile the model\n",
    "model_test.compile(loss=\"mae\",\n",
    "                   optimizer=tf.keras.optimizers.Adam(learning_rate=0.1),\n",
    "                   metrics=[\"mae\"])\n",
    "\n",
    "# Fit the model\n",
    "model_test.fit(test_x, test_y, epochs=10)"
   ]
  },
  {
   "cell_type": "code",
   "execution_count": 137,
   "id": "d4b737ab",
   "metadata": {},
   "outputs": [
    {
     "data": {
      "text/plain": [
       "(72, 72, 18, 18)"
      ]
     },
     "execution_count": 137,
     "metadata": {},
     "output_type": "execute_result"
    }
   ],
   "source": [
    "#Split the data into test set and train set\n",
    "x_train = test_x[:72]\n",
    "y_train = test_y[:72]\n",
    "\n",
    "x_test = test_x[72:]\n",
    "y_test = test_y[72:]\n",
    "\n",
    "len(x_train), len(y_train), len(x_test), len(x_test)"
   ]
  },
  {
   "cell_type": "code",
   "execution_count": null,
   "id": "1e759cf8",
   "metadata": {},
   "outputs": [],
   "source": [
    "plt.figure(figsize=(10, 7))\n",
    "plt.scatter(x_train, y_train, c=\"b\", label=\"Training data\")\n",
    "plt.scatter(x_test, y_test, c=\"g\", label=\"Testing data\")\n",
    "plt.legend();"
   ]
  },
  {
   "cell_type": "code",
   "execution_count": null,
   "id": "06ec8ff8",
   "metadata": {},
   "outputs": [],
   "source": []
  }
 ],
 "metadata": {
  "kernelspec": {
   "display_name": "Python 3 (ipykernel)",
   "language": "python",
   "name": "python3"
  },
  "language_info": {
   "codemirror_mode": {
    "name": "ipython",
    "version": 3
   },
   "file_extension": ".py",
   "mimetype": "text/x-python",
   "name": "python",
   "nbconvert_exporter": "python",
   "pygments_lexer": "ipython3",
   "version": "3.10.13"
  },
  "varInspector": {
   "cols": {
    "lenName": 16,
    "lenType": 16,
    "lenVar": 40
   },
   "kernels_config": {
    "python": {
     "delete_cmd_postfix": "",
     "delete_cmd_prefix": "del ",
     "library": "var_list.py",
     "varRefreshCmd": "print(var_dic_list())"
    },
    "r": {
     "delete_cmd_postfix": ") ",
     "delete_cmd_prefix": "rm(",
     "library": "var_list.r",
     "varRefreshCmd": "cat(var_dic_list()) "
    }
   },
   "types_to_exclude": [
    "module",
    "function",
    "builtin_function_or_method",
    "instance",
    "_Feature"
   ],
   "window_display": false
  }
 },
 "nbformat": 4,
 "nbformat_minor": 5
}
